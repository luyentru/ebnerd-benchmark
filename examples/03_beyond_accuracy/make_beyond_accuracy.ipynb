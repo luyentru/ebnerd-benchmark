{
 "cells": [
  {
   "cell_type": "markdown",
   "metadata": {},
   "source": [
    "# Hello\n",
    "\n",
    "This notebook is an example of how to make a beyond-accuracy dataset, and how one could make baselines"
   ]
  },
  {
   "cell_type": "markdown",
   "metadata": {},
   "source": [
    "# Get started"
   ]
  },
  {
   "cell_type": "markdown",
   "metadata": {},
   "source": [
    "## Dependencies"
   ]
  },
  {
   "cell_type": "code",
   "execution_count": 253,
   "metadata": {},
   "outputs": [],
   "source": [
    "from ebrec.utils._python import write_json_file, read_json_file\n",
    "from pathlib import Path\n",
    "import polars as pl\n",
    "import numpy as np\n",
    "\n",
    "from ebrec.utils._constants import (\n",
    "    DEFAULT_ARTICLE_PUBLISHED_TIMESTAMP_COL,\n",
    "    DEFAULT_ARTICLE_MODIFIED_TIMESTAMP_COL,\n",
    "    DEFAULT_IMPRESSION_TIMESTAMP_COL,\n",
    "    DEFAULT_HISTORY_ARTICLE_ID_COL,\n",
    "    DEFAULT_TOTAL_PAGEVIEWS_COL,\n",
    "    DEFAULT_INVIEW_ARTICLES_COL,\n",
    "    DEFAULT_SENTIMENT_SCORE_COL,\n",
    "    DEFAULT_SENTIMENT_LABEL_COL,\n",
    "    DEFAULT_TOTAL_INVIEWS_COL,\n",
    "    DEFAULT_IS_SUBSCRIBER_COL,\n",
    "    DEFAULT_CATEGORY_STR_COL,\n",
    "    DEFAULT_IS_SSO_USER_COL,\n",
    "    DEFAULT_ARTICLE_ID_COL,\n",
    "    DEFAULT_POSTCODE_COL,\n",
    "    DEFAULT_TOPICS_COL,\n",
    "    DEFAULT_GENDER_COL,\n",
    "    DEFAULT_USER_COL,\n",
    "    DEFAULT_AGE_COL,\n",
    ")\n",
    "\n",
    "from ebrec.evaluation.beyond_accuracy import (\n",
    "    IntralistDiversity,\n",
    "    Distribution,\n",
    "    Serendipity,\n",
    "    Sentiment,\n",
    "    Coverage,\n",
    "    Novelty,\n",
    ")\n",
    "\n",
    "from ebrec.utils._articles import create_sort_based_prediction_score\n",
    "from ebrec.utils._behaviors import truncate_history"
   ]
  },
  {
   "cell_type": "markdown",
   "metadata": {},
   "source": [
    "## Load dataset"
   ]
  },
  {
   "cell_type": "code",
   "execution_count": 254,
   "metadata": {},
   "outputs": [],
   "source": [
    "ROOT_FOLDER = \"evaluation_artifacts\"\n",
    "DATASET_SPLIT = \"test\"\n",
    "DATASET_SIZE = \"demo\"\n",
    "PATH = Path(f\"../downloads/{DATASET_SIZE}\")\n",
    "PATH_BEYOND_ACCURACY = PATH.joinpath(ROOT_FOLDER)\n",
    "PATH_BEYOND_ACCURACY.mkdir(exist_ok=True, parents=True)\n",
    "\n",
    "# LOAD:\n",
    "df_beyond_accuarcy = pl.scan_parquet(\n",
    "    PATH.joinpath(DATASET_SPLIT, \"behaviors.parquet\")\n",
    ").filter(pl.col(\"is_beyond_accuracy\"))\n",
    "df_behaviors = pl.scan_parquet(\n",
    "    PATH.joinpath(DATASET_SPLIT, \"behaviors.parquet\")\n",
    ").filter(~pl.col(\"is_beyond_accuracy\"))\n",
    "df_articles = pl.scan_parquet(PATH.joinpath(\"articles.parquet\"))\n",
    "df_history = pl.scan_parquet(PATH.joinpath(DATASET_SPLIT, \"history.parquet\")).select(\n",
    "    DEFAULT_USER_COL, DEFAULT_HISTORY_ARTICLE_ID_COL\n",
    ")"
   ]
  },
  {
   "cell_type": "markdown",
   "metadata": {},
   "source": [
    "### Output files for Beyond Accuracy"
   ]
  },
  {
   "cell_type": "code",
   "execution_count": 255,
   "metadata": {},
   "outputs": [],
   "source": [
    "BEYOND_ACCURACY_HISTORY_DICT = \"beyond_accuracy_history_dict.json\"\n",
    "BEYOND_ACCURACY_USERS_DICT = \"beyond_accuracy_users_dict.json\"\n",
    "CANDIDATE_LIST = \"candidate_list.json\"\n",
    "ARTICLES_DICT = \"articles_dict.json\"\n",
    "BEHAVIORS_TIMESTAMP_DICT = \"behaviors_timestamp_dict.json\""
   ]
  },
  {
   "cell_type": "markdown",
   "metadata": {},
   "source": [
    "# Make / Dump Metadata"
   ]
  },
  {
   "cell_type": "markdown",
   "metadata": {},
   "source": [
    "## Make candidate list for beyond-accuracy:"
   ]
  },
  {
   "cell_type": "markdown",
   "metadata": {},
   "source": [
    "We select the candidate list from the testset"
   ]
  },
  {
   "cell_type": "code",
   "execution_count": 256,
   "metadata": {},
   "outputs": [
    {
     "name": "stdout",
     "output_type": "stream",
     "text": [
      "Number of Candidate IDs: 250 (example: [9793163, 9793069, 9792076, 9792749, 9791280])\n",
      "Dump: ../downloads/demo/evaluation_artifacts/candidate_list.json\n"
     ]
    }
   ],
   "source": [
    "candidate_list = (\n",
    "    df_beyond_accuarcy.select(pl.col(DEFAULT_INVIEW_ARTICLES_COL).first())\n",
    "    .collect()\n",
    "    .to_series()\n",
    ")[0].to_list()\n",
    "write_json_file(candidate_list, PATH_BEYOND_ACCURACY.joinpath(CANDIDATE_LIST))\n",
    "\n",
    "print(f\"Number of Candidate IDs: {len(candidate_list)} (example: {candidate_list[:5]})\")\n",
    "print(f\"Dump: {PATH_BEYOND_ACCURACY.joinpath(CANDIDATE_LIST)}\")"
   ]
  },
  {
   "cell_type": "markdown",
   "metadata": {},
   "source": [
    "#### Sanity check"
   ]
  },
  {
   "cell_type": "code",
   "execution_count": 257,
   "metadata": {},
   "outputs": [
    {
     "name": "stdout",
     "output_type": "stream",
     "text": [
      "santity check - passed\n"
     ]
    }
   ],
   "source": [
    "load_candidate_list = read_json_file(PATH_BEYOND_ACCURACY.joinpath(CANDIDATE_LIST))\n",
    "if (\n",
    "    not (\n",
    "        df_beyond_accuarcy.select(DEFAULT_INVIEW_ARTICLES_COL).collect()\n",
    "        == candidate_list\n",
    "    )\n",
    "    .sum()[DEFAULT_INVIEW_ARTICLES_COL]\n",
    "    .to_list()[0]\n",
    "    == df_beyond_accuarcy.select(DEFAULT_INVIEW_ARTICLES_COL).collect().shape[0]\n",
    "):\n",
    "    raise ValueError(\"candidate_list is not identical in the testset\")\n",
    "\n",
    "if not (np.array(candidate_list) - np.array(load_candidate_list)).sum() == 0:\n",
    "    raise ValueError(\"candidate_list was not dump correctly\")\n",
    "\n",
    "print(\"santity check - passed\")"
   ]
  },
  {
   "cell_type": "markdown",
   "metadata": {},
   "source": [
    "## User meta data: Segments"
   ]
  },
  {
   "cell_type": "code",
   "execution_count": 258,
   "metadata": {},
   "outputs": [
    {
     "name": "stdout",
     "output_type": "stream",
     "text": [
      "Dump: ../downloads/demo/evaluation_artifacts/beyond_accuracy_users_dict.json\n",
      "#rows: 1615\n"
     ]
    },
    {
     "data": {
      "text/html": [
       "<div><style>\n",
       ".dataframe > thead > tr,\n",
       ".dataframe > tbody > tr {\n",
       "  text-align: right;\n",
       "  white-space: pre-wrap;\n",
       "}\n",
       "</style>\n",
       "<small>shape: (3, 5)</small><table border=\"1\" class=\"dataframe\"><thead><tr><th>is_subscriber</th><th>is_sso_user</th><th>postcode</th><th>gender</th><th>age</th></tr><tr><td>bool</td><td>bool</td><td>i8</td><td>i8</td><td>i8</td></tr></thead><tbody><tr><td>true</td><td>true</td><td>null</td><td>0</td><td>30</td></tr><tr><td>true</td><td>true</td><td>null</td><td>null</td><td>null</td></tr><tr><td>true</td><td>true</td><td>null</td><td>0</td><td>null</td></tr></tbody></table></div>"
      ],
      "text/plain": [
       "shape: (3, 5)\n",
       "┌───────────────┬─────────────┬──────────┬────────┬──────┐\n",
       "│ is_subscriber ┆ is_sso_user ┆ postcode ┆ gender ┆ age  │\n",
       "│ ---           ┆ ---         ┆ ---      ┆ ---    ┆ ---  │\n",
       "│ bool          ┆ bool        ┆ i8       ┆ i8     ┆ i8   │\n",
       "╞═══════════════╪═════════════╪══════════╪════════╪══════╡\n",
       "│ true          ┆ true        ┆ null     ┆ 0      ┆ 30   │\n",
       "│ true          ┆ true        ┆ null     ┆ null   ┆ null │\n",
       "│ true          ┆ true        ┆ null     ┆ 0      ┆ null │\n",
       "└───────────────┴─────────────┴──────────┴────────┴──────┘"
      ]
     },
     "execution_count": 258,
     "metadata": {},
     "output_type": "execute_result"
    }
   ],
   "source": [
    "user_meta_columns = [\n",
    "    DEFAULT_IS_SUBSCRIBER_COL,\n",
    "    DEFAULT_IS_SSO_USER_COL,\n",
    "    DEFAULT_POSTCODE_COL,\n",
    "    DEFAULT_GENDER_COL,\n",
    "    DEFAULT_AGE_COL,\n",
    "]\n",
    "df_users = df_beyond_accuarcy.select(pl.col(user_meta_columns)).collect()\n",
    "\n",
    "users_dict = {col: df_users[col].to_list() for col in df_users.columns}\n",
    "write_json_file(users_dict, PATH_BEYOND_ACCURACY.joinpath(BEYOND_ACCURACY_USERS_DICT))\n",
    "print(f\"Dump: {PATH_BEYOND_ACCURACY.joinpath(BEYOND_ACCURACY_USERS_DICT)}\")\n",
    "\n",
    "print(f\"#rows: {df_users.shape[0]}\")\n",
    "df_users.head(3)"
   ]
  },
  {
   "cell_type": "markdown",
   "metadata": {},
   "source": [
    "## User Histories"
   ]
  },
  {
   "cell_type": "code",
   "execution_count": 259,
   "metadata": {},
   "outputs": [
    {
     "name": "stdout",
     "output_type": "stream",
     "text": [
      "Dump: ../downloads/demo/evaluation_artifacts/beyond_accuracy_history_dict.json\n",
      "#rows: 1615\n"
     ]
    },
    {
     "data": {
      "text/html": [
       "<div><style>\n",
       ".dataframe > thead > tr,\n",
       ".dataframe > tbody > tr {\n",
       "  text-align: right;\n",
       "  white-space: pre-wrap;\n",
       "}\n",
       "</style>\n",
       "<small>shape: (3, 2)</small><table border=\"1\" class=\"dataframe\"><thead><tr><th>user_id</th><th>article_id_fixed</th></tr><tr><td>u32</td><td>list[i32]</td></tr></thead><tbody><tr><td>1744285</td><td>[9790532, 9790532, … 9790700]</td></tr><tr><td>631807</td><td>[9790756, 9790811, … 9790804]</td></tr><tr><td>1984028</td><td>[9789300, 9790942, … 9789896]</td></tr></tbody></table></div>"
      ],
      "text/plain": [
       "shape: (3, 2)\n",
       "┌─────────┬───────────────────────────────┐\n",
       "│ user_id ┆ article_id_fixed              │\n",
       "│ ---     ┆ ---                           │\n",
       "│ u32     ┆ list[i32]                     │\n",
       "╞═════════╪═══════════════════════════════╡\n",
       "│ 1744285 ┆ [9790532, 9790532, … 9790700] │\n",
       "│ 631807  ┆ [9790756, 9790811, … 9790804] │\n",
       "│ 1984028 ┆ [9789300, 9790942, … 9789896] │\n",
       "└─────────┴───────────────────────────────┘"
      ]
     },
     "execution_count": 259,
     "metadata": {},
     "output_type": "execute_result"
    }
   ],
   "source": [
    "HISTORY_SIZE = 10\n",
    "\n",
    "df_user_histoies = (\n",
    "    df_beyond_accuarcy.select(DEFAULT_USER_COL)\n",
    "    .join(df_history, on=DEFAULT_USER_COL, how=\"left\")\n",
    "    .pipe(\n",
    "        truncate_history,\n",
    "        column=DEFAULT_HISTORY_ARTICLE_ID_COL,\n",
    "        history_size=HISTORY_SIZE,\n",
    "        padding_value=None,\n",
    "        enable_warning=False,\n",
    "    )\n",
    "    .collect()\n",
    ")\n",
    "user_history_dict = {\n",
    "    DEFAULT_HISTORY_ARTICLE_ID_COL: df_user_histoies[\n",
    "        DEFAULT_HISTORY_ARTICLE_ID_COL\n",
    "    ].to_list()\n",
    "}\n",
    "write_json_file(\n",
    "    user_history_dict, PATH_BEYOND_ACCURACY.joinpath(BEYOND_ACCURACY_HISTORY_DICT)\n",
    ")\n",
    "print(f\"Dump: {PATH_BEYOND_ACCURACY.joinpath(BEYOND_ACCURACY_HISTORY_DICT)}\")\n",
    "\n",
    "print(f\"#rows: {df_user_histoies.shape[0]}\")\n",
    "df_user_histoies.head(3)"
   ]
  },
  {
   "cell_type": "markdown",
   "metadata": {},
   "source": [
    "## Timestamp for Behaviors"
   ]
  },
  {
   "cell_type": "markdown",
   "metadata": {},
   "source": [
    "Used for computing the AUC as function of time"
   ]
  },
  {
   "cell_type": "code",
   "execution_count": 398,
   "metadata": {},
   "outputs": [
    {
     "name": "stdout",
     "output_type": "stream",
     "text": [
      "Dump: ../downloads/demo/evaluation_artifacts/behaviors_timestamp_dict.json\n",
      "#rows: 27052\n"
     ]
    },
    {
     "data": {
      "text/html": [
       "<div><style>\n",
       ".dataframe > thead > tr,\n",
       ".dataframe > tbody > tr {\n",
       "  text-align: right;\n",
       "  white-space: pre-wrap;\n",
       "}\n",
       "</style>\n",
       "<small>shape: (3, 1)</small><table border=\"1\" class=\"dataframe\"><thead><tr><th>impression_time</th></tr><tr><td>str</td></tr></thead><tbody><tr><td>&quot;2023-06-05 15:…</td></tr><tr><td>&quot;2023-06-05 15:…</td></tr><tr><td>&quot;2023-06-01 10:…</td></tr></tbody></table></div>"
      ],
      "text/plain": [
       "shape: (3, 1)\n",
       "┌────────────────────────────┐\n",
       "│ impression_time            │\n",
       "│ ---                        │\n",
       "│ str                        │\n",
       "╞════════════════════════════╡\n",
       "│ 2023-06-05 15:18:16.000000 │\n",
       "│ 2023-06-05 15:36:07.000000 │\n",
       "│ 2023-06-01 10:25:38.000000 │\n",
       "└────────────────────────────┘"
      ]
     },
     "execution_count": 398,
     "metadata": {},
     "output_type": "execute_result"
    }
   ],
   "source": [
    "df_behaviors_timestamp = df_behaviors.select(\n",
    "    pl.col(DEFAULT_IMPRESSION_TIMESTAMP_COL).cast(pl.Utf8),\n",
    ").collect()\n",
    "behaviors_timestamp_dict = {\n",
    "    DEFAULT_IMPRESSION_TIMESTAMP_COL: df_behaviors_timestamp[\n",
    "        DEFAULT_IMPRESSION_TIMESTAMP_COL\n",
    "    ].to_list()\n",
    "}\n",
    "write_json_file(\n",
    "    behaviors_timestamp_dict, PATH_BEYOND_ACCURACY.joinpath(BEHAVIORS_TIMESTAMP_DICT)\n",
    ")\n",
    "print(f\"Dump: {PATH_BEYOND_ACCURACY.joinpath(BEHAVIORS_TIMESTAMP_DICT)}\")\n",
    "print(f\"#rows: {df_behaviors_timestamp.shape[0]}\")\n",
    "df_behaviors_timestamp.head(3)"
   ]
  },
  {
   "cell_type": "markdown",
   "metadata": {},
   "source": [
    "# Make Candidate lookup dict / Dump lookup dict"
   ]
  },
  {
   "cell_type": "markdown",
   "metadata": {},
   "source": [
    "### Articles to include: *candidate-list* and *history-articles*"
   ]
  },
  {
   "cell_type": "code",
   "execution_count": 399,
   "metadata": {},
   "outputs": [],
   "source": [
    "history_article_id = (\n",
    "    df_user_histoies.lazy()\n",
    "    .select(pl.col(DEFAULT_HISTORY_ARTICLE_ID_COL).explode().unique())\n",
    "    .collect()[DEFAULT_HISTORY_ARTICLE_ID_COL]\n",
    "    .to_list()\n",
    ")\n",
    "article_ids = candidate_list + history_article_id"
   ]
  },
  {
   "cell_type": "markdown",
   "metadata": {},
   "source": [
    "## Select articles that should be included in the lookup dictionary"
   ]
  },
  {
   "cell_type": "code",
   "execution_count": 529,
   "metadata": {},
   "outputs": [],
   "source": [
    "DEFAULT_TOTAL_PAGEVIEWS_COL_NORMALIZED_MAX = (\n",
    "    DEFAULT_TOTAL_PAGEVIEWS_COL + \"_normalized_max\"\n",
    ")\n",
    "DEFAULT_TOTAL_PAGEVIEWS_COL_NORMALIZED_MIN_MAX = (\n",
    "    DEFAULT_TOTAL_PAGEVIEWS_COL + \"_normalized_min_max\"\n",
    ")\n",
    "# =>\n",
    "df_lookup_articles = (\n",
    "    df_articles.filter(pl.col(DEFAULT_ARTICLE_ID_COL).is_in(article_ids))\n",
    "    .with_columns(\n",
    "        pl.col(\n",
    "            DEFAULT_ARTICLE_MODIFIED_TIMESTAMP_COL,\n",
    "            DEFAULT_ARTICLE_PUBLISHED_TIMESTAMP_COL,\n",
    "        ).cast(pl.Utf8)\n",
    "    )\n",
    "    # Zeros might cause issues\n",
    "    .with_columns(\n",
    "        pl.col(DEFAULT_TOTAL_INVIEWS_COL, DEFAULT_TOTAL_PAGEVIEWS_COL).fill_null(1)\n",
    "    )\n",
    "    # SIMPLE NORMALIZATION: x / max()\n",
    "    .with_columns(\n",
    "        (\n",
    "            pl.col(DEFAULT_TOTAL_PAGEVIEWS_COL)\n",
    "            / pl.col(DEFAULT_TOTAL_PAGEVIEWS_COL).max()\n",
    "        ).alias(DEFAULT_TOTAL_PAGEVIEWS_COL_NORMALIZED_MAX)\n",
    "    )\n",
    "    .collect()\n",
    ")\n",
    "\n",
    "_min = df_lookup_articles[DEFAULT_TOTAL_PAGEVIEWS_COL].min()\n",
    "_max = df_lookup_articles[DEFAULT_TOTAL_PAGEVIEWS_COL].max()\n",
    "\n",
    "df_lookup_articles = df_lookup_articles.with_columns(\n",
    "    (\n",
    "        1\n",
    "        + (\n",
    "            (\n",
    "                pl.col(DEFAULT_TOTAL_PAGEVIEWS_COL)\n",
    "                - pl.col(DEFAULT_TOTAL_PAGEVIEWS_COL).min()\n",
    "            )\n",
    "            * (\n",
    "                (df_lookup_articles.shape[0] - 1)\n",
    "                / (max - pl.col(DEFAULT_TOTAL_PAGEVIEWS_COL).min())\n",
    "            )\n",
    "        )\n",
    "    ).alias(DEFAULT_TOTAL_PAGEVIEWS_COL_NORMALIZED_MIN_MAX)\n",
    ")"
   ]
  },
  {
   "cell_type": "code",
   "execution_count": 530,
   "metadata": {},
   "outputs": [
    {
     "data": {
      "text/html": [
       "<div><style>\n",
       ".dataframe > thead > tr,\n",
       ".dataframe > tbody > tr {\n",
       "  text-align: right;\n",
       "  white-space: pre-wrap;\n",
       "}\n",
       "</style>\n",
       "<small>shape: (1_832, 23)</small><table border=\"1\" class=\"dataframe\"><thead><tr><th>article_id</th><th>title</th><th>subtitle</th><th>last_modified_time</th><th>premium</th><th>body</th><th>published_time</th><th>image_ids</th><th>article_type</th><th>url</th><th>ner_clusters</th><th>entity_groups</th><th>topics</th><th>category</th><th>subcategory</th><th>category_str</th><th>total_inviews</th><th>total_pageviews</th><th>total_read_time</th><th>sentiment_score</th><th>sentiment_label</th><th>total_pageviews_normalized_max</th><th>total_pageviews_normalized_min_max</th></tr><tr><td>i32</td><td>str</td><td>str</td><td>str</td><td>bool</td><td>str</td><td>str</td><td>list[i64]</td><td>str</td><td>str</td><td>list[str]</td><td>list[str]</td><td>list[str]</td><td>i16</td><td>list[i16]</td><td>str</td><td>i32</td><td>i32</td><td>f32</td><td>f32</td><td>str</td><td>f64</td><td>f64</td></tr></thead><tbody><tr><td>3196611</td><td>&quot;Zoo-tårnet 100…</td><td>&quot;I mange år var…</td><td>&quot;2023-06-29 06:…</td><td>false</td><td>&quot;I mange år var…</td><td>&quot;2005-06-10 05:…</td><td>[3067931, 3035588]</td><td>&quot;article_defaul…</td><td>&quot;https://ekstra…</td><td>[]</td><td>[]</td><td>[&quot;Kultur&quot;, &quot;Museum og seværdighed&quot;]</td><td>539</td><td>[]</td><td>&quot;ferie&quot;</td><td>1</td><td>1</td><td>null</td><td>0.6275</td><td>&quot;Neutral&quot;</td><td>0.000001</td><td>1.0</td></tr><tr><td>3971783</td><td>&quot;Paradise-Maria…</td><td>&quot;Reality-deltag…</td><td>&quot;2023-06-29 06:…</td><td>false</td><td>&quot;Paradise Hotel…</td><td>&quot;2013-04-17 17:…</td><td>null</td><td>&quot;article_defaul…</td><td>&quot;https://ekstra…</td><td>[]</td><td>[]</td><td>[&quot;Kendt&quot;, &quot;Livsstil&quot;, … &quot;Reality&quot;]</td><td>414</td><td>[425]</td><td>&quot;underholdning&quot;</td><td>1</td><td>1</td><td>null</td><td>0.959</td><td>&quot;Negative&quot;</td><td>0.000001</td><td>1.0</td></tr><tr><td>3977720</td><td>&quot;Allan Nielsen-…</td><td>&quot;Allan Nielsen …</td><td>&quot;2023-06-29 06:…</td><td>false</td><td>&quot;Allan Nielsen …</td><td>&quot;2013-05-01 14:…</td><td>[3793797]</td><td>&quot;article_defaul…</td><td>&quot;https://ekstra…</td><td>[]</td><td>[]</td><td>[&quot;Kendt&quot;, &quot;Livsstil&quot;, … &quot;Partnerskab&quot;]</td><td>414</td><td>[425]</td><td>&quot;underholdning&quot;</td><td>1</td><td>1</td><td>null</td><td>0.9506</td><td>&quot;Negative&quot;</td><td>0.000001</td><td>1.0</td></tr><tr><td>4003431</td><td>&quot;Mette Vibe Utz…</td><td>&quot;TV 2-værten ha…</td><td>&quot;2023-06-29 06:…</td><td>false</td><td>&quot;For omkring ni…</td><td>&quot;2012-12-09 09:…</td><td>[3923549]</td><td>&quot;article_defaul…</td><td>&quot;https://ekstra…</td><td>[]</td><td>[]</td><td>[&quot;Kendt&quot;, &quot;Livsstil&quot;, … &quot;Partnerskab&quot;]</td><td>414</td><td>[425]</td><td>&quot;underholdning&quot;</td><td>1</td><td>1</td><td>null</td><td>0.6584</td><td>&quot;Positive&quot;</td><td>0.000001</td><td>1.0</td></tr><tr><td>4045439</td><td>&quot;Utzon-ægtepar …</td><td>&quot;Mette Vibe Utz…</td><td>&quot;2023-06-29 06:…</td><td>false</td><td>&quot;Nyhedsoplæsere…</td><td>&quot;2012-03-08 11:…</td><td>[3715857, 3775175]</td><td>&quot;article_defaul…</td><td>&quot;https://ekstra…</td><td>[]</td><td>[]</td><td>[&quot;Kendt&quot;, &quot;Livsstil&quot;, … &quot;Køb og salg&quot;]</td><td>414</td><td>[425]</td><td>&quot;underholdning&quot;</td><td>1</td><td>1</td><td>null</td><td>0.8143</td><td>&quot;Neutral&quot;</td><td>0.000001</td><td>1.0</td></tr><tr><td>4085973</td><td>&quot;Allan Nielsen:…</td><td>&quot;Det kan godt v…</td><td>&quot;2023-06-29 06:…</td><td>false</td><td>&quot;Allan Nielsen …</td><td>&quot;2011-08-08 06:…</td><td>[3712141]</td><td>&quot;article_defaul…</td><td>&quot;https://ekstra…</td><td>[]</td><td>[]</td><td>[&quot;Erhverv&quot;, &quot;Privat virksomhed&quot;, … &quot;Økonomi&quot;]</td><td>414</td><td>[425]</td><td>&quot;underholdning&quot;</td><td>1</td><td>1</td><td>null</td><td>0.802</td><td>&quot;Negative&quot;</td><td>0.000001</td><td>1.0</td></tr><tr><td>4086433</td><td>&quot;Allan Nielsen:…</td><td>&quot;Den forhenvære…</td><td>&quot;2023-06-29 06:…</td><td>false</td><td>&quot;Allan Nielsen …</td><td>&quot;2011-08-04 11:…</td><td>[3676058, 3717851, 3676056]</td><td>&quot;article_defaul…</td><td>&quot;https://ekstra…</td><td>[]</td><td>[]</td><td>[&quot;Erhverv&quot;, &quot;Privat virksomhed&quot;, … &quot;Økonomi&quot;]</td><td>414</td><td>[425]</td><td>&quot;underholdning&quot;</td><td>1</td><td>1</td><td>null</td><td>0.9961</td><td>&quot;Negative&quot;</td><td>0.000001</td><td>1.0</td></tr><tr><td>4163017</td><td>&quot;Drop lufthavne…</td><td>&quot;Der er penge a…</td><td>&quot;2023-06-29 06:…</td><td>false</td><td>&quot;259 kroner. De…</td><td>&quot;2010-05-23 07:…</td><td>[3555765]</td><td>&quot;article_defaul…</td><td>&quot;https://ekstra…</td><td>[]</td><td>[]</td><td>[&quot;Transportmiddel&quot;, &quot;Økonomi&quot;, … &quot;Rejse&quot;]</td><td>539</td><td>[557]</td><td>&quot;ferie&quot;</td><td>1</td><td>1</td><td>null</td><td>0.667</td><td>&quot;Neutral&quot;</td><td>0.000001</td><td>1.0</td></tr><tr><td>4280152</td><td>&quot;Hjælp Fogh med…</td><td>&quot;Kongehuset med…</td><td>&quot;2023-06-29 06:…</td><td>false</td><td>&quot;Danmarks stats…</td><td>&quot;2009-04-08 09:…</td><td>[3423769]</td><td>&quot;article_defaul…</td><td>&quot;https://ekstra…</td><td>[&quot;Anders Fogh Rasmussen&quot;]</td><td>[&quot;PER&quot;]</td><td>[&quot;Kendt&quot;, &quot;Politik&quot;, &quot;National politik&quot;]</td><td>512</td><td>[]</td><td>&quot;nationen&quot;</td><td>1</td><td>1</td><td>null</td><td>0.6137</td><td>&quot;Positive&quot;</td><td>0.000001</td><td>1.0</td></tr><tr><td>4327174</td><td>&quot;De værste tivo…</td><td>&quot;Der har indtil…</td><td>&quot;2023-06-29 06:…</td><td>false</td><td>&quot;36 personer bl…</td><td>&quot;2008-07-16 12:…</td><td>[3349688, 3349682, 3349681]</td><td>&quot;article_defaul…</td><td>&quot;https://ekstra…</td><td>[]</td><td>[]</td><td>[&quot;Underholdning&quot;, &quot;Kultur&quot;, … &quot;Museum og seværdighed&quot;]</td><td>140</td><td>[]</td><td>&quot;krimi&quot;</td><td>1</td><td>1</td><td>null</td><td>0.9861</td><td>&quot;Negative&quot;</td><td>0.000001</td><td>1.0</td></tr><tr><td>4341574</td><td>&quot;Adolf Hitler h…</td><td>&quot;En gruppe AGF-…</td><td>&quot;2023-06-29 06:…</td><td>false</td><td>&quot;En gruppe AGF-…</td><td>&quot;2008-04-21 11:…</td><td>[3327680]</td><td>&quot;article_defaul…</td><td>&quot;https://ekstra…</td><td>[&quot;Adolf Hitler&quot;]</td><td>[&quot;PER&quot;]</td><td>[&quot;Begivenhed&quot;, &quot;Samfund&quot;, … &quot;Sportsbegivenhed&quot;]</td><td>142</td><td>[196, 199, … 211]</td><td>&quot;sport&quot;</td><td>1</td><td>1</td><td>null</td><td>0.569</td><td>&quot;Positive&quot;</td><td>0.000001</td><td>1.0</td></tr><tr><td>4431566</td><td>&quot;Sonays mor gri…</td><td>&quot;Dommeren i ret…</td><td>&quot;2023-06-29 06:…</td><td>false</td><td>&quot;Moderen til de…</td><td>&quot;2003-09-08 17:…</td><td>[3196394, 3041497]</td><td>&quot;article_defaul…</td><td>&quot;https://ekstra…</td><td>[]</td><td>[]</td><td>[&quot;Kriminalitet&quot;, &quot;Personfarlig kriminalitet&quot;]</td><td>140</td><td>[]</td><td>&quot;krimi&quot;</td><td>1</td><td>1</td><td>null</td><td>0.9551</td><td>&quot;Negative&quot;</td><td>0.000001</td><td>1.0</td></tr><tr><td>&hellip;</td><td>&hellip;</td><td>&hellip;</td><td>&hellip;</td><td>&hellip;</td><td>&hellip;</td><td>&hellip;</td><td>&hellip;</td><td>&hellip;</td><td>&hellip;</td><td>&hellip;</td><td>&hellip;</td><td>&hellip;</td><td>&hellip;</td><td>&hellip;</td><td>&hellip;</td><td>&hellip;</td><td>&hellip;</td><td>&hellip;</td><td>&hellip;</td><td>&hellip;</td><td>&hellip;</td><td>&hellip;</td></tr><tr><td>9793290</td><td>&quot;Moderaterne-pr…</td><td>&quot;Gadejuristen, …</td><td>&quot;2023-06-29 06:…</td><td>false</td><td>&quot;Social- og Bol…</td><td>&quot;2023-06-02 06:…</td><td>[9759933, 9754056]</td><td>&quot;article_defaul…</td><td>&quot;https://ekstra…</td><td>[&quot;Ældreministeriets departement&quot;, &quot;Bornholm&quot;, … &quot;Theil&quot;]</td><td>[&quot;ORG&quot;, &quot;LOC&quot;, … &quot;PER&quot;]</td><td>[&quot;Kriminalitet&quot;, &quot;Erhverv&quot;, … &quot;Udlejning&quot;]</td><td>118</td><td>[130, 131]</td><td>&quot;nyheder&quot;</td><td>313154</td><td>59039</td><td>2.783121e6</td><td>0.9745</td><td>&quot;Negative&quot;</td><td>0.077405</td><td>142.726806</td></tr><tr><td>9793297</td><td>&quot;29-årig dømt: …</td><td>&quot;Ud over fængse…</td><td>&quot;2023-06-29 06:…</td><td>false</td><td>&quot;En 29-årig man…</td><td>&quot;2023-06-02 06:…</td><td>null</td><td>&quot;article_defaul…</td><td>&quot;https://ekstra…</td><td>[&quot;Midt - og Vestsjællands Anklagemyndighed&quot;, &quot;Stevns&quot;, &quot;Twitter&quot;]</td><td>[&quot;ORG&quot;, &quot;LOC&quot;, &quot;ORG&quot;]</td><td>[&quot;Kriminalitet&quot;, &quot;Transportmiddel&quot;, &quot;Personfarlig kriminalitet&quot;]</td><td>140</td><td>[]</td><td>&quot;krimi&quot;</td><td>273089</td><td>56713</td><td>2.752068e6</td><td>0.9934</td><td>&quot;Negative&quot;</td><td>0.074356</td><td>137.143003</td></tr><tr><td>9793329</td><td>&quot;Danske Spil bl…</td><td>&quot;Brøndby IF off…</td><td>&quot;2023-06-29 06:…</td><td>false</td><td>&quot;Det bliver Dan…</td><td>&quot;2023-06-02 08:…</td><td>[9793410]</td><td>&quot;article_defaul…</td><td>&quot;https://ekstra…</td><td>[&quot;Booztlet&quot;, &quot;Brøndby IF&quot;, … &quot;Ole Palmå&quot;]</td><td>[&quot;PER&quot;, &quot;ORG&quot;, … &quot;PER&quot;]</td><td>[&quot;Erhverv&quot;, &quot;Privat virksomhed&quot;, … &quot;Ansættelsesforhold&quot;]</td><td>142</td><td>[196, 199, … 212]</td><td>&quot;sport&quot;</td><td>271781</td><td>52429</td><td>3.194545e6</td><td>0.6757</td><td>&quot;Positive&quot;</td><td>0.068739</td><td>126.858819</td></tr><tr><td>9793337</td><td>&quot;Daniel Agger s…</td><td>&quot;Chef- og assis…</td><td>&quot;2023-06-29 06:…</td><td>false</td><td>&quot;Daniel Agger o…</td><td>&quot;2023-06-02 07:…</td><td>[9793366, 9793369]</td><td>&quot;article_defaul…</td><td>&quot;https://ekstra…</td><td>[&quot;Ekstra Bladet&quot;, &quot;Fredericia&quot;, … &quot;Per Rud&quot;]</td><td>[&quot;ORG&quot;, &quot;LOC&quot;, … &quot;PER&quot;]</td><td>[&quot;Erhverv&quot;, &quot;Kendt&quot;, … &quot;Ansættelsesforhold&quot;]</td><td>142</td><td>[196, 199, 200]</td><td>&quot;sport&quot;</td><td>242602</td><td>70265</td><td>4.587044e6</td><td>0.921</td><td>&quot;Neutral&quot;</td><td>0.092124</td><td>169.675976</td></tr><tr><td>9793345</td><td>&quot;Medie: Hackerg…</td><td>&quot;Ekstra Bladet …</td><td>&quot;2023-06-29 06:…</td><td>false</td><td>&quot;Her til morgen…</td><td>&quot;2023-06-02 07:…</td><td>[9791131]</td><td>&quot;article_defaul…</td><td>&quot;https://ekstra…</td><td>[&quot;Anonymous Sudan&quot;, &quot;Ekstra Bladet&quot;, … &quot;TV2 No&quot;]</td><td>[&quot;ORG&quot;, &quot;ORG&quot;, … &quot;ORG&quot;]</td><td>[&quot;Kriminalitet&quot;, &quot;Erhverv&quot;, … &quot;Teknologi&quot;]</td><td>457</td><td>[2865]</td><td>&quot;forbrug&quot;</td><td>278766</td><td>55817</td><td>2.798207e6</td><td>0.9946</td><td>&quot;Negative&quot;</td><td>0.073181</td><td>134.992063</td></tr><tr><td>9793391</td><td>&quot;12 mænd snuppe…</td><td>&quot;NorthSide forl…</td><td>&quot;2023-06-29 06:…</td><td>false</td><td>&quot;Den aarhusians…</td><td>&quot;2023-06-02 07:…</td><td>[9793416]</td><td>&quot;article_defaul…</td><td>&quot;https://ekstra…</td><td>[&quot;Down the Drain&quot;, &quot;Ekstra Bladet&quot;, … &quot;Tobias Rahim&quot;]</td><td>[&quot;ORG&quot;, &quot;ORG&quot;, … &quot;PER&quot;]</td><td>[&quot;Kriminalitet&quot;, &quot;Underholdning&quot;, … &quot;Underholdningsbegivenhed&quot;]</td><td>498</td><td>[500]</td><td>&quot;musik&quot;</td><td>234667</td><td>48167</td><td>2.050573e6</td><td>0.538</td><td>&quot;Negative&quot;</td><td>0.063151</td><td>116.627449</td></tr><tr><td>9793399</td><td>&quot;TikTok-manden …</td><td>&quot;TikTok-manden …</td><td>&quot;2023-06-29 06:…</td><td>false</td><td>&quot;31-årige Mikke…</td><td>&quot;2023-06-02 07:…</td><td>[9793459]</td><td>&quot;article_defaul…</td><td>&quot;https://ekstra…</td><td>[&quot;Anders Larsson&quot;, &quot;Københavns Byret&quot;, … &quot;TikTok&quot;]</td><td>[&quot;PER&quot;, &quot;ORG&quot;, … &quot;ORG&quot;]</td><td>[&quot;Kriminalitet&quot;, &quot;Personfarlig kriminalitet&quot;]</td><td>140</td><td>[]</td><td>&quot;krimi&quot;</td><td>188512</td><td>64281</td><td>5.975447e6</td><td>0.9857</td><td>&quot;Negative&quot;</td><td>0.084278</td><td>155.310767</td></tr><tr><td>9793470</td><td>&quot;OB bekræfter: …</td><td>&quot;Gambieren Yank…</td><td>&quot;2023-06-29 06:…</td><td>false</td><td>&quot;OB er tæt på a…</td><td>&quot;2023-06-02 07:…</td><td>[9793467]</td><td>&quot;article_defaul…</td><td>&quot;https://ekstra…</td><td>[&quot;Ådalen&quot;, &quot;Björn Wesström&quot;, … &quot;Yankuba Minteh&quot;]</td><td>[&quot;LOC&quot;, &quot;PER&quot;, … &quot;PER&quot;]</td><td>[&quot;Erhverv&quot;, &quot;Kendt&quot;, … &quot;Ansættelsesforhold&quot;]</td><td>142</td><td>[196, 199, 208]</td><td>&quot;sport&quot;</td><td>211649</td><td>42591</td><td>2.036953e6</td><td>0.7433</td><td>&quot;Positive&quot;</td><td>0.05584</td><td>103.241686</td></tr><tr><td>9793541</td><td>&quot;Politiet indle…</td><td>&quot;Politiet indle…</td><td>&quot;2023-06-29 06:…</td><td>false</td><td>&quot;NSK (National …</td><td>&quot;2023-06-02 08:…</td><td>[9718315]</td><td>&quot;article_defaul…</td><td>&quot;https://ekstra…</td><td>[&quot;Danmark&quot;, &quot;Ekstra Bladet&quot;, … &quot;Peter Hummelgaard&quot;]</td><td>[&quot;LOC&quot;, &quot;ORG&quot;, … &quot;PER&quot;]</td><td>[&quot;Kriminalitet&quot;, &quot;Bandekriminalitet&quot;]</td><td>140</td><td>[]</td><td>&quot;krimi&quot;</td><td>227292</td><td>51447</td><td>2.899668e6</td><td>0.7776</td><td>&quot;Negative&quot;</td><td>0.067451</td><td>124.501427</td></tr><tr><td>9793547</td><td>&quot;Coop har fået …</td><td>&quot;Til trods for …</td><td>&quot;2023-06-29 06:…</td><td>false</td><td>&quot;Supermarkedsgi…</td><td>&quot;2023-06-02 08:…</td><td>[9793689, 9793685]</td><td>&quot;article_defaul…</td><td>&quot;https://ekstra…</td><td>[&quot;Coop&quot;, &quot;Coop&quot;, … &quot;Salling&quot;]</td><td>[&quot;LOC&quot;, &quot;ORG&quot;, … &quot;ORG&quot;]</td><td>[&quot;Erhverv&quot;, &quot;Privat virksomhed&quot;, … &quot;Makro&quot;]</td><td>2975</td><td>[]</td><td>&quot;penge&quot;</td><td>394923</td><td>116322</td><td>5.999006e6</td><td>0.6206</td><td>&quot;Negative&quot;</td><td>0.152508</td><td>280.240553</td></tr><tr><td>9793557</td><td>&quot;Cheftræner fær…</td><td>&quot;Sam Allardyce …</td><td>&quot;2023-06-29 06:…</td><td>false</td><td>&quot;Han forsøgte, …</td><td>&quot;2023-06-02 08:…</td><td>[9749413, 9793554]</td><td>&quot;article_defaul…</td><td>&quot;https://ekstra…</td><td>[&quot;Angus Kinnear&quot;, &quot;Championship&quot;, … &quot;Sam Allardyce&quot;]</td><td>[&quot;PER&quot;, &quot;EVENT&quot;, … &quot;PER&quot;]</td><td>[&quot;Kendt&quot;, &quot;Sport&quot;, &quot;Fodbold&quot;]</td><td>142</td><td>[196, 227, … 241]</td><td>&quot;sport&quot;</td><td>118146</td><td>13294</td><td>616174.0</td><td>0.8066</td><td>&quot;Negative&quot;</td><td>0.01743</td><td>32.911217</td></tr><tr><td>9793578</td><td>&quot;Det blev nej: …</td><td>&quot;De fleste af d…</td><td>&quot;2023-06-29 06:…</td><td>false</td><td>&quot;- Vi har modta…</td><td>&quot;2023-06-02 08:…</td><td>[9792461]</td><td>&quot;article_defaul…</td><td>&quot;https://ekstra…</td><td>[&quot;nationen&quot;, &quot;Region Hovedstaden&quot;]</td><td>[&quot;ORG&quot;, &quot;ORG&quot;]</td><td>[&quot;Uddannelse&quot;, &quot;Ungdomsuddannelse&quot;]</td><td>512</td><td>[]</td><td>&quot;nationen&quot;</td><td>229878</td><td>37163</td><td>2.45987e6</td><td>0.8018</td><td>&quot;Negative&quot;</td><td>0.048724</td><td>90.211212</td></tr></tbody></table></div>"
      ],
      "text/plain": [
       "shape: (1_832, 23)\n",
       "┌───────────┬───────────┬───────────┬───────────┬───┬───────────┬───────────┬───────────┬──────────┐\n",
       "│ article_i ┆ title     ┆ subtitle  ┆ last_modi ┆ … ┆ sentiment ┆ sentiment ┆ total_pag ┆ total_pa │\n",
       "│ d         ┆ ---       ┆ ---       ┆ fied_time ┆   ┆ _score    ┆ _label    ┆ eviews_no ┆ geviews_ │\n",
       "│ ---       ┆ str       ┆ str       ┆ ---       ┆   ┆ ---       ┆ ---       ┆ rmalized_ ┆ normaliz │\n",
       "│ i32       ┆           ┆           ┆ str       ┆   ┆ f32       ┆ str       ┆ max       ┆ ed_min_m │\n",
       "│           ┆           ┆           ┆           ┆   ┆           ┆           ┆ ---       ┆ …        │\n",
       "│           ┆           ┆           ┆           ┆   ┆           ┆           ┆ f64       ┆ ---      │\n",
       "│           ┆           ┆           ┆           ┆   ┆           ┆           ┆           ┆ f64      │\n",
       "╞═══════════╪═══════════╪═══════════╪═══════════╪═══╪═══════════╪═══════════╪═══════════╪══════════╡\n",
       "│ 3196611   ┆ Zoo-tårne ┆ I mange   ┆ 2023-06-2 ┆ … ┆ 0.6275    ┆ Neutral   ┆ 0.000001  ┆ 1.0      │\n",
       "│           ┆ t 100 år  ┆ år var    ┆ 9 06:23:0 ┆   ┆           ┆           ┆           ┆          │\n",
       "│           ┆           ┆ det god   ┆ 2.000000  ┆   ┆           ┆           ┆           ┆          │\n",
       "│           ┆           ┆ latin at  ┆           ┆   ┆           ┆           ┆           ┆          │\n",
       "│           ┆           ┆ …         ┆           ┆   ┆           ┆           ┆           ┆          │\n",
       "│ 3971783   ┆ Paradise- ┆ Reality-d ┆ 2023-06-2 ┆ … ┆ 0.959     ┆ Negative  ┆ 0.000001  ┆ 1.0      │\n",
       "│           ┆ Maria     ┆ eltageren ┆ 9 06:27:0 ┆   ┆           ┆           ┆           ┆          │\n",
       "│           ┆ vred på   ┆ skælder   ┆ 7.000000  ┆   ┆           ┆           ┆           ┆          │\n",
       "│           ┆ TV3: De   ┆ ud på…    ┆           ┆   ┆           ┆           ┆           ┆          │\n",
       "│           ┆ s…        ┆           ┆           ┆   ┆           ┆           ┆           ┆          │\n",
       "│ 3977720   ┆ Allan Nie ┆ Allan     ┆ 2023-06-2 ┆ … ┆ 0.9506    ┆ Negative  ┆ 0.000001  ┆ 1.0      │\n",
       "│           ┆ lsen-flir ┆ Nielsen   ┆ 9 06:27:1 ┆   ┆           ┆           ┆           ┆          │\n",
       "│           ┆ ten: Han  ┆ blokerede ┆ 2.000000  ┆   ┆           ┆           ┆           ┆          │\n",
       "│           ┆ raged…    ┆ dagen ef… ┆           ┆   ┆           ┆           ┆           ┆          │\n",
       "│ 4003431   ┆ Mette     ┆ TV        ┆ 2023-06-2 ┆ … ┆ 0.6584    ┆ Positive  ┆ 0.000001  ┆ 1.0      │\n",
       "│           ┆ Vibe      ┆ 2-værten  ┆ 9 06:28:5 ┆   ┆           ┆           ┆           ┆          │\n",
       "│           ┆ Utzon     ┆ havde     ┆ 0.000000  ┆   ┆           ┆           ┆           ┆          │\n",
       "│           ┆ luftede   ┆ taget     ┆           ┆   ┆           ┆           ┆           ┆          │\n",
       "│           ┆ sin nye…  ┆ kæresten… ┆           ┆   ┆           ┆           ┆           ┆          │\n",
       "│ 4045439   ┆ Utzon-ægt ┆ Mette     ┆ 2023-06-2 ┆ … ┆ 0.8143    ┆ Neutral   ┆ 0.000001  ┆ 1.0      │\n",
       "│           ┆ epar      ┆ Vibe      ┆ 9 06:31:5 ┆   ┆           ┆           ┆           ┆          │\n",
       "│           ┆ forgyldes ┆ Utzon og  ┆ 2.000000  ┆   ┆           ┆           ┆           ┆          │\n",
       "│           ┆ af skils… ┆ hendes    ┆           ┆   ┆           ┆           ┆           ┆          │\n",
       "│           ┆           ┆ mand …    ┆           ┆   ┆           ┆           ┆           ┆          │\n",
       "│ …         ┆ …         ┆ …         ┆ …         ┆ … ┆ …         ┆ …         ┆ …         ┆ …        │\n",
       "│ 9793470   ┆ OB bekræf ┆ Gambieren ┆ 2023-06-2 ┆ … ┆ 0.7433    ┆ Positive  ┆ 0.05584   ┆ 103.2416 │\n",
       "│           ┆ ter: Tæt  ┆ Yankuba   ┆ 9 06:49:1 ┆   ┆           ┆           ┆           ┆ 86       │\n",
       "│           ┆ på salg   ┆ Minteh er ┆ 7.000000  ┆   ┆           ┆           ┆           ┆          │\n",
       "│           ┆ af Min…   ┆ tæt …     ┆           ┆   ┆           ┆           ┆           ┆          │\n",
       "│ 9793541   ┆ Politiet  ┆ Politiet  ┆ 2023-06-2 ┆ … ┆ 0.7776    ┆ Negative  ┆ 0.067451  ┆ 124.5014 │\n",
       "│           ┆ indleder  ┆ indleder  ┆ 9 06:49:1 ┆   ┆           ┆           ┆           ┆ 27       │\n",
       "│           ┆ efterfors ┆ nu efterf ┆ 7.000000  ┆   ┆           ┆           ┆           ┆          │\n",
       "│           ┆ kning…    ┆ orskn…    ┆           ┆   ┆           ┆           ┆           ┆          │\n",
       "│ 9793547   ┆ Coop har  ┆ Til trods ┆ 2023-06-2 ┆ … ┆ 0.6206    ┆ Negative  ┆ 0.152508  ┆ 280.2405 │\n",
       "│           ┆ fået nok: ┆ for       ┆ 9 06:49:1 ┆   ┆           ┆           ┆           ┆ 53       │\n",
       "│           ┆ Vil       ┆ faldende  ┆ 7.000000  ┆   ┆           ┆           ┆           ┆          │\n",
       "│           ┆ presse    ┆ inflation ┆           ┆   ┆           ┆           ┆           ┆          │\n",
       "│           ┆ pr…       ┆ …         ┆           ┆   ┆           ┆           ┆           ┆          │\n",
       "│ 9793557   ┆ Cheftræne ┆ Sam       ┆ 2023-06-2 ┆ … ┆ 0.8066    ┆ Negative  ┆ 0.01743   ┆ 32.91121 │\n",
       "│           ┆ r færdig  ┆ Allardyce ┆ 9 06:49:1 ┆   ┆           ┆           ┆           ┆ 7        │\n",
       "│           ┆ i Leeds   ┆ fortsætte ┆ 7.000000  ┆   ┆           ┆           ┆           ┆          │\n",
       "│           ┆           ┆ r ikke i  ┆           ┆   ┆           ┆           ┆           ┆          │\n",
       "│           ┆           ┆ …         ┆           ┆   ┆           ┆           ┆           ┆          │\n",
       "│ 9793578   ┆ Det blev  ┆ De fleste ┆ 2023-06-2 ┆ … ┆ 0.8018    ┆ Negative  ┆ 0.048724  ┆ 90.21121 │\n",
       "│           ┆ nej:      ┆ af de fol ┆ 9 06:49:1 ┆   ┆           ┆           ┆           ┆ 2        │\n",
       "│           ┆ Forældre  ┆ keskoleel ┆ 7.000000  ┆   ┆           ┆           ┆           ┆          │\n",
       "│           ┆ desperate ┆ ever…     ┆           ┆   ┆           ┆           ┆           ┆          │\n",
       "└───────────┴───────────┴───────────┴───────────┴───┴───────────┴───────────┴───────────┴──────────┘"
      ]
     },
     "execution_count": 530,
     "metadata": {},
     "output_type": "execute_result"
    }
   ],
   "source": [
    "df_lookup_articles"
   ]
  },
  {
   "cell_type": "markdown",
   "metadata": {},
   "source": [
    "## Add embeddings representations"
   ]
  },
  {
   "cell_type": "code",
   "execution_count": 504,
   "metadata": {},
   "outputs": [
    {
     "name": "stdout",
     "output_type": "stream",
     "text": [
      "#rows: 1832\n"
     ]
    },
    {
     "data": {
      "text/html": [
       "<div><style>\n",
       ".dataframe > thead > tr,\n",
       ".dataframe > tbody > tr {\n",
       "  text-align: right;\n",
       "  white-space: pre-wrap;\n",
       "}\n",
       "</style>\n",
       "<small>shape: (2, 24)</small><table border=\"1\" class=\"dataframe\"><thead><tr><th>article_id</th><th>title</th><th>subtitle</th><th>last_modified_time</th><th>premium</th><th>body</th><th>published_time</th><th>image_ids</th><th>article_type</th><th>url</th><th>ner_clusters</th><th>entity_groups</th><th>topics</th><th>category</th><th>subcategory</th><th>category_str</th><th>total_inviews</th><th>total_pageviews</th><th>total_read_time</th><th>sentiment_score</th><th>sentiment_label</th><th>total_pageviews_normalized</th><th>contrastive_vector</th><th>document_vector</th></tr><tr><td>i32</td><td>str</td><td>str</td><td>str</td><td>bool</td><td>str</td><td>str</td><td>list[i64]</td><td>str</td><td>str</td><td>list[str]</td><td>list[str]</td><td>list[str]</td><td>i16</td><td>list[i16]</td><td>str</td><td>i32</td><td>i32</td><td>f32</td><td>f32</td><td>str</td><td>f64</td><td>list[f32]</td><td>list[f32]</td></tr></thead><tbody><tr><td>3196611</td><td>&quot;Zoo-tårnet 100…</td><td>&quot;I mange år var…</td><td>&quot;2023-06-29 06:…</td><td>false</td><td>&quot;I mange år var…</td><td>&quot;2005-06-10 05:…</td><td>[3067931, 3035588]</td><td>&quot;article_defaul…</td><td>&quot;https://ekstra…</td><td>[]</td><td>[]</td><td>[&quot;Kultur&quot;, &quot;Museum og seværdighed&quot;]</td><td>539</td><td>[]</td><td>&quot;ferie&quot;</td><td>1</td><td>1</td><td>null</td><td>0.6275</td><td>&quot;Neutral&quot;</td><td>0.000001</td><td>[-0.014504, 0.059745, … -0.046285]</td><td>[-0.01595, -0.071589, … 0.018402]</td></tr><tr><td>3971783</td><td>&quot;Paradise-Maria…</td><td>&quot;Reality-deltag…</td><td>&quot;2023-06-29 06:…</td><td>false</td><td>&quot;Paradise Hotel…</td><td>&quot;2013-04-17 17:…</td><td>null</td><td>&quot;article_defaul…</td><td>&quot;https://ekstra…</td><td>[]</td><td>[]</td><td>[&quot;Kendt&quot;, &quot;Livsstil&quot;, … &quot;Reality&quot;]</td><td>414</td><td>[425]</td><td>&quot;underholdning&quot;</td><td>1</td><td>1</td><td>null</td><td>0.959</td><td>&quot;Negative&quot;</td><td>0.000001</td><td>[-0.008399, 0.025603, … 0.021549]</td><td>[0.046812, 0.012343, … 0.005147]</td></tr></tbody></table></div>"
      ],
      "text/plain": [
       "shape: (2, 24)\n",
       "┌───────────┬───────────┬───────────┬───────────┬───┬───────────┬───────────┬───────────┬──────────┐\n",
       "│ article_i ┆ title     ┆ subtitle  ┆ last_modi ┆ … ┆ sentiment ┆ total_pag ┆ contrasti ┆ document │\n",
       "│ d         ┆ ---       ┆ ---       ┆ fied_time ┆   ┆ _label    ┆ eviews_no ┆ ve_vector ┆ _vector  │\n",
       "│ ---       ┆ str       ┆ str       ┆ ---       ┆   ┆ ---       ┆ rmalized  ┆ ---       ┆ ---      │\n",
       "│ i32       ┆           ┆           ┆ str       ┆   ┆ str       ┆ ---       ┆ list[f32] ┆ list[f32 │\n",
       "│           ┆           ┆           ┆           ┆   ┆           ┆ f64       ┆           ┆ ]        │\n",
       "╞═══════════╪═══════════╪═══════════╪═══════════╪═══╪═══════════╪═══════════╪═══════════╪══════════╡\n",
       "│ 3196611   ┆ Zoo-tårne ┆ I mange   ┆ 2023-06-2 ┆ … ┆ Neutral   ┆ 0.000001  ┆ [-0.01450 ┆ [-0.0159 │\n",
       "│           ┆ t 100 år  ┆ år var    ┆ 9 06:23:0 ┆   ┆           ┆           ┆ 4,        ┆ 5, -0.07 │\n",
       "│           ┆           ┆ det god   ┆ 2.000000  ┆   ┆           ┆           ┆ 0.059745, ┆ 1589, …  │\n",
       "│           ┆           ┆ latin at  ┆           ┆   ┆           ┆           ┆ …         ┆ 0.018402 │\n",
       "│           ┆           ┆ …         ┆           ┆   ┆           ┆           ┆ -0.04628… ┆ …        │\n",
       "│ 3971783   ┆ Paradise- ┆ Reality-d ┆ 2023-06-2 ┆ … ┆ Negative  ┆ 0.000001  ┆ [-0.00839 ┆ [0.04681 │\n",
       "│           ┆ Maria     ┆ eltageren ┆ 9 06:27:0 ┆   ┆           ┆           ┆ 9,        ┆ 2, 0.012 │\n",
       "│           ┆ vred på   ┆ skælder   ┆ 7.000000  ┆   ┆           ┆           ┆ 0.025603, ┆ 343, …   │\n",
       "│           ┆ TV3: De   ┆ ud på…    ┆           ┆   ┆           ┆           ┆ …         ┆ 0.005147 │\n",
       "│           ┆ s…        ┆           ┆           ┆   ┆           ┆           ┆ 0.021549… ┆ ]        │\n",
       "└───────────┴───────────┴───────────┴───────────┴───┴───────────┴───────────┴───────────┴──────────┘"
      ]
     },
     "execution_count": 504,
     "metadata": {},
     "output_type": "execute_result"
    }
   ],
   "source": [
    "# => Embeddings:\n",
    "BERT_VECTOR = \"bert_base_multilingual_cased\"\n",
    "ROBERTA_VECTOR = \"xlm_roberta_base\"\n",
    "\n",
    "CONTRASTIVE_VECTOR = \"contrastive_vector\"\n",
    "DOCUMENT_VECTOR = \"document_vector\"\n",
    "\n",
    "\n",
    "def load_join_embeddings(df: pl.DataFrame, emb_path: Path) -> pl.DataFrame:\n",
    "    emb_contrastive = (\n",
    "        pl.scan_parquet(PATH.parent.joinpath(emb_path))\n",
    "        .filter(pl.col(DEFAULT_ARTICLE_ID_COL).is_in(df.select(DEFAULT_ARTICLE_ID_COL)))\n",
    "        .collect()\n",
    "    )\n",
    "    return df.join(emb_contrastive, on=DEFAULT_ARTICLE_ID_COL, how=\"left\")\n",
    "\n",
    "\n",
    "df_lookup_articles = df_lookup_articles.pipe(\n",
    "    load_join_embeddings,\n",
    "    emb_path=f\"embeddings/Ekstra_Bladet_contrastive_vector/{CONTRASTIVE_VECTOR}.parquet\",\n",
    ").pipe(\n",
    "    load_join_embeddings,\n",
    "    emb_path=f\"embeddings/Ekstra_Bladet_word2vec/{DOCUMENT_VECTOR}.parquet\",\n",
    ")\n",
    "print(f\"#rows: {df_lookup_articles.shape[0]}\")\n",
    "df_lookup_articles.head(2)"
   ]
  },
  {
   "cell_type": "markdown",
   "metadata": {},
   "source": [
    "## Convert to lookup dictionary:"
   ]
  },
  {
   "cell_type": "code",
   "execution_count": 505,
   "metadata": {},
   "outputs": [
    {
     "name": "stdout",
     "output_type": "stream",
     "text": [
      "#articles: 1832\n",
      "Dump: ../downloads/demo/evaluation_artifacts/articles_dict.json\n"
     ]
    }
   ],
   "source": [
    "articles_dict = {}\n",
    "for row in df_lookup_articles.iter_rows(named=True):\n",
    "    # Note, all keys in dictionaries are converted to strings, when serializing an object to JSON format.\n",
    "    articles_dict[str(row[DEFAULT_ARTICLE_ID_COL])] = row\n",
    "# Write it:\n",
    "write_json_file(articles_dict, PATH_BEYOND_ACCURACY.joinpath(ARTICLES_DICT))\n",
    "print(f\"#articles: {len(articles_dict)}\")\n",
    "print(f\"Dump: {PATH_BEYOND_ACCURACY.joinpath(ARTICLES_DICT)}\")"
   ]
  },
  {
   "cell_type": "markdown",
   "metadata": {},
   "source": [
    "# Make Baselines"
   ]
  },
  {
   "cell_type": "markdown",
   "metadata": {},
   "source": [
    "Make a couple *Baselines* based on the candidate-list:\n",
    "1. @EditorialPicks: We approximate this based on the number **inview** an articles have recived. Ekstra Bladet is front-page driven, meaning, if an article has a lot of inview-impression (seen) a lot, we believe it has been selected to be in a top priority from the editors. This is static (it does change for our *candidate_list*), i.e., the computation is done once.\n",
    "2. @Popular: We approximate this based on the number **clicks** an articles have recived. This is static (it does change for our *candidate_list*), i.e., the computation is done once.\n",
    "3. @Random: Simple baseline and important baseline. We simple pick a set of *top-n* articles from the *candidate-list* and run multiple times.\n",
    "4. @Dissimilarity / Similarity (will come later): Select top-n articles that are the most similar / dissimilar. \n",
    "5. @Newest: Simply pick the newest released articles. We do see newssite where the top banner is *Newest released*. We include it, but note this is very sensitive and might not be meaningful."
   ]
  },
  {
   "cell_type": "markdown",
   "metadata": {},
   "source": [
    "### Load the artifacts"
   ]
  },
  {
   "cell_type": "code",
   "execution_count": 506,
   "metadata": {},
   "outputs": [
    {
     "name": "stdout",
     "output_type": "stream",
     "text": [
      "#behaviors_timestamp_dict: 27052\n",
      "#history_dict: 1615\n",
      " history_dict.keys(): dict_keys(['article_id_fixed'])\n",
      "#users_dict 1615\n",
      " users_dict.keys(): dict_keys(['is_subscriber', 'is_sso_user', 'postcode', 'gender', 'age'])\n",
      "#user_history_dict 1615\n",
      " users_dict.keys(): dict_keys(['article_id_fixed'])\n",
      "#articles_dict: 1832\n",
      " articles_dict[ID].keys(): dict_keys(['article_id', 'title', 'subtitle', 'last_modified_time', 'premium', 'body', 'published_time', 'image_ids', 'article_type', 'url', 'ner_clusters', 'entity_groups', 'topics', 'category', 'subcategory', 'category_str', 'total_inviews', 'total_pageviews', 'total_read_time', 'sentiment_score', 'sentiment_label', 'total_pageviews_normalized', 'contrastive_vector', 'document_vector'])\n",
      "#candidate_list: 154\n"
     ]
    }
   ],
   "source": [
    "def n_items(d) -> int:\n",
    "    return len(d[list(d)[0]])\n",
    "\n",
    "\n",
    "# =>\n",
    "behaviors_timestamp_dict = read_json_file(\n",
    "    PATH_BEYOND_ACCURACY.joinpath(BEHAVIORS_TIMESTAMP_DICT)\n",
    ")\n",
    "print(f\"#behaviors_timestamp_dict: {n_items(behaviors_timestamp_dict)}\")\n",
    "\n",
    "# =>\n",
    "history_dict = read_json_file(\n",
    "    PATH_BEYOND_ACCURACY.joinpath(BEYOND_ACCURACY_HISTORY_DICT)\n",
    ")\n",
    "print(\n",
    "    f\"#history_dict: {n_items(history_dict)}\\n history_dict.keys(): {history_dict.keys()}\"\n",
    ")\n",
    "\n",
    "# =>\n",
    "users_dict = read_json_file(PATH_BEYOND_ACCURACY.joinpath(BEYOND_ACCURACY_USERS_DICT))\n",
    "print(f\"#users_dict {n_items(users_dict)}\\n users_dict.keys(): {users_dict.keys()}\")\n",
    "\n",
    "# =>\n",
    "user_history_dict = read_json_file(\n",
    "    PATH_BEYOND_ACCURACY.joinpath(BEYOND_ACCURACY_HISTORY_DICT)\n",
    ")\n",
    "print(\n",
    "    f\"#user_history_dict {n_items(user_history_dict)}\\n users_dict.keys(): {user_history_dict.keys()}\"\n",
    ")\n",
    "\n",
    "# =>\n",
    "articles_dict = {\n",
    "    int(key): val\n",
    "    for key, val in read_json_file(PATH_BEYOND_ACCURACY.joinpath(ARTICLES_DICT)).items()\n",
    "}\n",
    "aid_keys = articles_dict[list(articles_dict)[0]].keys()\n",
    "print(f\"#articles_dict: {len(articles_dict)}\\n articles_dict[ID].keys(): {aid_keys}\")\n",
    "\n",
    "# => Only the once actually found in the dataset (for demo only 154 of 250 are represent)\n",
    "candidate_list = [\n",
    "    id\n",
    "    for id in read_json_file(PATH_BEYOND_ACCURACY.joinpath(CANDIDATE_LIST))\n",
    "    if id in list(articles_dict)\n",
    "]\n",
    "print(f\"#candidate_list: {len(candidate_list)}\")"
   ]
  },
  {
   "cell_type": "markdown",
   "metadata": {},
   "source": [
    "## Make Ranked Candidate lists"
   ]
  },
  {
   "cell_type": "markdown",
   "metadata": {},
   "source": [
    "### Editorical Pick\n"
   ]
  },
  {
   "cell_type": "code",
   "execution_count": 507,
   "metadata": {},
   "outputs": [
    {
     "name": "stdout",
     "output_type": "stream",
     "text": [
      "shape: (2, 3)\n",
      "┌────────────┬───────────────┬──────────────────┐\n",
      "│ article_id ┆ total_inviews ┆ prediction_score │\n",
      "│ ---        ┆ ---           ┆ ---              │\n",
      "│ i32        ┆ i32           ┆ f64              │\n",
      "╞════════════╪═══════════════╪══════════════════╡\n",
      "│ 9695098    ┆ 4032918       ┆ 1.0              │\n",
      "│ 9777983    ┆ 3889163       ┆ 0.5              │\n",
      "└────────────┴───────────────┴──────────────────┘\n",
      "[[9695098 9777983]]\n"
     ]
    }
   ],
   "source": [
    "df_candidates_editorial_picks = create_sort_based_prediction_score(\n",
    "    df_lookup_articles, column=DEFAULT_TOTAL_INVIEWS_COL, desc=True\n",
    ")\n",
    "candidates_editorial_picks = np.array(\n",
    "    [df_candidates_editorial_picks.select(DEFAULT_ARTICLE_ID_COL).to_series()]\n",
    ")\n",
    "# =>\n",
    "print(df_candidates_editorial_picks.head(2))\n",
    "print(candidates_editorial_picks[:, :2])"
   ]
  },
  {
   "cell_type": "markdown",
   "metadata": {},
   "source": [
    "### Popular"
   ]
  },
  {
   "cell_type": "code",
   "execution_count": 508,
   "metadata": {},
   "outputs": [
    {
     "name": "stdout",
     "output_type": "stream",
     "text": [
      "shape: (2, 3)\n",
      "┌────────────┬─────────────────┬──────────────────┐\n",
      "│ article_id ┆ total_pageviews ┆ prediction_score │\n",
      "│ ---        ┆ ---             ┆ ---              │\n",
      "│ i32        ┆ i32             ┆ f64              │\n",
      "╞════════════╪═════════════════╪══════════════════╡\n",
      "│ 9765641    ┆ 762726          ┆ 1.0              │\n",
      "│ 9765410    ┆ 410966          ┆ 0.5              │\n",
      "└────────────┴─────────────────┴──────────────────┘\n",
      "[[9765641 9765410]]\n"
     ]
    }
   ],
   "source": [
    "df_candidates_popular = create_sort_based_prediction_score(\n",
    "    df_lookup_articles, column=DEFAULT_TOTAL_PAGEVIEWS_COL, desc=True\n",
    ")\n",
    "candidates_popular = np.array(\n",
    "    [df_candidates_popular.select(DEFAULT_ARTICLE_ID_COL).to_series()]\n",
    ")\n",
    "# =>\n",
    "print(df_candidates_popular.head(2))\n",
    "print(candidates_popular[:, :2])"
   ]
  },
  {
   "cell_type": "markdown",
   "metadata": {},
   "source": [
    "### Newest"
   ]
  },
  {
   "cell_type": "code",
   "execution_count": 509,
   "metadata": {},
   "outputs": [
    {
     "name": "stdout",
     "output_type": "stream",
     "text": [
      "shape: (2, 3)\n",
      "┌────────────┬────────────────────────────┬──────────────────┐\n",
      "│ article_id ┆ published_time             ┆ prediction_score │\n",
      "│ ---        ┆ ---                        ┆ ---              │\n",
      "│ i32        ┆ str                        ┆ f64              │\n",
      "╞════════════╪════════════════════════════╪══════════════════╡\n",
      "│ 4431566    ┆ 2003-09-08 17:10:00.000000 ┆ 1.0              │\n",
      "│ 3196611    ┆ 2005-06-10 05:40:00.000000 ┆ 0.5              │\n",
      "└────────────┴────────────────────────────┴──────────────────┘\n",
      "[[4431566 3196611]]\n"
     ]
    }
   ],
   "source": [
    "df_candidates_newest = create_sort_based_prediction_score(\n",
    "    df_lookup_articles, column=DEFAULT_ARTICLE_PUBLISHED_TIMESTAMP_COL, desc=False\n",
    ")\n",
    "candidates_newest = np.array(\n",
    "    [df_candidates_newest.select(DEFAULT_ARTICLE_ID_COL).to_series()]\n",
    ")\n",
    "# =>\n",
    "print(df_candidates_newest.head(2))\n",
    "print(candidates_newest[:, :2])"
   ]
  },
  {
   "cell_type": "markdown",
   "metadata": {},
   "source": [
    "## Init Metrics"
   ]
  },
  {
   "cell_type": "code",
   "execution_count": 510,
   "metadata": {},
   "outputs": [],
   "source": [
    "instralist_diversity = IntralistDiversity()\n",
    "distribution = Distribution()\n",
    "serendipity = Serendipity()\n",
    "sentiment = Sentiment()\n",
    "coverage = Coverage()\n",
    "novelty = Novelty()"
   ]
  },
  {
   "cell_type": "markdown",
   "metadata": {},
   "source": [
    "## Setting Baselines (and your model)"
   ]
  },
  {
   "cell_type": "code",
   "execution_count": 511,
   "metadata": {},
   "outputs": [
    {
     "name": "stdout",
     "output_type": "stream",
     "text": [
      "#random-iterations: 1615\n",
      "Top@5 ranked articles\n"
     ]
    }
   ],
   "source": [
    "RANDOM_ITER = df_beyond_accuarcy.select(DEFAULT_INVIEW_ARTICLES_COL).collect().shape[0]\n",
    "TOP_N = 5\n",
    "\n",
    "np.random.seed(123)\n",
    "# Make list:\n",
    "top_n_candidates_random = [\n",
    "    np.random.choice(candidate_list, size=TOP_N, replace=False)\n",
    "    for _ in range(RANDOM_ITER)\n",
    "]\n",
    "top_n_candidates_editorial_picks = candidates_editorial_picks[:, :TOP_N]\n",
    "top_n_candidates_popular = candidates_popular[:, :TOP_N]\n",
    "top_n_candidates_newest = candidates_newest[:, :TOP_N]\n",
    "#\n",
    "# Set them as tuples, just to loop through it:\n",
    "candidates_name_pairs = [\n",
    "    [top_n_candidates_editorial_picks, \"editorial_picks\"],\n",
    "    [top_n_candidates_popular, \"popular\"],\n",
    "    [top_n_candidates_random, \"random\"],\n",
    "    [top_n_candidates_newest, \"newest\"],\n",
    "]\n",
    "# =>\n",
    "user_history = user_history_dict[DEFAULT_HISTORY_ARTICLE_ID_COL]\n",
    "\n",
    "print(f\"#random-iterations: {RANDOM_ITER}\")\n",
    "print(f\"Top@{TOP_N} ranked articles\")"
   ]
  },
  {
   "cell_type": "markdown",
   "metadata": {},
   "source": [
    "### Your Model\n",
    "Try to add your model's prediction of the candidate list. In this notebook we just take a random sample."
   ]
  },
  {
   "cell_type": "code",
   "execution_count": 512,
   "metadata": {},
   "outputs": [],
   "source": [
    "candidates_your_model = [\n",
    "    np.random.choice(candidate_list, size=TOP_N, replace=False)\n",
    "    for _ in range(RANDOM_ITER)\n",
    "]\n",
    "candidates_name_pairs.append([candidates_your_model, \"random_2\"])"
   ]
  },
  {
   "cell_type": "markdown",
   "metadata": {},
   "source": [
    "## User-level"
   ]
  },
  {
   "cell_type": "markdown",
   "metadata": {},
   "source": [
    "### Instralist-Diversity"
   ]
  },
  {
   "cell_type": "code",
   "execution_count": 513,
   "metadata": {},
   "outputs": [
    {
     "data": {
      "text/html": [
       "<div><style>\n",
       ".dataframe > thead > tr,\n",
       ".dataframe > tbody > tr {\n",
       "  text-align: right;\n",
       "  white-space: pre-wrap;\n",
       "}\n",
       "</style>\n",
       "<small>shape: (1, 5)</small><table border=\"1\" class=\"dataframe\"><thead><tr><th>editorial_picks_intralist_diversity</th><th>popular_intralist_diversity</th><th>random_intralist_diversity</th><th>newest_intralist_diversity</th><th>random_2_intralist_diversity</th></tr><tr><td>f64</td><td>f64</td><td>f64</td><td>f64</td><td>f64</td></tr></thead><tbody><tr><td>0.863011</td><td>0.857918</td><td>0.790407</td><td>0.78967</td><td>0.778713</td></tr></tbody></table></div>"
      ],
      "text/plain": [
       "shape: (1, 5)\n",
       "┌───────────────────┬───────────────────┬───────────────────┬───────────────────┬──────────────────┐\n",
       "│ editorial_picks_i ┆ popular_intralist ┆ random_intralist_ ┆ newest_intralist_ ┆ random_2_intrali │\n",
       "│ ntralist_divers…  ┆ _diversity        ┆ diversity         ┆ diversity         ┆ st_diversity     │\n",
       "│ ---               ┆ ---               ┆ ---               ┆ ---               ┆ ---              │\n",
       "│ f64               ┆ f64               ┆ f64               ┆ f64               ┆ f64              │\n",
       "╞═══════════════════╪═══════════════════╪═══════════════════╪═══════════════════╪══════════════════╡\n",
       "│ 0.863011          ┆ 0.857918          ┆ 0.790407          ┆ 0.78967           ┆ 0.778713         │\n",
       "└───────────────────┴───────────────────┴───────────────────┴───────────────────┴──────────────────┘"
      ]
     },
     "execution_count": 513,
     "metadata": {},
     "output_type": "execute_result"
    }
   ],
   "source": [
    "instralist_diversity_dict = {\n",
    "    f\"{list_name}_{instralist_diversity.name}\": instralist_diversity(\n",
    "        candidates,\n",
    "        lookup_dict=articles_dict,\n",
    "        lookup_key=CONTRASTIVE_VECTOR,\n",
    "    )[0]\n",
    "    for candidates, list_name in candidates_name_pairs\n",
    "}\n",
    "pl.DataFrame(instralist_diversity_dict)"
   ]
  },
  {
   "cell_type": "markdown",
   "metadata": {},
   "source": [
    "#### The embedding representation\n",
    "This might be obvious, but the embedding representation used for computing a metric is very influential. Hence, baselines are important to determine high and low scores. Also, this is why these metrics can be very hard to interpret for us."
   ]
  },
  {
   "cell_type": "code",
   "execution_count": 514,
   "metadata": {},
   "outputs": [
    {
     "name": "stdout",
     "output_type": "stream",
     "text": [
      "contrastive_vector: 0.8630108603624279\n",
      "document_vector: 0.17595505841795683\n"
     ]
    }
   ],
   "source": [
    "ROBERTA_EMB = \"FacebookAI/xlm-roberta-base\"\n",
    "BERT_EMB = \"google-bert/bert-base-multilingual-cased\"\n",
    "print(\n",
    "    f\"{CONTRASTIVE_VECTOR}: {instralist_diversity(top_n_candidates_editorial_picks, lookup_dict=articles_dict, lookup_key=CONTRASTIVE_VECTOR)[0]}\"\n",
    ")\n",
    "print(\n",
    "    f\"{DOCUMENT_VECTOR}: {instralist_diversity(top_n_candidates_editorial_picks, lookup_dict=articles_dict, lookup_key=DOCUMENT_VECTOR)[0]}\"\n",
    ")"
   ]
  },
  {
   "cell_type": "markdown",
   "metadata": {},
   "source": [
    "### Sentiment"
   ]
  },
  {
   "cell_type": "code",
   "execution_count": 515,
   "metadata": {},
   "outputs": [
    {
     "data": {
      "text/html": [
       "<div><style>\n",
       ".dataframe > thead > tr,\n",
       ".dataframe > tbody > tr {\n",
       "  text-align: right;\n",
       "  white-space: pre-wrap;\n",
       "}\n",
       "</style>\n",
       "<small>shape: (1, 5)</small><table border=\"1\" class=\"dataframe\"><thead><tr><th>editorial_picks_sentiment</th><th>popular_sentiment</th><th>random_sentiment</th><th>newest_sentiment</th><th>random_2_sentiment</th></tr><tr><td>f64</td><td>f64</td><td>f64</td><td>f64</td><td>f64</td></tr></thead><tbody><tr><td>0.86018</td><td>0.8884</td><td>0.895</td><td>0.8265</td><td>0.92832</td></tr></tbody></table></div>"
      ],
      "text/plain": [
       "shape: (1, 5)\n",
       "┌────────────────────┬───────────────────┬──────────────────┬──────────────────┬───────────────────┐\n",
       "│ editorial_picks_se ┆ popular_sentiment ┆ random_sentiment ┆ newest_sentiment ┆ random_2_sentimen │\n",
       "│ ntiment            ┆ ---               ┆ ---              ┆ ---              ┆ t                 │\n",
       "│ ---                ┆ f64               ┆ f64              ┆ f64              ┆ ---               │\n",
       "│ f64                ┆                   ┆                  ┆                  ┆ f64               │\n",
       "╞════════════════════╪═══════════════════╪══════════════════╪══════════════════╪═══════════════════╡\n",
       "│ 0.86018            ┆ 0.8884            ┆ 0.895            ┆ 0.8265           ┆ 0.92832           │\n",
       "└────────────────────┴───────────────────┴──────────────────┴──────────────────┴───────────────────┘"
      ]
     },
     "execution_count": 515,
     "metadata": {},
     "output_type": "execute_result"
    }
   ],
   "source": [
    "sentiment_dict = {\n",
    "    f\"{list_name}_{sentiment.name}\": sentiment(\n",
    "        candidates,\n",
    "        lookup_dict=articles_dict,\n",
    "        lookup_key=DEFAULT_SENTIMENT_SCORE_COL,\n",
    "    )[0]\n",
    "    for candidates, list_name in candidates_name_pairs\n",
    "}\n",
    "pl.DataFrame(sentiment_dict)"
   ]
  },
  {
   "cell_type": "markdown",
   "metadata": {},
   "source": [
    "### Serendipity\n",
    "When computing Serendipity it using the user's history; similarity between recommendations and browsed items"
   ]
  },
  {
   "cell_type": "code",
   "execution_count": 516,
   "metadata": {},
   "outputs": [
    {
     "data": {
      "text/plain": [
       "1615"
      ]
     },
     "execution_count": 516,
     "metadata": {},
     "output_type": "execute_result"
    }
   ],
   "source": [
    "len(user_history)"
   ]
  },
  {
   "cell_type": "code",
   "execution_count": 517,
   "metadata": {},
   "outputs": [
    {
     "data": {
      "text/html": [
       "<div><style>\n",
       ".dataframe > thead > tr,\n",
       ".dataframe > tbody > tr {\n",
       "  text-align: right;\n",
       "  white-space: pre-wrap;\n",
       "}\n",
       "</style>\n",
       "<small>shape: (1, 5)</small><table border=\"1\" class=\"dataframe\"><thead><tr><th>editorial_picks_serendipity</th><th>popular_serendipity</th><th>random_serendipity</th><th>newest_serendipity</th><th>random_2_serendipity</th></tr><tr><td>f64</td><td>f64</td><td>f64</td><td>f64</td><td>f64</td></tr></thead><tbody><tr><td>0.835938</td><td>0.826826</td><td>0.79126</td><td>0.82968</td><td>0.791841</td></tr></tbody></table></div>"
      ],
      "text/plain": [
       "shape: (1, 5)\n",
       "┌───────────────────┬───────────────────┬───────────────────┬───────────────────┬──────────────────┐\n",
       "│ editorial_picks_s ┆ popular_serendipi ┆ random_serendipit ┆ newest_serendipit ┆ random_2_serendi │\n",
       "│ erendipity        ┆ ty                ┆ y                 ┆ y                 ┆ pity             │\n",
       "│ ---               ┆ ---               ┆ ---               ┆ ---               ┆ ---              │\n",
       "│ f64               ┆ f64               ┆ f64               ┆ f64               ┆ f64              │\n",
       "╞═══════════════════╪═══════════════════╪═══════════════════╪═══════════════════╪══════════════════╡\n",
       "│ 0.835938          ┆ 0.826826          ┆ 0.79126           ┆ 0.82968           ┆ 0.791841         │\n",
       "└───────────────────┴───────────────────┴───────────────────┴───────────────────┴──────────────────┘"
      ]
     },
     "execution_count": 517,
     "metadata": {},
     "output_type": "execute_result"
    }
   ],
   "source": [
    "### ADD USER HISTORY\n",
    "serendipity_dict = {}\n",
    "for candidates, list_name in candidates_name_pairs:\n",
    "    if len(candidates) == 1:\n",
    "        candidates = np.tile(candidates, len(user_history)).reshape(-1, TOP_N)\n",
    "    #\n",
    "    serendipity_dict[f\"{list_name}_{serendipity.name}\"] = serendipity(\n",
    "        candidates,\n",
    "        H=user_history,\n",
    "        lookup_dict=articles_dict,\n",
    "        lookup_key=CONTRASTIVE_VECTOR,\n",
    "    ).mean()\n",
    "\n",
    "pl.DataFrame(serendipity_dict)"
   ]
  },
  {
   "cell_type": "markdown",
   "metadata": {},
   "source": [
    "### Novelty [Novelty SCORE]"
   ]
  },
  {
   "cell_type": "code",
   "execution_count": 522,
   "metadata": {},
   "outputs": [
    {
     "data": {
      "text/html": [
       "<div><style>\n",
       ".dataframe > thead > tr,\n",
       ".dataframe > tbody > tr {\n",
       "  text-align: right;\n",
       "  white-space: pre-wrap;\n",
       "}\n",
       "</style>\n",
       "<small>shape: (1, 5)</small><table border=\"1\" class=\"dataframe\"><thead><tr><th>editorial_picks_novelty</th><th>popular_novelty</th><th>random_novelty</th><th>newest_novelty</th><th>random_2_novelty</th></tr><tr><td>f64</td><td>f64</td><td>f64</td><td>f64</td><td>f64</td></tr></thead><tbody><tr><td>3.726443</td><td>0.803791</td><td>3.446373</td><td>19.540805</td><td>3.618499</td></tr></tbody></table></div>"
      ],
      "text/plain": [
       "shape: (1, 5)\n",
       "┌─────────────────────────┬─────────────────┬────────────────┬────────────────┬──────────────────┐\n",
       "│ editorial_picks_novelty ┆ popular_novelty ┆ random_novelty ┆ newest_novelty ┆ random_2_novelty │\n",
       "│ ---                     ┆ ---             ┆ ---            ┆ ---            ┆ ---              │\n",
       "│ f64                     ┆ f64             ┆ f64            ┆ f64            ┆ f64              │\n",
       "╞═════════════════════════╪═════════════════╪════════════════╪════════════════╪══════════════════╡\n",
       "│ 3.726443                ┆ 0.803791        ┆ 3.446373       ┆ 19.540805      ┆ 3.618499         │\n",
       "└─────────────────────────┴─────────────────┴────────────────┴────────────────┴──────────────────┘"
      ]
     },
     "execution_count": 522,
     "metadata": {},
     "output_type": "execute_result"
    }
   ],
   "source": [
    "novelty_dict = {\n",
    "    f\"{list_name}_{novelty.name}\": novelty(\n",
    "        candidates,\n",
    "        lookup_dict=articles_dict,\n",
    "        lookup_key=DEFAULT_TOTAL_PAGEVIEWS_COL_NORMALIZED,\n",
    "    )[0]\n",
    "    for candidates, list_name in candidates_name_pairs\n",
    "}\n",
    "pl.DataFrame(novelty_dict)"
   ]
  },
  {
   "cell_type": "markdown",
   "metadata": {},
   "source": [
    "## Model-level"
   ]
  },
  {
   "cell_type": "markdown",
   "metadata": {},
   "source": [
    "### Coverage"
   ]
  },
  {
   "cell_type": "code",
   "execution_count": 496,
   "metadata": {},
   "outputs": [
    {
     "data": {
      "text/html": [
       "<div><style>\n",
       ".dataframe > thead > tr,\n",
       ".dataframe > tbody > tr {\n",
       "  text-align: right;\n",
       "  white-space: pre-wrap;\n",
       "}\n",
       "</style>\n",
       "<small>shape: (2, 6)</small><table border=\"1\" class=\"dataframe\"><thead><tr><th>name</th><th>editorial_picks_coverage</th><th>popular_coverage</th><th>random_coverage</th><th>newest_coverage</th><th>random_2_coverage</th></tr><tr><td>str</td><td>f64</td><td>f64</td><td>f64</td><td>f64</td><td>f64</td></tr></thead><tbody><tr><td>&quot;count&quot;</td><td>5.0</td><td>5.0</td><td>154.0</td><td>5.0</td><td>154.0</td></tr><tr><td>&quot;fraction&quot;</td><td>0.032468</td><td>0.032468</td><td>1.0</td><td>0.032468</td><td>1.0</td></tr></tbody></table></div>"
      ],
      "text/plain": [
       "shape: (2, 6)\n",
       "┌──────────┬─────────────────┬─────────────────┬─────────────────┬────────────────┬────────────────┐\n",
       "│ name     ┆ editorial_picks ┆ popular_coverag ┆ random_coverage ┆ newest_coverag ┆ random_2_cover │\n",
       "│ ---      ┆ _coverage       ┆ e               ┆ ---             ┆ e              ┆ age            │\n",
       "│ str      ┆ ---             ┆ ---             ┆ f64             ┆ ---            ┆ ---            │\n",
       "│          ┆ f64             ┆ f64             ┆                 ┆ f64            ┆ f64            │\n",
       "╞══════════╪═════════════════╪═════════════════╪═════════════════╪════════════════╪════════════════╡\n",
       "│ count    ┆ 5.0             ┆ 5.0             ┆ 154.0           ┆ 5.0            ┆ 154.0          │\n",
       "│ fraction ┆ 0.032468        ┆ 0.032468        ┆ 1.0             ┆ 0.032468       ┆ 1.0            │\n",
       "└──────────┴─────────────────┴─────────────────┴─────────────────┴────────────────┴────────────────┘"
      ]
     },
     "execution_count": 496,
     "metadata": {},
     "output_type": "execute_result"
    }
   ],
   "source": [
    "coverage_dict = {\"name\": [\"count\", \"fraction\"]}\n",
    "for candidates, list_name in candidates_name_pairs:\n",
    "    coverage_dict[f\"{list_name}_{coverage.name}\"] = coverage(candidates, candidate_list)\n",
    "\n",
    "pl.DataFrame(coverage_dict)"
   ]
  },
  {
   "cell_type": "markdown",
   "metadata": {},
   "source": [
    "### Distribution - Category"
   ]
  },
  {
   "cell_type": "markdown",
   "metadata": {},
   "source": [
    "#### Distribution helper function"
   ]
  },
  {
   "cell_type": "code",
   "execution_count": 497,
   "metadata": {},
   "outputs": [],
   "source": [
    "def concat_distribution_dict(d: dict) -> dict:\n",
    "    return (\n",
    "        pl.concat(\n",
    "            [pl.DataFrame(val) for val in d.values()],\n",
    "            how=\"diagonal\",\n",
    "        )\n",
    "        .with_row_index(name=\"name\")\n",
    "        .with_columns(pl.Series(novelty_dict.keys()).alias(\"name\"))\n",
    "    ).to_dict()"
   ]
  },
  {
   "cell_type": "code",
   "execution_count": 498,
   "metadata": {},
   "outputs": [
    {
     "data": {
      "text/html": [
       "<div><style>\n",
       ".dataframe > thead > tr,\n",
       ".dataframe > tbody > tr {\n",
       "  text-align: right;\n",
       "  white-space: pre-wrap;\n",
       "}\n",
       "</style>\n",
       "<small>shape: (5, 11)</small><table border=\"1\" class=\"dataframe\"><thead><tr><th>name</th><th>ferie</th><th>underholdning</th><th>biler</th><th>krimi</th><th>forbrug</th><th>nyheder</th><th>musik</th><th>sport</th><th>penge</th><th>nationen</th></tr><tr><td>str</td><td>f64</td><td>f64</td><td>f64</td><td>f64</td><td>f64</td><td>f64</td><td>f64</td><td>f64</td><td>f64</td><td>f64</td></tr></thead><tbody><tr><td>&quot;editorial_pick…</td><td>0.2</td><td>0.2</td><td>0.2</td><td>0.2</td><td>0.2</td><td>null</td><td>null</td><td>null</td><td>null</td><td>null</td></tr><tr><td>&quot;popular_novelt…</td><td>null</td><td>null</td><td>null</td><td>0.4</td><td>null</td><td>0.4</td><td>0.2</td><td>null</td><td>null</td><td>null</td></tr><tr><td>&quot;random_novelty…</td><td>null</td><td>0.133746</td><td>null</td><td>0.150217</td><td>0.019938</td><td>0.263158</td><td>0.058452</td><td>0.272941</td><td>0.062539</td><td>0.039009</td></tr><tr><td>&quot;newest_novelty…</td><td>0.2</td><td>null</td><td>null</td><td>0.6</td><td>null</td><td>null</td><td>null</td><td>0.2</td><td>null</td><td>null</td></tr><tr><td>&quot;random_2_novel…</td><td>null</td><td>0.134985</td><td>null</td><td>0.145759</td><td>0.022415</td><td>0.262167</td><td>0.056223</td><td>0.27839</td><td>0.061176</td><td>0.038885</td></tr></tbody></table></div>"
      ],
      "text/plain": [
       "shape: (5, 11)\n",
       "┌──────────────────┬───────┬───────────────┬───────┬───┬──────────┬──────────┬──────────┬──────────┐\n",
       "│ name             ┆ ferie ┆ underholdning ┆ biler ┆ … ┆ musik    ┆ sport    ┆ penge    ┆ nationen │\n",
       "│ ---              ┆ ---   ┆ ---           ┆ ---   ┆   ┆ ---      ┆ ---      ┆ ---      ┆ ---      │\n",
       "│ str              ┆ f64   ┆ f64           ┆ f64   ┆   ┆ f64      ┆ f64      ┆ f64      ┆ f64      │\n",
       "╞══════════════════╪═══════╪═══════════════╪═══════╪═══╪══════════╪══════════╪══════════╪══════════╡\n",
       "│ editorial_picks_ ┆ 0.2   ┆ 0.2           ┆ 0.2   ┆ … ┆ null     ┆ null     ┆ null     ┆ null     │\n",
       "│ novelty          ┆       ┆               ┆       ┆   ┆          ┆          ┆          ┆          │\n",
       "│ popular_novelty  ┆ null  ┆ null          ┆ null  ┆ … ┆ 0.2      ┆ null     ┆ null     ┆ null     │\n",
       "│ random_novelty   ┆ null  ┆ 0.133746      ┆ null  ┆ … ┆ 0.058452 ┆ 0.272941 ┆ 0.062539 ┆ 0.039009 │\n",
       "│ newest_novelty   ┆ 0.2   ┆ null          ┆ null  ┆ … ┆ null     ┆ 0.2      ┆ null     ┆ null     │\n",
       "│ random_2_novelty ┆ null  ┆ 0.134985      ┆ null  ┆ … ┆ 0.056223 ┆ 0.27839  ┆ 0.061176 ┆ 0.038885 │\n",
       "└──────────────────┴───────┴───────────────┴───────┴───┴──────────┴──────────┴──────────┴──────────┘"
      ]
     },
     "execution_count": 498,
     "metadata": {},
     "output_type": "execute_result"
    }
   ],
   "source": [
    "COLUMN = DEFAULT_CATEGORY_STR_COL\n",
    "\n",
    "distribution_dict = {\n",
    "    f\"{list_name}_{novelty.name}\": distribution(\n",
    "        candidates,\n",
    "        lookup_dict=articles_dict,\n",
    "        lookup_key=COLUMN,\n",
    "    )\n",
    "    for candidates, list_name in candidates_name_pairs\n",
    "}\n",
    "\n",
    "distribution_category_dict = concat_distribution_dict(distribution_dict)\n",
    "pl.DataFrame(distribution_category_dict)"
   ]
  },
  {
   "cell_type": "markdown",
   "metadata": {},
   "source": [
    "### Distribution - Sentiment"
   ]
  },
  {
   "cell_type": "code",
   "execution_count": 499,
   "metadata": {},
   "outputs": [
    {
     "data": {
      "text/html": [
       "<div><style>\n",
       ".dataframe > thead > tr,\n",
       ".dataframe > tbody > tr {\n",
       "  text-align: right;\n",
       "  white-space: pre-wrap;\n",
       "}\n",
       "</style>\n",
       "<small>shape: (5, 4)</small><table border=\"1\" class=\"dataframe\"><thead><tr><th>name</th><th>Neutral</th><th>Positive</th><th>Negative</th></tr><tr><td>str</td><td>f64</td><td>f64</td><td>f64</td></tr></thead><tbody><tr><td>&quot;editorial_pick…</td><td>0.4</td><td>0.4</td><td>0.2</td></tr><tr><td>&quot;popular_novelt…</td><td>null</td><td>0.2</td><td>0.8</td></tr><tr><td>&quot;random_novelty…</td><td>0.275046</td><td>0.172136</td><td>0.552817</td></tr><tr><td>&quot;newest_novelty…</td><td>0.2</td><td>0.2</td><td>0.6</td></tr><tr><td>&quot;random_2_novel…</td><td>0.27356</td><td>0.172136</td><td>0.554303</td></tr></tbody></table></div>"
      ],
      "text/plain": [
       "shape: (5, 4)\n",
       "┌─────────────────────────┬──────────┬──────────┬──────────┐\n",
       "│ name                    ┆ Neutral  ┆ Positive ┆ Negative │\n",
       "│ ---                     ┆ ---      ┆ ---      ┆ ---      │\n",
       "│ str                     ┆ f64      ┆ f64      ┆ f64      │\n",
       "╞═════════════════════════╪══════════╪══════════╪══════════╡\n",
       "│ editorial_picks_novelty ┆ 0.4      ┆ 0.4      ┆ 0.2      │\n",
       "│ popular_novelty         ┆ null     ┆ 0.2      ┆ 0.8      │\n",
       "│ random_novelty          ┆ 0.275046 ┆ 0.172136 ┆ 0.552817 │\n",
       "│ newest_novelty          ┆ 0.2      ┆ 0.2      ┆ 0.6      │\n",
       "│ random_2_novelty        ┆ 0.27356  ┆ 0.172136 ┆ 0.554303 │\n",
       "└─────────────────────────┴──────────┴──────────┴──────────┘"
      ]
     },
     "execution_count": 499,
     "metadata": {},
     "output_type": "execute_result"
    }
   ],
   "source": [
    "COLUMN = DEFAULT_SENTIMENT_LABEL_COL\n",
    "\n",
    "distribution_dict = {\n",
    "    f\"{list_name}_{novelty.name}\": distribution(\n",
    "        candidates,\n",
    "        lookup_dict=articles_dict,\n",
    "        lookup_key=COLUMN,\n",
    "    )\n",
    "    for candidates, list_name in candidates_name_pairs\n",
    "}\n",
    "\n",
    "distribution_sentiment_dict = concat_distribution_dict(distribution_dict)\n",
    "pl.DataFrame(distribution_sentiment_dict)"
   ]
  },
  {
   "cell_type": "markdown",
   "metadata": {},
   "source": [
    "### Distribution - Topics"
   ]
  },
  {
   "cell_type": "code",
   "execution_count": 500,
   "metadata": {},
   "outputs": [
    {
     "data": {
      "text/html": [
       "<div><style>\n",
       ".dataframe > thead > tr,\n",
       ".dataframe > tbody > tr {\n",
       "  text-align: right;\n",
       "  white-space: pre-wrap;\n",
       "}\n",
       "</style>\n",
       "<small>shape: (5, 64)</small><table border=\"1\" class=\"dataframe\"><thead><tr><th>name</th><th>Kultur</th><th>Rejse</th><th>Underholdning</th><th>Film og tv</th><th>Transportmiddel</th><th>Bil</th><th>Økonomi</th><th>Mikro</th><th>Kriminalitet</th><th>Kendt</th><th>Personfarlig kriminalitet</th><th>Sport</th><th>Fodbold</th><th>Katastrofe</th><th>Større transportmiddel</th><th>Samfund</th><th>Større katastrofe</th><th>Begivenhed</th><th>Musik og lyd</th><th>Underholdningsbegivenhed</th><th>Mindre ulykke</th><th>Uddannelse</th><th>Ungdomsuddannelse</th><th>Politik</th><th>International politik</th><th>Sportsbegivenhed</th><th>National politik</th><th>Erhverv</th><th>Privat virksomhed</th><th>Ketcher- og batsport</th><th>Ansættelsesforhold</th><th>Bolig</th><th>Køb og salg</th><th>Motorsport</th><th>Makro</th><th>Livsstil</th><th>Videnskab</th><th>Naturvidenskab</th><th>Sundhed</th><th>Sygdom og behandling</th><th>Konflikt og krig</th><th>Væbnet konflikt</th><th>Familieliv</th><th>Udlejning</th><th>Håndbold</th><th>Dyr</th><th>Mad og drikke</th><th>Offentlig instans</th><th>Bedrageri</th><th>Vejr</th><th>Bæredygtighed og klima</th><th>Kosmetisk behandling</th><th>Bandekriminalitet</th><th>Offentlig transport</th><th>Partnerskab</th><th>Teknologi</th><th>Kunstig intelligens og software</th><th>Værdier</th><th>Reality</th><th>Renovering og indretning</th><th>Forbrugerelektronik</th><th>Museum og seværdighed</th><th>Grundskole</th></tr><tr><td>str</td><td>f64</td><td>f64</td><td>f64</td><td>f64</td><td>f64</td><td>f64</td><td>f64</td><td>f64</td><td>f64</td><td>f64</td><td>f64</td><td>f64</td><td>f64</td><td>f64</td><td>f64</td><td>f64</td><td>f64</td><td>f64</td><td>f64</td><td>f64</td><td>f64</td><td>f64</td><td>f64</td><td>f64</td><td>f64</td><td>f64</td><td>f64</td><td>f64</td><td>f64</td><td>f64</td><td>f64</td><td>f64</td><td>f64</td><td>f64</td><td>f64</td><td>f64</td><td>f64</td><td>f64</td><td>f64</td><td>f64</td><td>f64</td><td>f64</td><td>f64</td><td>f64</td><td>f64</td><td>f64</td><td>f64</td><td>f64</td><td>f64</td><td>f64</td><td>f64</td><td>f64</td><td>f64</td><td>f64</td><td>f64</td><td>f64</td><td>f64</td><td>f64</td><td>f64</td><td>f64</td><td>f64</td><td>f64</td><td>f64</td></tr></thead><tbody><tr><td>&quot;editorial_pick…</td><td>0.066667</td><td>0.066667</td><td>0.066667</td><td>0.066667</td><td>0.066667</td><td>0.066667</td><td>0.133333</td><td>0.133333</td><td>0.066667</td><td>0.066667</td><td>0.066667</td><td>0.066667</td><td>0.066667</td><td>null</td><td>null</td><td>null</td><td>null</td><td>null</td><td>null</td><td>null</td><td>null</td><td>null</td><td>null</td><td>null</td><td>null</td><td>null</td><td>null</td><td>null</td><td>null</td><td>null</td><td>null</td><td>null</td><td>null</td><td>null</td><td>null</td><td>null</td><td>null</td><td>null</td><td>null</td><td>null</td><td>null</td><td>null</td><td>null</td><td>null</td><td>null</td><td>null</td><td>null</td><td>null</td><td>null</td><td>null</td><td>null</td><td>null</td><td>null</td><td>null</td><td>null</td><td>null</td><td>null</td><td>null</td><td>null</td><td>null</td><td>null</td><td>null</td><td>null</td></tr><tr><td>&quot;popular_novelt…</td><td>null</td><td>null</td><td>0.058824</td><td>null</td><td>0.117647</td><td>0.117647</td><td>null</td><td>null</td><td>0.058824</td><td>0.058824</td><td>0.058824</td><td>null</td><td>null</td><td>0.117647</td><td>0.117647</td><td>0.058824</td><td>0.058824</td><td>0.058824</td><td>0.058824</td><td>0.058824</td><td>null</td><td>null</td><td>null</td><td>null</td><td>null</td><td>null</td><td>null</td><td>null</td><td>null</td><td>null</td><td>null</td><td>null</td><td>null</td><td>null</td><td>null</td><td>null</td><td>null</td><td>null</td><td>null</td><td>null</td><td>null</td><td>null</td><td>null</td><td>null</td><td>null</td><td>null</td><td>null</td><td>null</td><td>null</td><td>null</td><td>null</td><td>null</td><td>null</td><td>null</td><td>null</td><td>null</td><td>null</td><td>null</td><td>null</td><td>null</td><td>null</td><td>null</td><td>null</td></tr><tr><td>&quot;random_novelty…</td><td>0.001944</td><td>null</td><td>0.041881</td><td>0.011129</td><td>0.021944</td><td>0.009154</td><td>0.027335</td><td>0.007367</td><td>0.054577</td><td>0.104201</td><td>0.035266</td><td>0.067618</td><td>0.044796</td><td>0.02116</td><td>0.008056</td><td>0.016426</td><td>0.001411</td><td>0.044765</td><td>0.015956</td><td>0.016144</td><td>0.014451</td><td>0.006207</td><td>0.006207</td><td>0.046959</td><td>0.020063</td><td>0.025047</td><td>0.025266</td><td>0.066426</td><td>0.029122</td><td>0.00953</td><td>0.031599</td><td>0.015705</td><td>0.01279</td><td>0.003448</td><td>0.012351</td><td>0.025235</td><td>0.001411</td><td>0.001411</td><td>0.013574</td><td>0.011912</td><td>0.010282</td><td>0.003542</td><td>0.003542</td><td>0.001442</td><td>0.003229</td><td>0.001975</td><td>0.004796</td><td>0.003574</td><td>0.003009</td><td>0.003511</td><td>0.003135</td><td>0.001693</td><td>0.004295</td><td>0.001442</td><td>0.003072</td><td>0.006364</td><td>0.00326</td><td>0.003229</td><td>0.001693</td><td>0.001473</td><td>0.001599</td><td>null</td><td>null</td></tr><tr><td>&quot;newest_novelty…</td><td>0.1</td><td>null</td><td>0.05</td><td>null</td><td>null</td><td>null</td><td>null</td><td>null</td><td>0.05</td><td>null</td><td>0.05</td><td>0.05</td><td>0.05</td><td>0.1</td><td>null</td><td>0.05</td><td>null</td><td>0.05</td><td>null</td><td>null</td><td>0.1</td><td>0.05</td><td>null</td><td>null</td><td>null</td><td>0.05</td><td>null</td><td>null</td><td>null</td><td>null</td><td>null</td><td>null</td><td>null</td><td>null</td><td>null</td><td>null</td><td>null</td><td>null</td><td>null</td><td>null</td><td>0.05</td><td>null</td><td>null</td><td>null</td><td>null</td><td>null</td><td>null</td><td>null</td><td>null</td><td>null</td><td>null</td><td>null</td><td>null</td><td>null</td><td>null</td><td>null</td><td>null</td><td>0.05</td><td>null</td><td>null</td><td>null</td><td>0.1</td><td>0.05</td></tr><tr><td>&quot;random_2_novel…</td><td>0.00147</td><td>null</td><td>0.041764</td><td>0.011231</td><td>0.0229</td><td>0.00951</td><td>0.026498</td><td>0.006163</td><td>0.053715</td><td>0.104114</td><td>0.034069</td><td>0.068763</td><td>0.044205</td><td>0.021367</td><td>0.009291</td><td>0.016299</td><td>0.001658</td><td>0.045081</td><td>0.015548</td><td>0.01583</td><td>0.015298</td><td>0.006601</td><td>0.006601</td><td>0.047302</td><td>0.020554</td><td>0.025872</td><td>0.02484</td><td>0.065947</td><td>0.029032</td><td>0.010762</td><td>0.032066</td><td>0.015799</td><td>0.01242</td><td>0.003598</td><td>0.012013</td><td>0.023964</td><td>0.001533</td><td>0.001533</td><td>0.012576</td><td>0.011168</td><td>0.010136</td><td>0.003473</td><td>0.003128</td><td>0.001721</td><td>0.003566</td><td>0.001283</td><td>0.005005</td><td>0.003003</td><td>0.003629</td><td>0.002784</td><td>0.003254</td><td>0.001408</td><td>0.004317</td><td>0.00194</td><td>0.002972</td><td>0.007258</td><td>0.003441</td><td>0.003785</td><td>0.001595</td><td>0.001658</td><td>0.001689</td><td>null</td><td>null</td></tr></tbody></table></div>"
      ],
      "text/plain": [
       "shape: (5, 64)\n",
       "┌────────────┬──────────┬──────────┬───────────┬───┬───────────┬───────────┬───────────┬───────────┐\n",
       "│ name       ┆ Kultur   ┆ Rejse    ┆ Underhold ┆ … ┆ Renoverin ┆ Forbruger ┆ Museum og ┆ Grundskol │\n",
       "│ ---        ┆ ---      ┆ ---      ┆ ning      ┆   ┆ g og indr ┆ elektroni ┆ seværdigh ┆ e         │\n",
       "│ str        ┆ f64      ┆ f64      ┆ ---       ┆   ┆ etning    ┆ k         ┆ ed        ┆ ---       │\n",
       "│            ┆          ┆          ┆ f64       ┆   ┆ ---       ┆ ---       ┆ ---       ┆ f64       │\n",
       "│            ┆          ┆          ┆           ┆   ┆ f64       ┆ f64       ┆ f64       ┆           │\n",
       "╞════════════╪══════════╪══════════╪═══════════╪═══╪═══════════╪═══════════╪═══════════╪═══════════╡\n",
       "│ editorial_ ┆ 0.066667 ┆ 0.066667 ┆ 0.066667  ┆ … ┆ null      ┆ null      ┆ null      ┆ null      │\n",
       "│ picks_nove ┆          ┆          ┆           ┆   ┆           ┆           ┆           ┆           │\n",
       "│ lty        ┆          ┆          ┆           ┆   ┆           ┆           ┆           ┆           │\n",
       "│ popular_no ┆ null     ┆ null     ┆ 0.058824  ┆ … ┆ null      ┆ null      ┆ null      ┆ null      │\n",
       "│ velty      ┆          ┆          ┆           ┆   ┆           ┆           ┆           ┆           │\n",
       "│ random_nov ┆ 0.001944 ┆ null     ┆ 0.041881  ┆ … ┆ 0.001473  ┆ 0.001599  ┆ null      ┆ null      │\n",
       "│ elty       ┆          ┆          ┆           ┆   ┆           ┆           ┆           ┆           │\n",
       "│ newest_nov ┆ 0.1      ┆ null     ┆ 0.05      ┆ … ┆ null      ┆ null      ┆ 0.1       ┆ 0.05      │\n",
       "│ elty       ┆          ┆          ┆           ┆   ┆           ┆           ┆           ┆           │\n",
       "│ random_2_n ┆ 0.00147  ┆ null     ┆ 0.041764  ┆ … ┆ 0.001658  ┆ 0.001689  ┆ null      ┆ null      │\n",
       "│ ovelty     ┆          ┆          ┆           ┆   ┆           ┆           ┆           ┆           │\n",
       "└────────────┴──────────┴──────────┴───────────┴───┴───────────┴───────────┴───────────┴───────────┘"
      ]
     },
     "execution_count": 500,
     "metadata": {},
     "output_type": "execute_result"
    }
   ],
   "source": [
    "COLUMN = DEFAULT_TOPICS_COL\n",
    "\n",
    "distribution_dict = {\n",
    "    f\"{list_name}_{novelty.name}\": distribution(\n",
    "        candidates,\n",
    "        lookup_dict=articles_dict,\n",
    "        lookup_key=COLUMN,\n",
    "    )\n",
    "    for candidates, list_name in candidates_name_pairs\n",
    "}\n",
    "\n",
    "distribution_topics_dict = concat_distribution_dict(distribution_dict)\n",
    "pl.DataFrame(distribution_topics_dict)"
   ]
  },
  {
   "cell_type": "code",
   "execution_count": null,
   "metadata": {},
   "outputs": [],
   "source": []
  },
  {
   "cell_type": "code",
   "execution_count": null,
   "metadata": {},
   "outputs": [],
   "source": []
  },
  {
   "cell_type": "code",
   "execution_count": null,
   "metadata": {},
   "outputs": [],
   "source": []
  }
 ],
 "metadata": {
  "kernelspec": {
   "display_name": "Python 3",
   "language": "python",
   "name": "python3"
  },
  "language_info": {
   "codemirror_mode": {
    "name": "ipython",
    "version": 3
   },
   "file_extension": ".py",
   "mimetype": "text/x-python",
   "name": "python",
   "nbconvert_exporter": "python",
   "pygments_lexer": "ipython3",
   "version": "3.11.7"
  }
 },
 "nbformat": 4,
 "nbformat_minor": 2
}
