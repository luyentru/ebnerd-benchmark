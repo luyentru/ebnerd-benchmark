{
 "cells": [
  {
   "cell_type": "markdown",
   "metadata": {},
   "source": [
    "# Hello\n",
    "\n",
    "This notebook is an example of how to make a beyond-accuracy dataset, and how one could make baselines"
   ]
  },
  {
   "cell_type": "markdown",
   "metadata": {},
   "source": [
    "# Get started"
   ]
  },
  {
   "cell_type": "markdown",
   "metadata": {},
   "source": [
    "## Dependencies"
   ]
  },
  {
   "cell_type": "markdown",
   "metadata": {},
   "source": [
    "### Output files"
   ]
  },
  {
   "cell_type": "code",
   "execution_count": 2,
   "metadata": {},
   "outputs": [],
   "source": [
    "BEHAVIORS_TIMESTAMP_DICT = \"behaviors_timestamp_dict.json\"\n",
    "CANDIDATE_LIST = \"candidate_list.json\"\n",
    "CANDIDATE_DICT = \"candidate_dict.json\"\n",
    "USERS_DICT = \"users_dict.json\""
   ]
  },
  {
   "cell_type": "code",
   "execution_count": 117,
   "metadata": {},
   "outputs": [],
   "source": [
    "from ebrec.utils._python import write_json_file, read_json_file\n",
    "from pathlib import Path\n",
    "import polars as pl\n",
    "import numpy as np\n",
    "\n",
    "from ebrec.utils._constants import (\n",
    "    DEFAULT_ARTICLE_PUBLISHED_TIMESTAMP_COL,\n",
    "    DEFAULT_ARTICLE_MODIFIED_TIMESTAMP_COL,\n",
    "    DEFAULT_IMPRESSION_TIMESTAMP_COL,\n",
    "    DEFAULT_TOTAL_PAGEVIEWS_COL,\n",
    "    DEFAULT_INVIEW_ARTICLES_COL,\n",
    "    DEFAULT_SENTIMENT_SCORE_COL,\n",
    "    DEFAULT_SENTIMENT_LABEL_COL,\n",
    "    DEFAULT_TOTAL_INVIEWS_COL,\n",
    "    DEFAULT_IS_SUBSCRIBER_COL,\n",
    "    DEFAULT_CATEGORY_STR_COL,\n",
    "    DEFAULT_IS_SSO_USER_COL,\n",
    "    DEFAULT_ARTICLE_ID_COL,\n",
    "    DEFAULT_POSTCODE_COL,\n",
    "    DEFAULT_GENDER_COL,\n",
    "    DEFAULT_AGE_COL,\n",
    ")\n",
    "\n",
    "from ebrec.evaluation.beyond_accuracy import (\n",
    "    IntralistDiversity,\n",
    "    Distribution,\n",
    "    Serendipity,\n",
    "    Sentiment,\n",
    "    Coverage,\n",
    "    Novelty,\n",
    ")\n",
    "\n",
    "from ebrec.utils._articles import create_sort_based_prediction_score\n",
    "\n",
    "np.random.seed(123)"
   ]
  },
  {
   "cell_type": "markdown",
   "metadata": {},
   "source": [
    "## Load dataset"
   ]
  },
  {
   "cell_type": "code",
   "execution_count": 3,
   "metadata": {},
   "outputs": [],
   "source": [
    "dataset_split = \"demo\"\n",
    "\n",
    "PATH = Path(f\"../downloads/{dataset_split}\")\n",
    "PATH_BEYOND_ACCURACY = PATH.joinpath(\"beyond_accuracy\")\n",
    "PATH_BEYOND_ACCURACY.mkdir(exist_ok=True, parents=True)\n",
    "\n",
    "df_beyond_accuarcy = pl.scan_parquet(PATH.joinpath(\"test\", \"behaviors.parquet\")).filter(pl.col(\"is_beyond_accuracy\"))\n",
    "df_behaviors = pl.scan_parquet(PATH.joinpath(\"test\", \"behaviors.parquet\")).filter(~pl.col(\"is_beyond_accuracy\"))\n",
    "df_articles = pl.scan_parquet(PATH.joinpath(\"articles.parquet\"))"
   ]
  },
  {
   "cell_type": "markdown",
   "metadata": {},
   "source": [
    "# Make / Dump Metadata"
   ]
  },
  {
   "cell_type": "markdown",
   "metadata": {},
   "source": [
    "## Make candidate list for beyond-accuracy:"
   ]
  },
  {
   "cell_type": "markdown",
   "metadata": {},
   "source": [
    "We select the candidate list from the testset"
   ]
  },
  {
   "cell_type": "code",
   "execution_count": 4,
   "metadata": {},
   "outputs": [
    {
     "name": "stdout",
     "output_type": "stream",
     "text": [
      "Number of Candidate IDs: 250 (example: [9793163, 9793069, 9792076, 9792749, 9791280])\n",
      "Dump: ../downloads/demo/beyond_accuracy/candidate_list.json\n"
     ]
    }
   ],
   "source": [
    "candidate_list = (\n",
    "    df_beyond_accuarcy.select(pl.col(DEFAULT_INVIEW_ARTICLES_COL).first())\n",
    "    .collect()\n",
    "    .to_series()\n",
    ")[0].to_list()\n",
    "write_json_file(candidate_list, PATH_BEYOND_ACCURACY.joinpath(CANDIDATE_LIST))\n",
    "\n",
    "print(f\"Number of Candidate IDs: {len(candidate_list)} (example: {candidate_list[:5]})\")\n",
    "print(f\"Dump: {PATH_BEYOND_ACCURACY.joinpath(CANDIDATE_LIST)}\")"
   ]
  },
  {
   "cell_type": "markdown",
   "metadata": {},
   "source": [
    "#### Sanity check"
   ]
  },
  {
   "cell_type": "code",
   "execution_count": 5,
   "metadata": {},
   "outputs": [
    {
     "name": "stdout",
     "output_type": "stream",
     "text": [
      "santity check - passed\n"
     ]
    }
   ],
   "source": [
    "load_candidate_list = read_json_file(PATH_BEYOND_ACCURACY.joinpath(CANDIDATE_LIST))\n",
    "if (\n",
    "    not (\n",
    "        df_beyond_accuarcy.select(DEFAULT_INVIEW_ARTICLES_COL).collect()\n",
    "        == candidate_list\n",
    "    )\n",
    "    .sum()[DEFAULT_INVIEW_ARTICLES_COL]\n",
    "    .to_list()[0]\n",
    "    == df_beyond_accuarcy.select(DEFAULT_INVIEW_ARTICLES_COL).collect().shape[0]\n",
    "):\n",
    "    raise ValueError(\"candidate_list is not identical in the testset\")\n",
    "\n",
    "if not (np.array(candidate_list) - np.array(load_candidate_list)).sum() == 0:\n",
    "    raise ValueError(\"candidate_list was not dump correctly\")\n",
    "\n",
    "print(\"santity check - passed\")"
   ]
  },
  {
   "cell_type": "markdown",
   "metadata": {},
   "source": [
    "## User meta data: Segments"
   ]
  },
  {
   "cell_type": "code",
   "execution_count": 6,
   "metadata": {},
   "outputs": [
    {
     "name": "stdout",
     "output_type": "stream",
     "text": [
      "Dump: ../downloads/demo/beyond_accuracy/users_dict.json\n"
     ]
    },
    {
     "data": {
      "text/html": [
       "<div><style>\n",
       ".dataframe > thead > tr,\n",
       ".dataframe > tbody > tr {\n",
       "  text-align: right;\n",
       "  white-space: pre-wrap;\n",
       "}\n",
       "</style>\n",
       "<small>shape: (3, 5)</small><table border=\"1\" class=\"dataframe\"><thead><tr><th>is_subscriber</th><th>is_sso_user</th><th>postcode</th><th>gender</th><th>age</th></tr><tr><td>bool</td><td>bool</td><td>i8</td><td>i8</td><td>i8</td></tr></thead><tbody><tr><td>true</td><td>true</td><td>null</td><td>0</td><td>30</td></tr><tr><td>true</td><td>true</td><td>null</td><td>null</td><td>null</td></tr><tr><td>true</td><td>true</td><td>null</td><td>0</td><td>null</td></tr></tbody></table></div>"
      ],
      "text/plain": [
       "shape: (3, 5)\n",
       "┌───────────────┬─────────────┬──────────┬────────┬──────┐\n",
       "│ is_subscriber ┆ is_sso_user ┆ postcode ┆ gender ┆ age  │\n",
       "│ ---           ┆ ---         ┆ ---      ┆ ---    ┆ ---  │\n",
       "│ bool          ┆ bool        ┆ i8       ┆ i8     ┆ i8   │\n",
       "╞═══════════════╪═════════════╪══════════╪════════╪══════╡\n",
       "│ true          ┆ true        ┆ null     ┆ 0      ┆ 30   │\n",
       "│ true          ┆ true        ┆ null     ┆ null   ┆ null │\n",
       "│ true          ┆ true        ┆ null     ┆ 0      ┆ null │\n",
       "└───────────────┴─────────────┴──────────┴────────┴──────┘"
      ]
     },
     "execution_count": 6,
     "metadata": {},
     "output_type": "execute_result"
    }
   ],
   "source": [
    "user_meta_columns = [\n",
    "    DEFAULT_IS_SUBSCRIBER_COL,\n",
    "    DEFAULT_IS_SSO_USER_COL,\n",
    "    DEFAULT_POSTCODE_COL,\n",
    "    DEFAULT_GENDER_COL,\n",
    "    DEFAULT_AGE_COL,\n",
    "]\n",
    "df_users = df_beyond_accuarcy.select(pl.col(user_meta_columns)).collect()\n",
    "\n",
    "users_dict = {col : df_users[col].to_list() for col in df_users.columns}\n",
    "write_json_file(users_dict, PATH_BEYOND_ACCURACY.joinpath(USERS_DICT))\n",
    "print(f\"Dump: {PATH_BEYOND_ACCURACY.joinpath(USERS_DICT)}\")\n",
    "df_users.head(3)\n"
   ]
  },
  {
   "cell_type": "markdown",
   "metadata": {},
   "source": [
    "## Timestamp for Behaviors"
   ]
  },
  {
   "cell_type": "markdown",
   "metadata": {},
   "source": [
    "Can be used for making the AUC as function of time"
   ]
  },
  {
   "cell_type": "code",
   "execution_count": 7,
   "metadata": {},
   "outputs": [
    {
     "name": "stdout",
     "output_type": "stream",
     "text": [
      "Dump: ../downloads/demo/beyond_accuracy/behaviors_timestamp_dict.json\n"
     ]
    },
    {
     "data": {
      "text/html": [
       "<div><style>\n",
       ".dataframe > thead > tr,\n",
       ".dataframe > tbody > tr {\n",
       "  text-align: right;\n",
       "  white-space: pre-wrap;\n",
       "}\n",
       "</style>\n",
       "<small>shape: (3, 1)</small><table border=\"1\" class=\"dataframe\"><thead><tr><th>impression_time</th></tr><tr><td>str</td></tr></thead><tbody><tr><td>&quot;2023-06-05 15:…</td></tr><tr><td>&quot;2023-06-05 15:…</td></tr><tr><td>&quot;2023-06-01 10:…</td></tr></tbody></table></div>"
      ],
      "text/plain": [
       "shape: (3, 1)\n",
       "┌────────────────────────────┐\n",
       "│ impression_time            │\n",
       "│ ---                        │\n",
       "│ str                        │\n",
       "╞════════════════════════════╡\n",
       "│ 2023-06-05 15:18:16.000000 │\n",
       "│ 2023-06-05 15:36:07.000000 │\n",
       "│ 2023-06-01 10:25:38.000000 │\n",
       "└────────────────────────────┘"
      ]
     },
     "execution_count": 7,
     "metadata": {},
     "output_type": "execute_result"
    }
   ],
   "source": [
    "df_behaviors_timestamp = (\n",
    "    df_behaviors.select(\n",
    "        pl.col(DEFAULT_IMPRESSION_TIMESTAMP_COL).cast(pl.Utf8),\n",
    "    )\n",
    "    .collect()\n",
    ")\n",
    "behaviors_timestamp_dict = {\n",
    "    DEFAULT_IMPRESSION_TIMESTAMP_COL: df_behaviors_timestamp[\n",
    "        DEFAULT_IMPRESSION_TIMESTAMP_COL\n",
    "    ].to_list()\n",
    "}\n",
    "write_json_file(\n",
    "    behaviors_timestamp_dict, PATH_BEYOND_ACCURACY.joinpath(BEHAVIORS_TIMESTAMP_DICT)\n",
    ")\n",
    "print(f\"Dump: {PATH_BEYOND_ACCURACY.joinpath(BEHAVIORS_TIMESTAMP_DICT)}\")\n",
    "df_behaviors_timestamp.head(3)"
   ]
  },
  {
   "cell_type": "markdown",
   "metadata": {},
   "source": [
    "# Make Candidate lookup dict / Dump lookup dict"
   ]
  },
  {
   "cell_type": "markdown",
   "metadata": {},
   "source": [
    "## Select Candidate articles"
   ]
  },
  {
   "cell_type": "code",
   "execution_count": 8,
   "metadata": {},
   "outputs": [],
   "source": [
    "### Make candidate lookup dictionary for beyond-accuracy:\n",
    "# =>\n",
    "df_candidate_articles = (\n",
    "    df_articles.filter(pl.col(DEFAULT_ARTICLE_ID_COL).is_in(candidate_list))\n",
    "    .with_columns(\n",
    "        pl.col(\n",
    "            DEFAULT_ARTICLE_MODIFIED_TIMESTAMP_COL,\n",
    "            DEFAULT_ARTICLE_PUBLISHED_TIMESTAMP_COL,\n",
    "        ).cast(pl.Utf8)\n",
    "    )\n",
    "    # Zeros might cause issues\n",
    "    .with_columns(\n",
    "        pl.col(DEFAULT_TOTAL_INVIEWS_COL, DEFAULT_TOTAL_PAGEVIEWS_COL).fill_null(1)\n",
    "    )\n",
    "    .collect()\n",
    ")"
   ]
  },
  {
   "cell_type": "markdown",
   "metadata": {},
   "source": [
    "## Add embeddings representations"
   ]
  },
  {
   "cell_type": "code",
   "execution_count": 9,
   "metadata": {},
   "outputs": [
    {
     "data": {
      "text/html": [
       "<div><style>\n",
       ".dataframe > thead > tr,\n",
       ".dataframe > tbody > tr {\n",
       "  text-align: right;\n",
       "  white-space: pre-wrap;\n",
       "}\n",
       "</style>\n",
       "<small>shape: (2, 25)</small><table border=\"1\" class=\"dataframe\"><thead><tr><th>article_id</th><th>title</th><th>subtitle</th><th>last_modified_time</th><th>premium</th><th>body</th><th>published_time</th><th>image_ids</th><th>article_type</th><th>url</th><th>ner_clusters</th><th>entity_groups</th><th>topics</th><th>category</th><th>subcategory</th><th>category_str</th><th>total_inviews</th><th>total_pageviews</th><th>total_read_time</th><th>sentiment_score</th><th>sentiment_label</th><th>contrastive_vector</th><th>FacebookAI/xlm-roberta-base</th><th>google-bert/bert-base-multilingual-cased</th><th>document_vector</th></tr><tr><td>i32</td><td>str</td><td>str</td><td>str</td><td>bool</td><td>str</td><td>str</td><td>list[i64]</td><td>str</td><td>str</td><td>list[str]</td><td>list[str]</td><td>list[str]</td><td>i16</td><td>list[i16]</td><td>str</td><td>i32</td><td>i32</td><td>f32</td><td>f32</td><td>str</td><td>list[f32]</td><td>list[f32]</td><td>list[f32]</td><td>list[f32]</td></tr></thead><tbody><tr><td>9777912</td><td>&quot;Stort galleri:…</td><td>&quot;Den tyske topm…</td><td>&quot;2023-10-11 05:…</td><td>true</td><td>&quot;Heidi Klums la…</td><td>&quot;2023-06-01 11:…</td><td>[9777875, 9777930, … 9777889]</td><td>&quot;article_defaul…</td><td>&quot;https://ekstra…</td><td>[&quot;Bergisch Gladbach&quot;, &quot;Flavio Briatore&quot;, … &quot;Heidi Klums&quot;]</td><td>[&quot;LOC&quot;, &quot;PER&quot;, … &quot;PER&quot;]</td><td>[&quot;Kendt&quot;, &quot;Livsstil&quot;, &quot;Underholdning&quot;]</td><td>414</td><td>[432]</td><td>&quot;underholdning&quot;</td><td>793993</td><td>40407</td><td>1.742984e6</td><td>0.5703</td><td>&quot;Neutral&quot;</td><td>[-0.046561, -0.017556, … 0.003914]</td><td>[0.095054, 0.096886, … -0.013514]</td><td>[-0.097854, 0.062035, … -0.098488]</td><td>[0.071191, 0.016312, … 0.020225]</td></tr><tr><td>9780773</td><td>&quot;Afsløring: Hvi…</td><td>&quot;Hovsa:&quot;</td><td>&quot;2023-06-29 06:…</td><td>false</td><td>&quot;Ved du noget o…</td><td>&quot;2023-06-01 18:…</td><td>[9789766, 9791805]</td><td>&quot;article_defaul…</td><td>&quot;https://ekstra…</td><td>[&quot;Allan Melander&quot;, &quot;Christian Bartholdy&quot;, … &quot;Strandgade&quot;]</td><td>[&quot;PER&quot;, &quot;PER&quot;, … &quot;LOC&quot;]</td><td>[&quot;Kriminalitet&quot;, &quot;Bedrageri&quot;, … &quot;Økonomi&quot;]</td><td>118</td><td>[133]</td><td>&quot;nyheder&quot;</td><td>343369</td><td>63807</td><td>5.806831e6</td><td>0.9254</td><td>&quot;Negative&quot;</td><td>[-0.006871, 0.040639, … 0.142761]</td><td>[0.106638, 0.110743, … -0.012386]</td><td>[-0.083905, 0.007199, … 0.000927]</td><td>[0.000026, -0.042221, … 0.011401]</td></tr></tbody></table></div>"
      ],
      "text/plain": [
       "shape: (2, 25)\n",
       "┌───────────┬───────────┬───────────┬───────────┬───┬───────────┬───────────┬───────────┬──────────┐\n",
       "│ article_i ┆ title     ┆ subtitle  ┆ last_modi ┆ … ┆ contrasti ┆ FacebookA ┆ google-be ┆ document │\n",
       "│ d         ┆ ---       ┆ ---       ┆ fied_time ┆   ┆ ve_vector ┆ I/xlm-rob ┆ rt/bert-b ┆ _vector  │\n",
       "│ ---       ┆ str       ┆ str       ┆ ---       ┆   ┆ ---       ┆ erta-base ┆ ase-multi ┆ ---      │\n",
       "│ i32       ┆           ┆           ┆ str       ┆   ┆ list[f32] ┆ ---       ┆ lingu…    ┆ list[f32 │\n",
       "│           ┆           ┆           ┆           ┆   ┆           ┆ list[f32] ┆ ---       ┆ ]        │\n",
       "│           ┆           ┆           ┆           ┆   ┆           ┆           ┆ list[f32] ┆          │\n",
       "╞═══════════╪═══════════╪═══════════╪═══════════╪═══╪═══════════╪═══════════╪═══════════╪══════════╡\n",
       "│ 9777912   ┆ Stort     ┆ Den tyske ┆ 2023-10-1 ┆ … ┆ [-0.04656 ┆ [0.095054 ┆ [-0.09785 ┆ [0.07119 │\n",
       "│           ┆ galleri:  ┆ topmodel, ┆ 1 05:20:0 ┆   ┆ 1, -0.017 ┆ ,         ┆ 4,        ┆ 1, 0.016 │\n",
       "│           ┆ Topmodel  ┆ tv-vært   ┆ 1.000000  ┆   ┆ 556, …    ┆ 0.096886, ┆ 0.062035, ┆ 312, …   │\n",
       "│           ┆ fylder 5… ┆ og p…     ┆           ┆   ┆ 0.00391…  ┆ … -0.0135 ┆ …         ┆ 0.020225 │\n",
       "│           ┆           ┆           ┆           ┆   ┆           ┆ 14…       ┆ -0.09848… ┆ ]        │\n",
       "│ 9780773   ┆ Afsløring ┆ Hovsa:    ┆ 2023-06-2 ┆ … ┆ [-0.00687 ┆ [0.106638 ┆ [-0.08390 ┆ [0.00002 │\n",
       "│           ┆ : Hvidvas ┆           ┆ 9 06:49:0 ┆   ┆ 1,        ┆ ,         ┆ 5,        ┆ 6, -0.04 │\n",
       "│           ┆ k-firma   ┆           ┆ 4.000000  ┆   ┆ 0.040639, ┆ 0.110743, ┆ 0.007199, ┆ 2221, …  │\n",
       "│           ┆ arbejd…   ┆           ┆           ┆   ┆ …         ┆ … -0.0123 ┆ …         ┆ 0.011401 │\n",
       "│           ┆           ┆           ┆           ┆   ┆ 0.142761… ┆ 86…       ┆ 0.000927… ┆ …        │\n",
       "└───────────┴───────────┴───────────┴───────────┴───┴───────────┴───────────┴───────────┴──────────┘"
      ]
     },
     "execution_count": 9,
     "metadata": {},
     "output_type": "execute_result"
    }
   ],
   "source": [
    "# => Embeddings:\n",
    "BERT_VECTOR = \"bert_base_multilingual_cased\"\n",
    "CONTRASTIVE_VECTOR = \"contrastive_vector\"\n",
    "DOCUMENT_VECTOR = \"document_vector\"\n",
    "ROBERTA_VECTOR = \"xlm_roberta_base\"\n",
    "\n",
    "def load_join_embeddings(df:pl.DataFrame, emb_path:Path) -> pl.DataFrame:\n",
    "    emb_contrastive = (\n",
    "        pl.scan_parquet(\n",
    "            PATH.parent.joinpath(emb_path)\n",
    "        )\n",
    "        .filter(\n",
    "            pl.col(DEFAULT_ARTICLE_ID_COL).is_in(df.select(DEFAULT_ARTICLE_ID_COL))\n",
    "        ).collect()\n",
    "    )\n",
    "    return df.join(emb_contrastive, on=DEFAULT_ARTICLE_ID_COL, how = \"left\")\n",
    "\n",
    "df_candidate_articles = (\n",
    "    df_candidate_articles.pipe(\n",
    "        load_join_embeddings,\n",
    "        emb_path=f\"embeddings/Ekstra_Bladet_contrastive_vector/{CONTRASTIVE_VECTOR}.parquet\",\n",
    "    )\n",
    "    .pipe(\n",
    "        load_join_embeddings,\n",
    "        emb_path=f\"embeddings/FacebookAI_xlm_roberta_base/{ROBERTA_VECTOR}.parquet\",\n",
    "    )\n",
    "    .pipe(\n",
    "        load_join_embeddings,\n",
    "        emb_path=f\"embeddings/google_bert_base_multilingual_cased/{BERT_VECTOR}.parquet\"\n",
    "    )\n",
    "    .pipe(\n",
    "        load_join_embeddings,\n",
    "        emb_path=f\"embeddings/Ekstra_Bladet_word2vec/{DOCUMENT_VECTOR}.parquet\"\n",
    "    )\n",
    ")\n",
    "df_candidate_articles.head(2)"
   ]
  },
  {
   "cell_type": "markdown",
   "metadata": {},
   "source": [
    "## Convert to lookup dictionary:"
   ]
  },
  {
   "cell_type": "code",
   "execution_count": 10,
   "metadata": {},
   "outputs": [
    {
     "name": "stdout",
     "output_type": "stream",
     "text": [
      "Dump: ../downloads/demo/beyond_accuracy/candidate_dict.json\n"
     ]
    }
   ],
   "source": [
    "candidate_dict = {}\n",
    "for row in df_candidate_articles.iter_rows(named=True):\n",
    "    # Note, all keys in dictionaries are converted to strings, when serializing an object to JSON format.\n",
    "    candidate_dict[str(row[DEFAULT_ARTICLE_ID_COL])] = row\n",
    "# Write it:\n",
    "write_json_file(candidate_dict, PATH_BEYOND_ACCURACY.joinpath(CANDIDATE_DICT))\n",
    "print(f\"Dump: {PATH_BEYOND_ACCURACY.joinpath(CANDIDATE_DICT)}\")"
   ]
  },
  {
   "cell_type": "markdown",
   "metadata": {},
   "source": [
    "# Make Baselines"
   ]
  },
  {
   "cell_type": "markdown",
   "metadata": {},
   "source": [
    "Make a couple *Baselines* based on the candidate-list:\n",
    "1. @EditorialPicks: We approximate this based on the number **inview** an articles have recived. Ekstra Bladet is front-page driven, meaning, if an article has a lot of inview-impression (seen) a lot, we believe it has been selected to be in a top priority from the editors. This is static (it does change for our *candidate_list*), i.e., the computation is done once.\n",
    "2. @Popular: We approximate this based on the number **clicks** an articles have recived. This is static (it does change for our *candidate_list*), i.e., the computation is done once.\n",
    "3. @Random: Simple baseline and important baseline. We simple pick a set of *top-n* articles from the *candidate-list* and run multiple times.\n",
    "4. @Dissimilarity / Similarity (will come later): Select top-n articles that are the most similar / dissimilar. \n",
    "5. @Newest: Simply pick the newest released articles. We do see newssite where the top banner is *Newest released*. We include it, but note this is very sensitive and might not be meaningful."
   ]
  },
  {
   "cell_type": "markdown",
   "metadata": {},
   "source": [
    "### Load the artifacts"
   ]
  },
  {
   "cell_type": "code",
   "execution_count": 92,
   "metadata": {},
   "outputs": [
    {
     "name": "stdout",
     "output_type": "stream",
     "text": [
      "dict_keys(['article_id', 'title', 'subtitle', 'last_modified_time', 'premium', 'body', 'published_time', 'image_ids', 'article_type', 'url', 'ner_clusters', 'entity_groups', 'topics', 'category', 'subcategory', 'category_str', 'total_inviews', 'total_pageviews', 'total_read_time', 'sentiment_score', 'sentiment_label', 'contrastive_vector', 'FacebookAI/xlm-roberta-base', 'google-bert/bert-base-multilingual-cased', 'document_vector'])\n"
     ]
    }
   ],
   "source": [
    "behaviors_timestamp_dict = read_json_file(PATH_BEYOND_ACCURACY.joinpath(BEHAVIORS_TIMESTAMP_DICT))\n",
    "candidate_list = read_json_file(PATH_BEYOND_ACCURACY.joinpath(CANDIDATE_LIST))\n",
    "candidate_dict = read_json_file(PATH_BEYOND_ACCURACY.joinpath(CANDIDATE_DICT))\n",
    "users_dict = read_json_file(PATH_BEYOND_ACCURACY.joinpath(USERS_DICT))\n",
    "\n",
    "# Only the once actually found in the dataset (for demo only 154 of 250 are represent)\n",
    "candidate_list = [str(id) for id in candidate_list if str(id) in list(candidate_dict)]\n",
    "\n",
    "print(candidate_dict[list(candidate_dict)[0]].keys())"
   ]
  },
  {
   "cell_type": "markdown",
   "metadata": {},
   "source": [
    "## Make Ranked Candidate lists"
   ]
  },
  {
   "cell_type": "markdown",
   "metadata": {},
   "source": [
    "### Editorical Pick\n"
   ]
  },
  {
   "cell_type": "code",
   "execution_count": 12,
   "metadata": {},
   "outputs": [
    {
     "name": "stdout",
     "output_type": "stream",
     "text": [
      "shape: (2, 3)\n",
      "┌────────────┬───────────────┬──────────────────┐\n",
      "│ article_id ┆ total_inviews ┆ prediction_score │\n",
      "│ ---        ┆ ---           ┆ ---              │\n",
      "│ i32        ┆ i32           ┆ f64              │\n",
      "╞════════════╪═══════════════╪══════════════════╡\n",
      "│ 9790335    ┆ 1698890       ┆ 1.0              │\n",
      "│ 9791587    ┆ 1369829       ┆ 0.5              │\n",
      "└────────────┴───────────────┴──────────────────┘\n",
      "[['9790335' '9791587']]\n"
     ]
    }
   ],
   "source": [
    "df_candidates_editorial_picks = create_sort_based_prediction_score(df_candidate_articles, column=DEFAULT_TOTAL_INVIEWS_COL, desc=True)\n",
    "candidates_editorial_picks = np.array([df_candidates_editorial_picks.select(DEFAULT_ARTICLE_ID_COL).cast(pl.Utf8).to_series()])\n",
    "# =>\n",
    "print(df_candidates_editorial_picks.head(2))\n",
    "print(candidates_editorial_picks[:, :2])"
   ]
  },
  {
   "cell_type": "markdown",
   "metadata": {},
   "source": [
    "### Popular"
   ]
  },
  {
   "cell_type": "code",
   "execution_count": 13,
   "metadata": {},
   "outputs": [
    {
     "name": "stdout",
     "output_type": "stream",
     "text": [
      "shape: (2, 3)\n",
      "┌────────────┬─────────────────┬──────────────────┐\n",
      "│ article_id ┆ total_pageviews ┆ prediction_score │\n",
      "│ ---        ┆ ---             ┆ ---              │\n",
      "│ i32        ┆ i32             ┆ f64              │\n",
      "╞════════════╪═════════════════╪══════════════════╡\n",
      "│ 9791428    ┆ 256541          ┆ 1.0              │\n",
      "│ 9792719    ┆ 209050          ┆ 0.5              │\n",
      "└────────────┴─────────────────┴──────────────────┘\n",
      "[['9791428' '9792719']]\n"
     ]
    }
   ],
   "source": [
    "df_candidates_popular = create_sort_based_prediction_score(df_candidate_articles, column=DEFAULT_TOTAL_PAGEVIEWS_COL, desc=True)\n",
    "candidates_popular = np.array([df_candidates_popular.select(DEFAULT_ARTICLE_ID_COL).cast(pl.Utf8).to_series()])\n",
    "# => \n",
    "print(df_candidates_popular.head(2))\n",
    "print(candidates_popular[:, :2])"
   ]
  },
  {
   "cell_type": "markdown",
   "metadata": {},
   "source": [
    "### Newest"
   ]
  },
  {
   "cell_type": "code",
   "execution_count": 14,
   "metadata": {},
   "outputs": [
    {
     "name": "stdout",
     "output_type": "stream",
     "text": [
      "shape: (2, 3)\n",
      "┌────────────┬────────────────────────────┬──────────────────┐\n",
      "│ article_id ┆ published_time             ┆ prediction_score │\n",
      "│ ---        ┆ ---                        ┆ ---              │\n",
      "│ i32        ┆ str                        ┆ f64              │\n",
      "╞════════════╪════════════════════════════╪══════════════════╡\n",
      "│ 9790515    ┆ 2023-06-01 07:02:14.000000 ┆ 1.0              │\n",
      "│ 9791205    ┆ 2023-06-01 07:06:57.000000 ┆ 0.5              │\n",
      "└────────────┴────────────────────────────┴──────────────────┘\n",
      "[['9790515' '9791205']]\n"
     ]
    }
   ],
   "source": [
    "df_candidates_newest = create_sort_based_prediction_score(df_candidate_articles, column=DEFAULT_ARTICLE_PUBLISHED_TIMESTAMP_COL, desc=False)\n",
    "candidates_newest = np.array([df_candidates_newest.select(DEFAULT_ARTICLE_ID_COL).cast(pl.Utf8).to_series()])\n",
    "# => \n",
    "print(df_candidates_newest.head(2))\n",
    "print(candidates_newest[:, :2])"
   ]
  },
  {
   "cell_type": "code",
   "execution_count": 15,
   "metadata": {},
   "outputs": [
    {
     "name": "stdout",
     "output_type": "stream",
     "text": [
      "shape: (2, 3)\n",
      "┌────────────┬────────────────────────────┬──────────────────┐\n",
      "│ article_id ┆ published_time             ┆ prediction_score │\n",
      "│ ---        ┆ ---                        ┆ ---              │\n",
      "│ i32        ┆ str                        ┆ f64              │\n",
      "╞════════════╪════════════════════════════╪══════════════════╡\n",
      "│ 9790515    ┆ 2023-06-01 07:02:14.000000 ┆ 1.0              │\n",
      "│ 9791205    ┆ 2023-06-01 07:06:57.000000 ┆ 0.5              │\n",
      "└────────────┴────────────────────────────┴──────────────────┘\n",
      "[['9790515' '9791205']]\n"
     ]
    }
   ],
   "source": [
    "\n",
    "\n",
    "candidates_random = np.array([df_candidates_newest.select(DEFAULT_ARTICLE_ID_COL).cast(pl.Utf8).to_series()])\n",
    "# => \n",
    "print(df_candidates_newest.head(2))\n",
    "print(candidates_newest[:, :2])"
   ]
  },
  {
   "cell_type": "markdown",
   "metadata": {},
   "source": [
    "## Init Metrics"
   ]
  },
  {
   "cell_type": "code",
   "execution_count": 16,
   "metadata": {},
   "outputs": [],
   "source": [
    "instralist_diversity = IntralistDiversity()\n",
    "distribution = Distribution()\n",
    "serendipity = Serendipity()\n",
    "sentiment = Sentiment()\n",
    "coverage = Coverage()\n",
    "novelty = Novelty()"
   ]
  },
  {
   "cell_type": "markdown",
   "metadata": {},
   "source": [
    "## Select @n Candidates"
   ]
  },
  {
   "cell_type": "code",
   "execution_count": 58,
   "metadata": {},
   "outputs": [],
   "source": [
    "RANDOM_ITER = 10_000\n",
    "TOP_N = 5\n",
    "\n",
    "n_candidates_random = [np.random.choice(list(candidate_dict), size=TOP_N, replace=False) for _ in range(RANDOM_ITER)]\n",
    "n_candidates_editorial_picks = candidates_editorial_picks[:, :TOP_N]\n",
    "n_candidates_popular = candidates_popular[:, :TOP_N]\n",
    "n_candidates_newest = candidates_newest[:, :TOP_N]"
   ]
  },
  {
   "cell_type": "markdown",
   "metadata": {},
   "source": [
    "## User-level"
   ]
  },
  {
   "cell_type": "markdown",
   "metadata": {},
   "source": [
    "### Instralist-Diversity"
   ]
  },
  {
   "cell_type": "code",
   "execution_count": 59,
   "metadata": {},
   "outputs": [
    {
     "data": {
      "text/plain": [
       "{'intralist_diversity_editorial_picks': 0.7905415595169083,\n",
       " 'intralist_diversity_diversity_newest': 0.7881369537201913,\n",
       " 'intralist_diversity_popular': 0.8402360685906409,\n",
       " 'intralist_diversity_random': 0.7374153939632756}"
      ]
     },
     "execution_count": 59,
     "metadata": {},
     "output_type": "execute_result"
    }
   ],
   "source": [
    "instralist_diversity_dict = {\n",
    "    f\"{instralist_diversity.name}_editorial_picks\" : instralist_diversity(n_candidates_editorial_picks, lookup_dict=candidate_dict, lookup_key=CONTRASTIVE_VECTOR)[0],\n",
    "    f\"{instralist_diversity.name}_popular\" : instralist_diversity(n_candidates_popular, lookup_dict=candidate_dict, lookup_key=CONTRASTIVE_VECTOR)[0],\n",
    "    f\"{instralist_diversity.name}_random\" : instralist_diversity(n_candidates_random, lookup_dict=candidate_dict, lookup_key=CONTRASTIVE_VECTOR)[0],\n",
    "    f\"{instralist_diversity.name}_diversity_newest\" : instralist_diversity(candidates_newest, lookup_dict=candidate_dict, lookup_key=CONTRASTIVE_VECTOR)[0],\n",
    "}\n",
    "print(instralist_diversity_dict)"
   ]
  },
  {
   "cell_type": "markdown",
   "metadata": {},
   "source": [
    "#### The embedding representation\n",
    "This might be obvious, but the embedding representation used for computing a metric is very influential. Hence, baselines are important to determine high and low scores. Also, this is why these metrics can be very hard to interpret for us."
   ]
  },
  {
   "cell_type": "code",
   "execution_count": 81,
   "metadata": {},
   "outputs": [
    {
     "name": "stdout",
     "output_type": "stream",
     "text": [
      "contrastive_vector: 0.7905415595169083\n",
      "document_vector: 0.1584846028291677\n",
      "FacebookAI/xlm-roberta-base: 0.0007398918387222619\n",
      "google-bert/bert-base-multilingual-cased: 0.028635621408856893\n"
     ]
    }
   ],
   "source": [
    "ROBERTA_EMB = \"FacebookAI/xlm-roberta-base\"\n",
    "BERT_EMB = \"google-bert/bert-base-multilingual-cased\"\n",
    "\n",
    "print(f\"{CONTRASTIVE_VECTOR}: {instralist_diversity(n_candidates_editorial_picks, lookup_dict=candidate_dict, lookup_key=CONTRASTIVE_VECTOR)[0]}\")\n",
    "print(f\"{DOCUMENT_VECTOR}: {instralist_diversity(n_candidates_editorial_picks, lookup_dict=candidate_dict, lookup_key=DOCUMENT_VECTOR)[0]}\")\n",
    "print(f\"{ROBERTA_EMB}: {instralist_diversity(n_candidates_editorial_picks, lookup_dict=candidate_dict, lookup_key=ROBERTA_EMB)[0]}\")\n",
    "print(f\"{BERT_EMB}: {instralist_diversity(n_candidates_editorial_picks, lookup_dict=candidate_dict, lookup_key=BERT_EMB)[0]}\")"
   ]
  },
  {
   "cell_type": "markdown",
   "metadata": {},
   "source": [
    "### Sentiment"
   ]
  },
  {
   "cell_type": "code",
   "execution_count": 99,
   "metadata": {},
   "outputs": [
    {
     "data": {
      "text/plain": [
       "{'sentiment_editorial_picks': 0.7294000029563904,\n",
       " 'sentiment_diversity_newest': 0.8425435067771317,\n",
       " 'sentiment_popular': 0.7834199905395508,\n",
       " 'sentiment_random': 0.8760800004005432}"
      ]
     },
     "execution_count": 99,
     "metadata": {},
     "output_type": "execute_result"
    }
   ],
   "source": [
    "sentiment_dict = {\n",
    "    f\"{sentiment.name}_editorial_picks\" : sentiment(n_candidates_editorial_picks, lookup_dict=candidate_dict, lookup_key=DEFAULT_SENTIMENT_SCORE_COL)[0],\n",
    "    f\"{sentiment.name}_popular\" : sentiment(n_candidates_popular, lookup_dict=candidate_dict, lookup_key=DEFAULT_SENTIMENT_SCORE_COL)[0],\n",
    "    f\"{sentiment.name}_random\" : sentiment(n_candidates_random, lookup_dict=candidate_dict, lookup_key=DEFAULT_SENTIMENT_SCORE_COL)[0],\n",
    "    f\"{sentiment.name}_diversity_newest\" : sentiment(candidates_newest, lookup_dict=candidate_dict, lookup_key=DEFAULT_SENTIMENT_SCORE_COL)[0],\n",
    "}\n",
    "sentiment_dict"
   ]
  },
  {
   "cell_type": "markdown",
   "metadata": {},
   "source": [
    "### Serendipity [MISSING]"
   ]
  },
  {
   "cell_type": "code",
   "execution_count": 103,
   "metadata": {},
   "outputs": [],
   "source": [
    "### ADD USER HISTORY"
   ]
  },
  {
   "cell_type": "markdown",
   "metadata": {},
   "source": [
    "### Novelty [Novelty SCORE]"
   ]
  },
  {
   "cell_type": "code",
   "execution_count": 102,
   "metadata": {},
   "outputs": [
    {
     "data": {
      "text/plain": [
       "{'novelty_editorial_picks': -16.013449525112172,\n",
       " 'novelty_popular': -17.572331203276303,\n",
       " 'novelty_random': -15.704035786361121,\n",
       " 'novelty_diversity_newest': -15.307102970955237}"
      ]
     },
     "execution_count": 102,
     "metadata": {},
     "output_type": "execute_result"
    }
   ],
   "source": [
    "novelty_dict = {\n",
    "    f\"{novelty.name}_editorial_picks\" : novelty(n_candidates_editorial_picks, lookup_dict=candidate_dict, lookup_key=DEFAULT_TOTAL_PAGEVIEWS_COL)[0],\n",
    "    f\"{novelty.name}_popular\" : novelty(n_candidates_popular, lookup_dict=candidate_dict, lookup_key=DEFAULT_TOTAL_PAGEVIEWS_COL)[0],\n",
    "    f\"{novelty.name}_random\" : novelty(n_candidates_random, lookup_dict=candidate_dict, lookup_key=DEFAULT_TOTAL_PAGEVIEWS_COL)[0],\n",
    "    f\"{novelty.name}_diversity_newest\" : novelty(candidates_newest, lookup_dict=candidate_dict, lookup_key=DEFAULT_TOTAL_PAGEVIEWS_COL)[0],\n",
    "}\n",
    "novelty_dict"
   ]
  },
  {
   "cell_type": "markdown",
   "metadata": {},
   "source": [
    "## Model-level"
   ]
  },
  {
   "cell_type": "markdown",
   "metadata": {},
   "source": [
    "### Coverage"
   ]
  },
  {
   "cell_type": "code",
   "execution_count": 93,
   "metadata": {},
   "outputs": [
    {
     "data": {
      "text/plain": [
       "{'coverage_editorial_picks': (5, 0.032467532467532464),\n",
       " 'coverage_popular': (5, 0.032467532467532464),\n",
       " 'coverage_newest': (5, 0.032467532467532464),\n",
       " 'coverage_random': (154, 1.0)}"
      ]
     },
     "execution_count": 93,
     "metadata": {},
     "output_type": "execute_result"
    }
   ],
   "source": [
    "coverage_dict = {\n",
    "    f\"{coverage.name}_editorial_picks\" : coverage(n_candidates_editorial_picks, candidate_list),\n",
    "    f\"{coverage.name}_popular\" : coverage(n_candidates_popular, candidate_list),\n",
    "    f\"{coverage.name}_random\" : coverage(n_candidates_random, candidate_list),\n",
    "    f\"{coverage.name}_newest\" : coverage(n_candidates_newest, candidate_list),\n",
    "}\n",
    "coverage_dict"
   ]
  },
  {
   "cell_type": "markdown",
   "metadata": {},
   "source": [
    "### Distribution"
   ]
  },
  {
   "cell_type": "code",
   "execution_count": 180,
   "metadata": {},
   "outputs": [
    {
     "data": {
      "text/html": [
       "<div><style>\n",
       ".dataframe > thead > tr,\n",
       ".dataframe > tbody > tr {\n",
       "  text-align: right;\n",
       "  white-space: pre-wrap;\n",
       "}\n",
       "</style>\n",
       "<small>shape: (4, 9)</small><table border=\"1\" class=\"dataframe\"><thead><tr><th>forbrug</th><th>nyheder</th><th>krimi</th><th>sport</th><th>penge</th><th>name</th><th>nationen</th><th>underholdning</th><th>musik</th></tr><tr><td>f64</td><td>f64</td><td>f64</td><td>f64</td><td>f64</td><td>str</td><td>f64</td><td>f64</td><td>f64</td></tr></thead><tbody><tr><td>0.2</td><td>0.2</td><td>0.2</td><td>0.2</td><td>0.2</td><td>&quot;distribution_e…</td><td>null</td><td>null</td><td>null</td></tr><tr><td>null</td><td>0.2</td><td>0.2</td><td>0.4</td><td>0.2</td><td>&quot;distribution_p…</td><td>null</td><td>null</td><td>null</td></tr><tr><td>0.01976</td><td>0.2584</td><td>0.15728</td><td>0.27232</td><td>0.05854</td><td>&quot;distribution_r…</td><td>0.03864</td><td>0.13472</td><td>0.06034</td></tr><tr><td>0.019481</td><td>0.25974</td><td>0.155844</td><td>0.272727</td><td>0.058442</td><td>&quot;distribution_d…</td><td>0.038961</td><td>0.136364</td><td>0.058442</td></tr></tbody></table></div>"
      ],
      "text/plain": [
       "shape: (4, 9)\n",
       "┌──────────┬─────────┬──────────┬──────────┬───┬──────────────┬──────────┬──────────────┬──────────┐\n",
       "│ forbrug  ┆ nyheder ┆ krimi    ┆ sport    ┆ … ┆ name         ┆ nationen ┆ underholdnin ┆ musik    │\n",
       "│ ---      ┆ ---     ┆ ---      ┆ ---      ┆   ┆ ---          ┆ ---      ┆ g            ┆ ---      │\n",
       "│ f64      ┆ f64     ┆ f64      ┆ f64      ┆   ┆ str          ┆ f64      ┆ ---          ┆ f64      │\n",
       "│          ┆         ┆          ┆          ┆   ┆              ┆          ┆ f64          ┆          │\n",
       "╞══════════╪═════════╪══════════╪══════════╪═══╪══════════════╪══════════╪══════════════╪══════════╡\n",
       "│ 0.2      ┆ 0.2     ┆ 0.2      ┆ 0.2      ┆ … ┆ distribution ┆ null     ┆ null         ┆ null     │\n",
       "│          ┆         ┆          ┆          ┆   ┆ _editorial_p ┆          ┆              ┆          │\n",
       "│          ┆         ┆          ┆          ┆   ┆ icks         ┆          ┆              ┆          │\n",
       "│ null     ┆ 0.2     ┆ 0.2      ┆ 0.4      ┆ … ┆ distribution ┆ null     ┆ null         ┆ null     │\n",
       "│          ┆         ┆          ┆          ┆   ┆ _popular     ┆          ┆              ┆          │\n",
       "│ 0.01976  ┆ 0.2584  ┆ 0.15728  ┆ 0.27232  ┆ … ┆ distribution ┆ 0.03864  ┆ 0.13472      ┆ 0.06034  │\n",
       "│          ┆         ┆          ┆          ┆   ┆ _random      ┆          ┆              ┆          │\n",
       "│ 0.019481 ┆ 0.25974 ┆ 0.155844 ┆ 0.272727 ┆ … ┆ distribution ┆ 0.038961 ┆ 0.136364     ┆ 0.058442 │\n",
       "│          ┆         ┆          ┆          ┆   ┆ _diversity_n ┆          ┆              ┆          │\n",
       "│          ┆         ┆          ┆          ┆   ┆ ewest        ┆          ┆              ┆          │\n",
       "└──────────┴─────────┴──────────┴──────────┴───┴──────────────┴──────────┴──────────────┴──────────┘"
      ]
     },
     "execution_count": 180,
     "metadata": {},
     "output_type": "execute_result"
    }
   ],
   "source": [
    "distribution_dict = {\n",
    "    f\"{distribution.name}_editorial_picks\" : distribution(n_candidates_editorial_picks, lookup_dict=candidate_dict, lookup_key=DEFAULT_CATEGORY_STR_COL),\n",
    "    f\"{distribution.name}_popular\" : distribution(n_candidates_popular, lookup_dict=candidate_dict, lookup_key=DEFAULT_CATEGORY_STR_COL),\n",
    "    f\"{distribution.name}_random\" : distribution(n_candidates_random, lookup_dict=candidate_dict, lookup_key=DEFAULT_CATEGORY_STR_COL),\n",
    "    f\"{distribution.name}_diversity_newest\" : distribution(candidates_newest, lookup_dict=candidate_dict, lookup_key=DEFAULT_CATEGORY_STR_COL),\n",
    "}\n",
    "# =>\n",
    "for key in distribution_dict.keys():\n",
    "    distribution_dict[key][\"name\"] = key\n",
    "dfs = [pl.DataFrame(val) for val in distribution_dict.values()]\n",
    "# =>\n",
    "df_distribution_category = pl.concat(dfs, how=\"diagonal\")\n",
    "col_names = [\"names\"] + [n for n in df_distribution_category.columns if n != \"name\"]\n",
    "# =<\n",
    "df_distribution_category.select(pl.all())"
   ]
  },
  {
   "cell_type": "code",
   "execution_count": 173,
   "metadata": {},
   "outputs": [
    {
     "data": {
      "text/html": [
       "<div><style>\n",
       ".dataframe > thead > tr,\n",
       ".dataframe > tbody > tr {\n",
       "  text-align: right;\n",
       "  white-space: pre-wrap;\n",
       "}\n",
       "</style>\n",
       "<small>shape: (4, 9)</small><table border=\"1\" class=\"dataframe\"><thead><tr><th>forbrug</th><th>nyheder</th><th>krimi</th><th>sport</th><th>penge</th><th>name</th><th>nationen</th><th>underholdning</th><th>musik</th></tr><tr><td>f64</td><td>f64</td><td>f64</td><td>f64</td><td>f64</td><td>str</td><td>f64</td><td>f64</td><td>f64</td></tr></thead><tbody><tr><td>0.2</td><td>0.2</td><td>0.2</td><td>0.2</td><td>0.2</td><td>&quot;distribution_e…</td><td>null</td><td>null</td><td>null</td></tr><tr><td>null</td><td>0.2</td><td>0.2</td><td>0.4</td><td>0.2</td><td>&quot;distribution_p…</td><td>null</td><td>null</td><td>null</td></tr><tr><td>0.01976</td><td>0.2584</td><td>0.15728</td><td>0.27232</td><td>0.05854</td><td>&quot;distribution_r…</td><td>0.03864</td><td>0.13472</td><td>0.06034</td></tr><tr><td>0.019481</td><td>0.25974</td><td>0.155844</td><td>0.272727</td><td>0.058442</td><td>&quot;distribution_d…</td><td>0.038961</td><td>0.136364</td><td>0.058442</td></tr></tbody></table></div>"
      ],
      "text/plain": [
       "shape: (4, 9)\n",
       "┌──────────┬─────────┬──────────┬──────────┬───┬──────────────┬──────────┬──────────────┬──────────┐\n",
       "│ forbrug  ┆ nyheder ┆ krimi    ┆ sport    ┆ … ┆ name         ┆ nationen ┆ underholdnin ┆ musik    │\n",
       "│ ---      ┆ ---     ┆ ---      ┆ ---      ┆   ┆ ---          ┆ ---      ┆ g            ┆ ---      │\n",
       "│ f64      ┆ f64     ┆ f64      ┆ f64      ┆   ┆ str          ┆ f64      ┆ ---          ┆ f64      │\n",
       "│          ┆         ┆          ┆          ┆   ┆              ┆          ┆ f64          ┆          │\n",
       "╞══════════╪═════════╪══════════╪══════════╪═══╪══════════════╪══════════╪══════════════╪══════════╡\n",
       "│ 0.2      ┆ 0.2     ┆ 0.2      ┆ 0.2      ┆ … ┆ distribution ┆ null     ┆ null         ┆ null     │\n",
       "│          ┆         ┆          ┆          ┆   ┆ _editorial_p ┆          ┆              ┆          │\n",
       "│          ┆         ┆          ┆          ┆   ┆ icks         ┆          ┆              ┆          │\n",
       "│ null     ┆ 0.2     ┆ 0.2      ┆ 0.4      ┆ … ┆ distribution ┆ null     ┆ null         ┆ null     │\n",
       "│          ┆         ┆          ┆          ┆   ┆ _popular     ┆          ┆              ┆          │\n",
       "│ 0.01976  ┆ 0.2584  ┆ 0.15728  ┆ 0.27232  ┆ … ┆ distribution ┆ 0.03864  ┆ 0.13472      ┆ 0.06034  │\n",
       "│          ┆         ┆          ┆          ┆   ┆ _random      ┆          ┆              ┆          │\n",
       "│ 0.019481 ┆ 0.25974 ┆ 0.155844 ┆ 0.272727 ┆ … ┆ distribution ┆ 0.038961 ┆ 0.136364     ┆ 0.058442 │\n",
       "│          ┆         ┆          ┆          ┆   ┆ _diversity_n ┆          ┆              ┆          │\n",
       "│          ┆         ┆          ┆          ┆   ┆ ewest        ┆          ┆              ┆          │\n",
       "└──────────┴─────────┴──────────┴──────────┴───┴──────────────┴──────────┴──────────────┴──────────┘"
      ]
     },
     "execution_count": 173,
     "metadata": {},
     "output_type": "execute_result"
    }
   ],
   "source": [
    "df_distribution_category\n"
   ]
  },
  {
   "cell_type": "code",
   "execution_count": 154,
   "metadata": {},
   "outputs": [
    {
     "data": {
      "text/html": [
       "<div><style>\n",
       ".dataframe > thead > tr,\n",
       ".dataframe > tbody > tr {\n",
       "  text-align: right;\n",
       "  white-space: pre-wrap;\n",
       "}\n",
       "</style>\n",
       "<small>shape: (2, 9)</small><table border=\"1\" class=\"dataframe\"><thead><tr><th>forbrug</th><th>nyheder</th><th>krimi</th><th>sport</th><th>penge</th><th>name</th><th>underholdning</th><th>musik</th><th>nationen</th></tr><tr><td>f64</td><td>f64</td><td>f64</td><td>f64</td><td>f64</td><td>str</td><td>f64</td><td>f64</td><td>f64</td></tr></thead><tbody><tr><td>0.2</td><td>0.2</td><td>0.2</td><td>0.2</td><td>0.2</td><td>&quot;distribution_e…</td><td>null</td><td>null</td><td>null</td></tr><tr><td>0.019481</td><td>0.25974</td><td>0.155844</td><td>0.272727</td><td>0.058442</td><td>null</td><td>0.136364</td><td>0.058442</td><td>0.038961</td></tr></tbody></table></div>"
      ],
      "text/plain": [
       "shape: (2, 9)\n",
       "┌──────────┬─────────┬──────────┬──────────┬───┬──────────────┬──────────────┬──────────┬──────────┐\n",
       "│ forbrug  ┆ nyheder ┆ krimi    ┆ sport    ┆ … ┆ name         ┆ underholdnin ┆ musik    ┆ nationen │\n",
       "│ ---      ┆ ---     ┆ ---      ┆ ---      ┆   ┆ ---          ┆ g            ┆ ---      ┆ ---      │\n",
       "│ f64      ┆ f64     ┆ f64      ┆ f64      ┆   ┆ str          ┆ ---          ┆ f64      ┆ f64      │\n",
       "│          ┆         ┆          ┆          ┆   ┆              ┆ f64          ┆          ┆          │\n",
       "╞══════════╪═════════╪══════════╪══════════╪═══╪══════════════╪══════════════╪══════════╪══════════╡\n",
       "│ 0.2      ┆ 0.2     ┆ 0.2      ┆ 0.2      ┆ … ┆ distribution ┆ null         ┆ null     ┆ null     │\n",
       "│          ┆         ┆          ┆          ┆   ┆ _editorial_p ┆              ┆          ┆          │\n",
       "│          ┆         ┆          ┆          ┆   ┆ icks         ┆              ┆          ┆          │\n",
       "│ 0.019481 ┆ 0.25974 ┆ 0.155844 ┆ 0.272727 ┆ … ┆ null         ┆ 0.136364     ┆ 0.058442 ┆ 0.038961 │\n",
       "└──────────┴─────────┴──────────┴──────────┴───┴──────────────┴──────────────┴──────────┴──────────┘"
      ]
     },
     "execution_count": 154,
     "metadata": {},
     "output_type": "execute_result"
    }
   ],
   "source": []
  },
  {
   "cell_type": "markdown",
   "metadata": {},
   "source": [
    "# ASd"
   ]
  },
  {
   "cell_type": "code",
   "execution_count": 110,
   "metadata": {},
   "outputs": [],
   "source": [
    "instralist_diversity = IntralistDiversity()\n",
    "distribution = Distribution()\n",
    "serendipity = Serendipity()\n",
    "sentiment = Sentiment()\n",
    "coverage = Coverage()\n",
    "novelty = Novelty()"
   ]
  },
  {
   "cell_type": "code",
   "execution_count": 68,
   "metadata": {},
   "outputs": [
    {
     "data": {
      "text/plain": [
       "array([0.7294])"
      ]
     },
     "execution_count": 68,
     "metadata": {},
     "output_type": "execute_result"
    }
   ],
   "source": [
    "sentiment(n_candidates_editorial_picks, lookup_dict=candidate_dict, lookup_key=\"sentiment_score\")"
   ]
  },
  {
   "cell_type": "code",
   "execution_count": null,
   "metadata": {},
   "outputs": [],
   "source": []
  }
 ],
 "metadata": {
  "kernelspec": {
   "display_name": "Python 3",
   "language": "python",
   "name": "python3"
  },
  "language_info": {
   "codemirror_mode": {
    "name": "ipython",
    "version": 3
   },
   "file_extension": ".py",
   "mimetype": "text/x-python",
   "name": "python",
   "nbconvert_exporter": "python",
   "pygments_lexer": "ipython3",
   "version": "3.11.7"
  }
 },
 "nbformat": 4,
 "nbformat_minor": 2
}
