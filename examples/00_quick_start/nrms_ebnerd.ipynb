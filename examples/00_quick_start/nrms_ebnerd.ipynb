{
 "cells": [
  {
   "cell_type": "markdown",
   "metadata": {},
   "source": [
    "# Getting started"
   ]
  },
  {
   "cell_type": "code",
   "execution_count": 22,
   "metadata": {},
   "outputs": [],
   "source": [
    "from pathlib import Path\n",
    "import polars as pl\n",
    "from ebrec.utils._constants import (\n",
    "    DEFAULT_HISTORY_ARTICLE_ID_COL, \n",
    "    DEFAULT_IMPRESSION_ID_COL,\n",
    "    DEFAULT_SUBTITLE_COL,\n",
    "    DEFAULT_TITLE_COL, \n",
    "    DEFAULT_USER_COL, \n",
    ")\n",
    "from ebrec.utils._behaviors import (\n",
    "    create_binary_labels_column, \n",
    "    sampling_strategy_wu2019,\n",
    "    add_known_user_column,\n",
    "    add_prediction_scores,\n",
    "    truncate_history, \n",
    ")\n",
    "from ebrec.utils._articles import convert_text2encoding_with_transformers\n",
    "from ebrec.utils._articles import create_article_id_to_value_mapping\n",
    "from ebrec.utils._nlp import get_transformers_word_embeddings\n",
    "from ebrec.utils._polars import concat_str_columns\n",
    "\n",
    "from ebrec.models.newsrec.dataloader import NRMSDataLoader\n",
    "from ebrec.models.newsrec.model_config import hparams_nrms\n",
    "from ebrec.models.newsrec import NRMSModel\n",
    "\n",
    "# \n",
    "from transformers import AutoTokenizer, AutoModel\n",
    "import tensorflow as tf"
   ]
  },
  {
   "cell_type": "markdown",
   "metadata": {},
   "source": [
    "## Load dataset"
   ]
  },
  {
   "cell_type": "code",
   "execution_count": 3,
   "metadata": {},
   "outputs": [
    {
     "name": "stderr",
     "output_type": "stream",
     "text": [
      "/Users/johannes.kruse/Documents/CodeProject/ebnerd-benchmark/src/ebrec/utils/_behaviors.py:621: UserWarning: truncate_history: The history IDs expeced in ascending order\n",
      "  warnings.warn(f\"{function_name}: The history IDs expeced in ascending order\")\n"
     ]
    }
   ],
   "source": [
    "path = Path(\"../downloads/ebnerd\")\n",
    "HISTORY_SIZE = 30\n",
    "\n",
    "df_history = (\n",
    "    pl.scan_parquet(path.joinpath(\"history.parquet\"))\n",
    "    .select(DEFAULT_USER_COL, DEFAULT_HISTORY_ARTICLE_ID_COL)\n",
    "    .pipe(\n",
    "        truncate_history,\n",
    "        column=DEFAULT_HISTORY_ARTICLE_ID_COL,\n",
    "        history_size=HISTORY_SIZE,\n",
    "        padding_value=0,\n",
    "    )\n",
    ")\n",
    "df_behaviors = (\n",
    "    pl.scan_parquet(path.joinpath(\"behaviors.parquet\"))\n",
    "    .join(df_history, on=DEFAULT_USER_COL, how=\"inner\")\n",
    "    .collect()\n",
    "    .pipe(create_binary_labels_column, shuffle= True, seed=123)\n",
    ")\n",
    "df_articles = pl.read_parquet(path.joinpath(\"articles.parquet\"))"
   ]
  },
  {
   "cell_type": "code",
   "execution_count": 4,
   "metadata": {},
   "outputs": [
    {
     "data": {
      "text/html": [
       "<div><style>\n",
       ".dataframe > thead > tr,\n",
       ".dataframe > tbody > tr {\n",
       "  text-align: right;\n",
       "  white-space: pre-wrap;\n",
       "}\n",
       "</style>\n",
       "<small>shape: (3, 19)</small><table border=\"1\" class=\"dataframe\"><thead><tr><th>impression_id</th><th>article_id</th><th>impression_time</th><th>read_time</th><th>scroll_percentage</th><th>device_type</th><th>article_ids_inview</th><th>article_ids_clicked</th><th>user_id</th><th>is_sso_user</th><th>gender</th><th>postcode</th><th>age</th><th>is_subscriber</th><th>session_id</th><th>next_read_time</th><th>next_scroll_percentage</th><th>article_id_fixed</th><th>labels</th></tr><tr><td>u32</td><td>i32</td><td>datetime[μs]</td><td>f32</td><td>f32</td><td>i8</td><td>list[i32]</td><td>list[i32]</td><td>u32</td><td>bool</td><td>i8</td><td>i8</td><td>i8</td><td>bool</td><td>u32</td><td>f32</td><td>f32</td><td>list[i32]</td><td>list[i8]</td></tr></thead><tbody><tr><td>9</td><td>null</td><td>2023-02-27 03:23:27</td><td>17.0</td><td>null</td><td>2</td><td>[9652027, 9652025, … 9651983]</td><td>[9651983]</td><td>12258</td><td>true</td><td>0</td><td>null</td><td>40</td><td>true</td><td>70</td><td>8.0</td><td>30.0</td><td>[9645747, 9645715, … 9647111]</td><td>[0, 0, … 1]</td></tr><tr><td>71</td><td>null</td><td>2023-02-24 22:12:39</td><td>82.0</td><td>null</td><td>3</td><td>[9642621, 9644724, … 9650042]</td><td>[9649392]</td><td>33638</td><td>true</td><td>1</td><td>4</td><td>60</td><td>true</td><td>938</td><td>14.0</td><td>17.0</td><td>[9642685, 9642770, … 9646146]</td><td>[0, 0, … 0]</td></tr><tr><td>151</td><td>9650148</td><td>2023-02-25 06:37:19</td><td>22.0</td><td>100.0</td><td>1</td><td>[9594794, 9650097, … 9649734]</td><td>[9642713]</td><td>44038</td><td>true</td><td>null</td><td>null</td><td>null</td><td>true</td><td>1153</td><td>66.0</td><td>100.0</td><td>[9644413, 9646081, … 9646154]</td><td>[0, 0, … 0]</td></tr></tbody></table></div>"
      ],
      "text/plain": [
       "shape: (3, 19)\n",
       "┌───────────┬───────────┬───────────┬───────────┬───┬───────────┬───────────┬───────────┬──────────┐\n",
       "│ impressio ┆ article_i ┆ impressio ┆ read_time ┆ … ┆ next_read ┆ next_scro ┆ article_i ┆ labels   │\n",
       "│ n_id      ┆ d         ┆ n_time    ┆ ---       ┆   ┆ _time     ┆ ll_percen ┆ d_fixed   ┆ ---      │\n",
       "│ ---       ┆ ---       ┆ ---       ┆ f32       ┆   ┆ ---       ┆ tage      ┆ ---       ┆ list[i8] │\n",
       "│ u32       ┆ i32       ┆ datetime[ ┆           ┆   ┆ f32       ┆ ---       ┆ list[i32] ┆          │\n",
       "│           ┆           ┆ μs]       ┆           ┆   ┆           ┆ f32       ┆           ┆          │\n",
       "╞═══════════╪═══════════╪═══════════╪═══════════╪═══╪═══════════╪═══════════╪═══════════╪══════════╡\n",
       "│ 9         ┆ null      ┆ 2023-02-2 ┆ 17.0      ┆ … ┆ 8.0       ┆ 30.0      ┆ [9645747, ┆ [0, 0, … │\n",
       "│           ┆           ┆ 7         ┆           ┆   ┆           ┆           ┆ 9645715,  ┆ 1]       │\n",
       "│           ┆           ┆ 03:23:27  ┆           ┆   ┆           ┆           ┆ …         ┆          │\n",
       "│           ┆           ┆           ┆           ┆   ┆           ┆           ┆ 9647111]  ┆          │\n",
       "│ 71        ┆ null      ┆ 2023-02-2 ┆ 82.0      ┆ … ┆ 14.0      ┆ 17.0      ┆ [9642685, ┆ [0, 0, … │\n",
       "│           ┆           ┆ 4         ┆           ┆   ┆           ┆           ┆ 9642770,  ┆ 0]       │\n",
       "│           ┆           ┆ 22:12:39  ┆           ┆   ┆           ┆           ┆ …         ┆          │\n",
       "│           ┆           ┆           ┆           ┆   ┆           ┆           ┆ 9646146]  ┆          │\n",
       "│ 151       ┆ 9650148   ┆ 2023-02-2 ┆ 22.0      ┆ … ┆ 66.0      ┆ 100.0     ┆ [9644413, ┆ [0, 0, … │\n",
       "│           ┆           ┆ 5         ┆           ┆   ┆           ┆           ┆ 9646081,  ┆ 0]       │\n",
       "│           ┆           ┆ 06:37:19  ┆           ┆   ┆           ┆           ┆ …         ┆          │\n",
       "│           ┆           ┆           ┆           ┆   ┆           ┆           ┆ 9646154]  ┆          │\n",
       "└───────────┴───────────┴───────────┴───────────┴───┴───────────┴───────────┴───────────┴──────────┘"
      ]
     },
     "execution_count": 4,
     "metadata": {},
     "output_type": "execute_result"
    }
   ],
   "source": [
    "df_behaviors.head(3)"
   ]
  },
  {
   "cell_type": "code",
   "execution_count": 5,
   "metadata": {},
   "outputs": [
    {
     "data": {
      "text/html": [
       "<div><style>\n",
       ".dataframe > thead > tr,\n",
       ".dataframe > tbody > tr {\n",
       "  text-align: right;\n",
       "  white-space: pre-wrap;\n",
       "}\n",
       "</style>\n",
       "<small>shape: (3, 16)</small><table border=\"1\" class=\"dataframe\"><thead><tr><th>article_id</th><th>title</th><th>subtitle</th><th>last_modified_time</th><th>premium</th><th>body</th><th>published_time</th><th>image_ids</th><th>article_type</th><th>url</th><th>ner_clusters</th><th>entity_groups</th><th>topics</th><th>category</th><th>subcategory</th><th>category_str</th></tr><tr><td>i32</td><td>str</td><td>str</td><td>datetime[μs]</td><td>bool</td><td>str</td><td>datetime[μs]</td><td>list[i64]</td><td>str</td><td>str</td><td>list[str]</td><td>list[str]</td><td>list[str]</td><td>i16</td><td>list[i16]</td><td>str</td></tr></thead><tbody><tr><td>4108820</td><td>&quot;Se frække Tria…</td><td>&quot;Den norske Par…</td><td>2023-06-29 06:36:23</td><td>false</td><td>&quot;- Gud. Jeg håb…</td><td>2011-03-26 09:12:29</td><td>[3628735, 3628733, 3628734]</td><td>&quot;article_defaul…</td><td>&quot;https://ekstra…</td><td>[]</td><td>[]</td><td>[]</td><td>414</td><td>[432]</td><td>&quot;underholdning&quot;</td></tr><tr><td>4201730</td><td>&quot;Seks års fængs…</td><td>&quot;Rockerlærlinge…</td><td>2023-06-29 06:42:51</td><td>false</td><td>&quot;Den 20-årige A…</td><td>2009-10-09 10:17:15</td><td>[3405274]</td><td>&quot;article_defaul…</td><td>&quot;https://ekstra…</td><td>[]</td><td>[]</td><td>[]</td><td>140</td><td>[]</td><td>&quot;krimi&quot;</td></tr><tr><td>4739365</td><td>&quot;Økonomisk luss…</td><td>&quot;Stjernestylist…</td><td>2023-06-29 07:07:15</td><td>false</td><td>&quot;Det blev en dy…</td><td>2013-02-18 08:55:29</td><td>[3820962]</td><td>&quot;article_defaul…</td><td>&quot;https://ekstra…</td><td>[]</td><td>[]</td><td>[]</td><td>414</td><td>[425]</td><td>&quot;underholdning&quot;</td></tr></tbody></table></div>"
      ],
      "text/plain": [
       "shape: (3, 16)\n",
       "┌───────────┬───────────┬───────────┬───────────┬───┬───────────┬──────────┬───────────┬───────────┐\n",
       "│ article_i ┆ title     ┆ subtitle  ┆ last_modi ┆ … ┆ topics    ┆ category ┆ subcatego ┆ category_ │\n",
       "│ d         ┆ ---       ┆ ---       ┆ fied_time ┆   ┆ ---       ┆ ---      ┆ ry        ┆ str       │\n",
       "│ ---       ┆ str       ┆ str       ┆ ---       ┆   ┆ list[str] ┆ i16      ┆ ---       ┆ ---       │\n",
       "│ i32       ┆           ┆           ┆ datetime[ ┆   ┆           ┆          ┆ list[i16] ┆ str       │\n",
       "│           ┆           ┆           ┆ μs]       ┆   ┆           ┆          ┆           ┆           │\n",
       "╞═══════════╪═══════════╪═══════════╪═══════════╪═══╪═══════════╪══════════╪═══════════╪═══════════╡\n",
       "│ 4108820   ┆ Se frække ┆ Den       ┆ 2023-06-2 ┆ … ┆ []        ┆ 414      ┆ [432]     ┆ underhold │\n",
       "│           ┆ Triana    ┆ norske    ┆ 9         ┆   ┆           ┆          ┆           ┆ ning      │\n",
       "│           ┆ helt      ┆ Paradise  ┆ 06:36:23  ┆   ┆           ┆          ┆           ┆           │\n",
       "│           ┆ nøgen     ┆ Hotel-vær ┆           ┆   ┆           ┆          ┆           ┆           │\n",
       "│           ┆           ┆ t T…      ┆           ┆   ┆           ┆          ┆           ┆           │\n",
       "│ 4201730   ┆ Seks års  ┆ Rockerlær ┆ 2023-06-2 ┆ … ┆ []        ┆ 140      ┆ []        ┆ krimi     │\n",
       "│           ┆ fængsel   ┆ lingen er ┆ 9         ┆   ┆           ┆          ┆           ┆           │\n",
       "│           ┆ til AK    ┆ dømt for  ┆ 06:42:51  ┆   ┆           ┆          ┆           ┆           │\n",
       "│           ┆ 81´er     ┆ drab…     ┆           ┆   ┆           ┆          ┆           ┆           │\n",
       "│ 4739365   ┆ Økonomisk ┆ Stjernest ┆ 2023-06-2 ┆ … ┆ []        ┆ 414      ┆ [425]     ┆ underhold │\n",
       "│           ┆ lussing   ┆ ylisten   ┆ 9         ┆   ┆           ┆          ┆           ┆ ning      │\n",
       "│           ┆ til       ┆ må frivil ┆ 07:07:15  ┆   ┆           ┆          ┆           ┆           │\n",
       "│           ┆ Dennis    ┆ ligt b…   ┆           ┆   ┆           ┆          ┆           ┆           │\n",
       "│           ┆ Knu…      ┆           ┆           ┆   ┆           ┆          ┆           ┆           │\n",
       "└───────────┴───────────┴───────────┴───────────┴───┴───────────┴──────────┴───────────┴───────────┘"
      ]
     },
     "execution_count": 5,
     "metadata": {},
     "output_type": "execute_result"
    }
   ],
   "source": [
    "df_articles.head(3)"
   ]
  },
  {
   "cell_type": "code",
   "execution_count": 6,
   "metadata": {},
   "outputs": [],
   "source": [
    "TRANSFORMER_MODEL_NAME = \"bert-base-multilingual-cased\"\n",
    "TEXT_COLUMNS_TO_USE = [DEFAULT_SUBTITLE_COL, DEFAULT_TITLE_COL]\n",
    "MAX_TITLE_LENGTH = 30\n",
    "\n",
    "transformer_model = AutoModel.from_pretrained(TRANSFORMER_MODEL_NAME)\n",
    "transformer_tokenizer = AutoTokenizer.from_pretrained(TRANSFORMER_MODEL_NAME)\n",
    "word2vec_embedding = get_transformers_word_embeddings(transformer_model)\n",
    "\n",
    "df_articles, cat_cal = concat_str_columns(df_articles, columns=TEXT_COLUMNS_TO_USE)\n",
    "df_articles, token_col_title = convert_text2encoding_with_transformers(\n",
    "    df_articles, transformer_tokenizer, cat_cal, max_length=MAX_TITLE_LENGTH\n",
    ")\n",
    "# =>\n",
    "article_mapping = create_article_id_to_value_mapping(df=df_articles, value_col=token_col_title)"
   ]
  },
  {
   "cell_type": "code",
   "execution_count": 7,
   "metadata": {},
   "outputs": [
    {
     "data": {
      "text/html": [
       "<div><style>\n",
       ".dataframe > thead > tr,\n",
       ".dataframe > tbody > tr {\n",
       "  text-align: right;\n",
       "  white-space: pre-wrap;\n",
       "}\n",
       "</style>\n",
       "<small>shape: (5, 18)</small><table border=\"1\" class=\"dataframe\"><thead><tr><th>article_id</th><th>title</th><th>subtitle</th><th>last_modified_time</th><th>premium</th><th>body</th><th>published_time</th><th>image_ids</th><th>article_type</th><th>url</th><th>ner_clusters</th><th>entity_groups</th><th>topics</th><th>category</th><th>subcategory</th><th>category_str</th><th>subtitle-title</th><th>subtitle-title_encode_bert-base-multilingual-cased</th></tr><tr><td>i32</td><td>str</td><td>str</td><td>datetime[μs]</td><td>bool</td><td>str</td><td>datetime[μs]</td><td>list[i64]</td><td>str</td><td>str</td><td>list[str]</td><td>list[str]</td><td>list[str]</td><td>i16</td><td>list[i16]</td><td>str</td><td>str</td><td>list[i64]</td></tr></thead><tbody><tr><td>4108820</td><td>&quot;Se frække Tria…</td><td>&quot;Den norske Par…</td><td>2023-06-29 06:36:23</td><td>false</td><td>&quot;- Gud. Jeg håb…</td><td>2011-03-26 09:12:29</td><td>[3628735, 3628733, 3628734]</td><td>&quot;article_defaul…</td><td>&quot;https://ekstra…</td><td>[]</td><td>[]</td><td>[]</td><td>414</td><td>[432]</td><td>&quot;underholdning&quot;</td><td>&quot;Den norske Par…</td><td>[10235, 18470, … 10453]</td></tr><tr><td>4201730</td><td>&quot;Seks års fængs…</td><td>&quot;Rockerlærlinge…</td><td>2023-06-29 06:42:51</td><td>false</td><td>&quot;Den 20-årige A…</td><td>2009-10-09 10:17:15</td><td>[3405274]</td><td>&quot;article_defaul…</td><td>&quot;https://ekstra…</td><td>[]</td><td>[]</td><td>[]</td><td>140</td><td>[]</td><td>&quot;krimi&quot;</td><td>&quot;Rockerlærlinge…</td><td>[12158, 10165, … 89494]</td></tr><tr><td>4739365</td><td>&quot;Økonomisk luss…</td><td>&quot;Stjernestylist…</td><td>2023-06-29 07:07:15</td><td>false</td><td>&quot;Det blev en dy…</td><td>2013-02-18 08:55:29</td><td>[3820962]</td><td>&quot;article_defaul…</td><td>&quot;https://ekstra…</td><td>[]</td><td>[]</td><td>[]</td><td>414</td><td>[425]</td><td>&quot;underholdning&quot;</td><td>&quot;Stjernestylist…</td><td>[10838, 59679, … 63400]</td></tr><tr><td>4918926</td><td>&quot;Stjernekokkene…</td><td>&quot;Nogle af Danma…</td><td>2023-06-29 07:14:22</td><td>true</td><td>&quot;Du behøver ikk…</td><td>2014-11-25 07:53:06</td><td>[4668258, 4476036, … 4476661]</td><td>&quot;article_defaul…</td><td>&quot;https://ekstra…</td><td>[]</td><td>[]</td><td>[]</td><td>457</td><td>[]</td><td>&quot;forbrug&quot;</td><td>&quot;Nogle af Danma…</td><td>[10657, 23239, … 60735]</td></tr><tr><td>5016920</td><td>&quot;Betinget fængs…</td><td>&quot;Johnny Hansens…</td><td>2023-06-29 07:15:25</td><td>false</td><td>&quot;Kandis-forsang…</td><td>2014-09-12 09:19:21</td><td>[4640922, 3539276]</td><td>&quot;article_defaul…</td><td>&quot;https://ekstra…</td><td>[]</td><td>[]</td><td>[]</td><td>140</td><td>[]</td><td>&quot;krimi&quot;</td><td>&quot;Johnny Hansens…</td><td>[15551, 22126, … 40681]</td></tr></tbody></table></div>"
      ],
      "text/plain": [
       "shape: (5, 18)\n",
       "┌───────────┬───────────┬───────────┬───────────┬───┬───────────┬───────────┬───────────┬──────────┐\n",
       "│ article_i ┆ title     ┆ subtitle  ┆ last_modi ┆ … ┆ subcatego ┆ category_ ┆ subtitle- ┆ subtitle │\n",
       "│ d         ┆ ---       ┆ ---       ┆ fied_time ┆   ┆ ry        ┆ str       ┆ title     ┆ -title_e │\n",
       "│ ---       ┆ str       ┆ str       ┆ ---       ┆   ┆ ---       ┆ ---       ┆ ---       ┆ ncode_be │\n",
       "│ i32       ┆           ┆           ┆ datetime[ ┆   ┆ list[i16] ┆ str       ┆ str       ┆ rt-base- │\n",
       "│           ┆           ┆           ┆ μs]       ┆   ┆           ┆           ┆           ┆ …        │\n",
       "│           ┆           ┆           ┆           ┆   ┆           ┆           ┆           ┆ ---      │\n",
       "│           ┆           ┆           ┆           ┆   ┆           ┆           ┆           ┆ list[i64 │\n",
       "│           ┆           ┆           ┆           ┆   ┆           ┆           ┆           ┆ ]        │\n",
       "╞═══════════╪═══════════╪═══════════╪═══════════╪═══╪═══════════╪═══════════╪═══════════╪══════════╡\n",
       "│ 4108820   ┆ Se frække ┆ Den       ┆ 2023-06-2 ┆ … ┆ [432]     ┆ underhold ┆ Den       ┆ [10235,  │\n",
       "│           ┆ Triana    ┆ norske    ┆ 9         ┆   ┆           ┆ ning      ┆ norske    ┆ 18470, … │\n",
       "│           ┆ helt      ┆ Paradise  ┆ 06:36:23  ┆   ┆           ┆           ┆ Paradise  ┆ 10453]   │\n",
       "│           ┆ nøgen     ┆ Hotel-vær ┆           ┆   ┆           ┆           ┆ Hotel-vær ┆          │\n",
       "│           ┆           ┆ t T…      ┆           ┆   ┆           ┆           ┆ t T…      ┆          │\n",
       "│ 4201730   ┆ Seks års  ┆ Rockerlær ┆ 2023-06-2 ┆ … ┆ []        ┆ krimi     ┆ Rockerlær ┆ [12158,  │\n",
       "│           ┆ fængsel   ┆ lingen er ┆ 9         ┆   ┆           ┆           ┆ lingen er ┆ 10165, … │\n",
       "│           ┆ til AK    ┆ dømt for  ┆ 06:42:51  ┆   ┆           ┆           ┆ dømt for  ┆ 89494]   │\n",
       "│           ┆ 81´er     ┆ drab…     ┆           ┆   ┆           ┆           ┆ drab…     ┆          │\n",
       "│ 4739365   ┆ Økonomisk ┆ Stjernest ┆ 2023-06-2 ┆ … ┆ [425]     ┆ underhold ┆ Stjernest ┆ [10838,  │\n",
       "│           ┆ lussing   ┆ ylisten   ┆ 9         ┆   ┆           ┆ ning      ┆ ylisten   ┆ 59679, … │\n",
       "│           ┆ til       ┆ må frivil ┆ 07:07:15  ┆   ┆           ┆           ┆ må frivil ┆ 63400]   │\n",
       "│           ┆ Dennis    ┆ ligt b…   ┆           ┆   ┆           ┆           ┆ ligt b…   ┆          │\n",
       "│           ┆ Knu…      ┆           ┆           ┆   ┆           ┆           ┆           ┆          │\n",
       "│ 4918926   ┆ Stjerneko ┆ Nogle af  ┆ 2023-06-2 ┆ … ┆ []        ┆ forbrug   ┆ Nogle af  ┆ [10657,  │\n",
       "│           ┆ kkenes    ┆ Danmarks  ┆ 9         ┆   ┆           ┆           ┆ Danmarks  ┆ 23239, … │\n",
       "│           ┆ nemme     ┆ største   ┆ 07:14:22  ┆   ┆           ┆           ┆ største   ┆ 60735]   │\n",
       "│           ┆ trick til ┆ madgen…   ┆           ┆   ┆           ┆           ┆ madgen…   ┆          │\n",
       "│           ┆ …         ┆           ┆           ┆   ┆           ┆           ┆           ┆          │\n",
       "│ 5016920   ┆ Betinget  ┆ Johnny    ┆ 2023-06-2 ┆ … ┆ []        ┆ krimi     ┆ Johnny    ┆ [15551,  │\n",
       "│           ┆ fængsel   ┆ Hansens   ┆ 9         ┆   ┆           ┆           ┆ Hansens   ┆ 22126, … │\n",
       "│           ┆ til Kandi ┆ 21-årige  ┆ 07:15:25  ┆   ┆           ┆           ┆ 21-årige  ┆ 40681]   │\n",
       "│           ┆ s-datt…   ┆ datter i… ┆           ┆   ┆           ┆           ┆ datter i… ┆          │\n",
       "└───────────┴───────────┴───────────┴───────────┴───┴───────────┴───────────┴───────────┴──────────┘"
      ]
     },
     "execution_count": 7,
     "metadata": {},
     "output_type": "execute_result"
    }
   ],
   "source": [
    "df_articles.head(5)"
   ]
  },
  {
   "cell_type": "code",
   "execution_count": 8,
   "metadata": {},
   "outputs": [],
   "source": [
    "df_test = df_behaviors.sample(fraction=0.1)\n",
    "df_train = df_behaviors.filter(~pl.col(DEFAULT_IMPRESSION_ID_COL).is_in(df_test.select(DEFAULT_IMPRESSION_ID_COL).to_series()))\n",
    "df_validation = df_train.sample(fraction=0.2)\n",
    "df_train = df_train.filter(~pl.col(DEFAULT_IMPRESSION_ID_COL).is_in(df_validation.select(DEFAULT_IMPRESSION_ID_COL).to_series()))"
   ]
  },
  {
   "cell_type": "code",
   "execution_count": 9,
   "metadata": {},
   "outputs": [
    {
     "name": "stdout",
     "output_type": "stream",
     "text": [
      "(754, 19)\n",
      "(188, 19)\n",
      "(104, 19)\n"
     ]
    }
   ],
   "source": [
    "print(df_train.shape)\n",
    "print(df_validation.shape)\n",
    "print(df_test.shape)"
   ]
  },
  {
   "cell_type": "code",
   "execution_count": 10,
   "metadata": {},
   "outputs": [],
   "source": [
    "df_train = sampling_strategy_wu2019(df_train, npratio=4, shuffle=False, with_replacement=True, seed=123).drop(\"labels\").pipe(create_binary_labels_column, shuffle= True, seed=123)"
   ]
  },
  {
   "cell_type": "code",
   "execution_count": 11,
   "metadata": {},
   "outputs": [
    {
     "data": {
      "text/html": [
       "<div><style>\n",
       ".dataframe > thead > tr,\n",
       ".dataframe > tbody > tr {\n",
       "  text-align: right;\n",
       "  white-space: pre-wrap;\n",
       "}\n",
       "</style>\n",
       "<small>shape: (755, 19)</small><table border=\"1\" class=\"dataframe\"><thead><tr><th>impression_id</th><th>article_id</th><th>impression_time</th><th>read_time</th><th>scroll_percentage</th><th>device_type</th><th>article_ids_inview</th><th>article_ids_clicked</th><th>user_id</th><th>is_sso_user</th><th>gender</th><th>postcode</th><th>age</th><th>is_subscriber</th><th>session_id</th><th>next_read_time</th><th>next_scroll_percentage</th><th>article_id_fixed</th><th>labels</th></tr><tr><td>u32</td><td>i32</td><td>datetime[μs]</td><td>f32</td><td>f32</td><td>i8</td><td>list[i64]</td><td>list[i64]</td><td>u32</td><td>bool</td><td>i8</td><td>i8</td><td>i8</td><td>bool</td><td>u32</td><td>f32</td><td>f32</td><td>list[i32]</td><td>list[i8]</td></tr></thead><tbody><tr><td>9</td><td>null</td><td>2023-02-27 03:23:27</td><td>17.0</td><td>null</td><td>2</td><td>[9651983, 9652025, … 9652010]</td><td>[9651983]</td><td>12258</td><td>true</td><td>0</td><td>null</td><td>40</td><td>true</td><td>70</td><td>8.0</td><td>30.0</td><td>[9645747, 9645715, … 9647111]</td><td>[1, 0, … 0]</td></tr><tr><td>151</td><td>9650148</td><td>2023-02-25 06:37:19</td><td>22.0</td><td>100.0</td><td>1</td><td>[9650073, 9649654, … 9649734]</td><td>[9642713]</td><td>44038</td><td>true</td><td>null</td><td>null</td><td>null</td><td>true</td><td>1153</td><td>66.0</td><td>100.0</td><td>[9644413, 9646081, … 9646154]</td><td>[0, 0, … 0]</td></tr><tr><td>153</td><td>9650148</td><td>2023-02-25 06:41:40</td><td>14.0</td><td>100.0</td><td>1</td><td>[9649689, 9649538, … 9649569]</td><td>[9649689]</td><td>44038</td><td>true</td><td>null</td><td>null</td><td>null</td><td>true</td><td>1153</td><td>8.0</td><td>41.0</td><td>[9644413, 9646081, … 9646154]</td><td>[1, 0, … 0]</td></tr><tr><td>154</td><td>9650272</td><td>2023-02-25 06:30:56</td><td>177.0</td><td>100.0</td><td>1</td><td>[9648409, 9650202, … 9647466]</td><td>[9650148]</td><td>44038</td><td>true</td><td>null</td><td>null</td><td>null</td><td>true</td><td>1153</td><td>139.0</td><td>100.0</td><td>[9644413, 9646081, … 9646154]</td><td>[0, 0, … 0]</td></tr><tr><td>155</td><td>9650148</td><td>2023-02-25 06:38:57</td><td>63.0</td><td>100.0</td><td>1</td><td>[9649538, 9219607, … 9650040]</td><td>[9649538]</td><td>44038</td><td>true</td><td>null</td><td>null</td><td>null</td><td>true</td><td>1153</td><td>98.0</td><td>100.0</td><td>[9644413, 9646081, … 9646154]</td><td>[1, 0, … 0]</td></tr><tr><td>160</td><td>9650148</td><td>2023-02-25 06:33:53</td><td>139.0</td><td>100.0</td><td>1</td><td>[9650272, 9647439, … 9650155]</td><td>[9647712]</td><td>44038</td><td>true</td><td>null</td><td>null</td><td>null</td><td>true</td><td>1153</td><td>21.0</td><td>41.0</td><td>[9644413, 9646081, … 9646154]</td><td>[0, 0, … 0]</td></tr><tr><td>200</td><td>null</td><td>2023-02-23 09:16:29</td><td>16.0</td><td>null</td><td>2</td><td>[9301117, 9647097, … 9647097]</td><td>[9301117]</td><td>31670</td><td>true</td><td>0</td><td>null</td><td>40</td><td>true</td><td>449</td><td>127.0</td><td>75.0</td><td>[9646081, 9646080, … 9646374]</td><td>[1, 0, … 0]</td></tr><tr><td>204</td><td>null</td><td>2023-02-23 09:16:15</td><td>10.0</td><td>null</td><td>2</td><td>[9647305, 9646826, … 9647359]</td><td>[9646826]</td><td>31670</td><td>true</td><td>0</td><td>null</td><td>40</td><td>true</td><td>449</td><td>3.0</td><td>35.0</td><td>[9646081, 9646080, … 9646374]</td><td>[0, 1, … 0]</td></tr><tr><td>444</td><td>9647482</td><td>2023-02-27 08:48:54</td><td>51.0</td><td>100.0</td><td>1</td><td>[9647482, 9636613, … 9647482]</td><td>[9636613]</td><td>13992</td><td>true</td><td>null</td><td>0</td><td>null</td><td>false</td><td>1757</td><td>44.0</td><td>100.0</td><td>[9639691, 9614001, … 9645510]</td><td>[0, 1, … 0]</td></tr><tr><td>766</td><td>9652127</td><td>2023-02-27 08:52:48</td><td>45.0</td><td>100.0</td><td>2</td><td>[9652169, 9647482, … 9652127]</td><td>[9652148]</td><td>28902</td><td>true</td><td>0</td><td>null</td><td>null</td><td>true</td><td>2032</td><td>33.0</td><td>66.0</td><td>[9631127, 9644396, … 9646287]</td><td>[0, 0, … 0]</td></tr><tr><td>789</td><td>9653808</td><td>2023-02-28 07:32:01</td><td>77.0</td><td>100.0</td><td>1</td><td>[9529776, 9529776, … 9652013]</td><td>[9652474]</td><td>47544</td><td>true</td><td>null</td><td>null</td><td>null</td><td>false</td><td>2319</td><td>202.0</td><td>100.0</td><td>[9644440, 9644655, … 9646723]</td><td>[0, 0, … 0]</td></tr><tr><td>817</td><td>null</td><td>2023-03-01 17:51:15</td><td>5.0</td><td>null</td><td>2</td><td>[9655661, 9656654, … 9656588]</td><td>[9655661]</td><td>31670</td><td>true</td><td>0</td><td>null</td><td>40</td><td>true</td><td>519</td><td>105.0</td><td>96.0</td><td>[9646081, 9646080, … 9646374]</td><td>[1, 0, … 0]</td></tr><tr><td>&hellip;</td><td>&hellip;</td><td>&hellip;</td><td>&hellip;</td><td>&hellip;</td><td>&hellip;</td><td>&hellip;</td><td>&hellip;</td><td>&hellip;</td><td>&hellip;</td><td>&hellip;</td><td>&hellip;</td><td>&hellip;</td><td>&hellip;</td><td>&hellip;</td><td>&hellip;</td><td>&hellip;</td><td>&hellip;</td><td>&hellip;</td></tr><tr><td>32685</td><td>null</td><td>2023-02-24 10:56:22</td><td>7.0</td><td>null</td><td>2</td><td>[9649013, 9649109, … 9649109]</td><td>[9649013]</td><td>31670</td><td>true</td><td>0</td><td>null</td><td>40</td><td>true</td><td>459</td><td>49.0</td><td>85.0</td><td>[9646081, 9646080, … 9646374]</td><td>[1, 0, … 0]</td></tr><tr><td>32688</td><td>null</td><td>2023-02-24 10:54:44</td><td>11.0</td><td>null</td><td>2</td><td>[9649003, 9648946, … 9648946]</td><td>[9649003]</td><td>31670</td><td>true</td><td>0</td><td>null</td><td>40</td><td>true</td><td>459</td><td>38.0</td><td>93.0</td><td>[9646081, 9646080, … 9646374]</td><td>[1, 0, … 0]</td></tr><tr><td>32711</td><td>null</td><td>2023-03-01 14:51:17</td><td>17.0</td><td>null</td><td>1</td><td>[9655889, 9655889, … 9656099]</td><td>[9656149]</td><td>43528</td><td>true</td><td>0</td><td>2</td><td>60</td><td>false</td><td>1810</td><td>3.0</td><td>54.0</td><td>[9642415, 9642907, … 9646098]</td><td>[0, 0, … 0]</td></tr><tr><td>32712</td><td>9656209</td><td>2023-03-01 14:45:04</td><td>74.0</td><td>100.0</td><td>1</td><td>[9655889, 9655889, … 9655865]</td><td>[9656025]</td><td>44038</td><td>true</td><td>null</td><td>null</td><td>null</td><td>true</td><td>1169</td><td>18.0</td><td>61.0</td><td>[9644413, 9646081, … 9646154]</td><td>[0, 0, … 0]</td></tr><tr><td>32715</td><td>9652013</td><td>2023-02-27 05:25:53</td><td>163.0</td><td>null</td><td>2</td><td>[9650379, 9650156, … 9650156]</td><td>[9650379]</td><td>28902</td><td>true</td><td>0</td><td>null</td><td>null</td><td>true</td><td>2027</td><td>41.0</td><td>100.0</td><td>[9631127, 9644396, … 9646287]</td><td>[1, 0, … 0]</td></tr><tr><td>32771</td><td>9650275</td><td>2023-02-25 05:54:08</td><td>61.0</td><td>100.0</td><td>2</td><td>[9650275, 9650217, … 9650275]</td><td>[9650039]</td><td>24779</td><td>true</td><td>null</td><td>null</td><td>null</td><td>false</td><td>3886</td><td>46.0</td><td>74.0</td><td>[9644479, 9644907, … 9646292]</td><td>[0, 0, … 0]</td></tr><tr><td>32772</td><td>9650180</td><td>2023-02-25 05:56:04</td><td>46.0</td><td>100.0</td><td>2</td><td>[9650180, 9650275, … 9650180]</td><td>[9650202]</td><td>24779</td><td>true</td><td>null</td><td>null</td><td>null</td><td>false</td><td>3886</td><td>33.0</td><td>100.0</td><td>[9644479, 9644907, … 9646292]</td><td>[0, 0, … 0]</td></tr><tr><td>32773</td><td>9650202</td><td>2023-02-25 05:56:51</td><td>33.0</td><td>100.0</td><td>2</td><td>[9650180, 9647466, … 9650039]</td><td>[9647466]</td><td>24779</td><td>true</td><td>null</td><td>null</td><td>null</td><td>false</td><td>3886</td><td>16.0</td><td>100.0</td><td>[9644479, 9644907, … 9646292]</td><td>[0, 1, … 0]</td></tr><tr><td>32813</td><td>null</td><td>2023-03-01 08:57:23</td><td>13.0</td><td>null</td><td>2</td><td>[9655122, 9615949, … 9653140]</td><td>[9655198]</td><td>42024</td><td>true</td><td>0</td><td>null</td><td>null</td><td>false</td><td>4236</td><td>0.0</td><td>null</td><td>[9643733, 9644106, … 9646661]</td><td>[0, 0, … 0]</td></tr><tr><td>32830</td><td>null</td><td>2023-03-01 08:44:37</td><td>8.0</td><td>null</td><td>2</td><td>[9655416, 9655394, … 9655071]</td><td>[9655383]</td><td>47719</td><td>true</td><td>0</td><td>0</td><td>50</td><td>false</td><td>5195</td><td>6.0</td><td>46.0</td><td>[0, 0, … 9621379]</td><td>[0, 0, … 0]</td></tr><tr><td>32840</td><td>null</td><td>2023-03-01 08:45:21</td><td>20.0</td><td>null</td><td>2</td><td>[9654339, 9654479, … 9655122]</td><td>[9654339]</td><td>47719</td><td>true</td><td>0</td><td>0</td><td>50</td><td>false</td><td>5195</td><td>5.0</td><td>25.0</td><td>[0, 0, … 9621379]</td><td>[1, 0, … 0]</td></tr><tr><td>32841</td><td>null</td><td>2023-03-01 08:46:02</td><td>5.0</td><td>null</td><td>2</td><td>[9615949, 9615949, … 9310988]</td><td>[9655223]</td><td>47719</td><td>true</td><td>0</td><td>0</td><td>50</td><td>false</td><td>5195</td><td>0.0</td><td>33.0</td><td>[0, 0, … 9621379]</td><td>[0, 0, … 0]</td></tr></tbody></table></div>"
      ],
      "text/plain": [
       "shape: (755, 19)\n",
       "┌───────────┬───────────┬───────────┬───────────┬───┬───────────┬───────────┬───────────┬──────────┐\n",
       "│ impressio ┆ article_i ┆ impressio ┆ read_time ┆ … ┆ next_read ┆ next_scro ┆ article_i ┆ labels   │\n",
       "│ n_id      ┆ d         ┆ n_time    ┆ ---       ┆   ┆ _time     ┆ ll_percen ┆ d_fixed   ┆ ---      │\n",
       "│ ---       ┆ ---       ┆ ---       ┆ f32       ┆   ┆ ---       ┆ tage      ┆ ---       ┆ list[i8] │\n",
       "│ u32       ┆ i32       ┆ datetime[ ┆           ┆   ┆ f32       ┆ ---       ┆ list[i32] ┆          │\n",
       "│           ┆           ┆ μs]       ┆           ┆   ┆           ┆ f32       ┆           ┆          │\n",
       "╞═══════════╪═══════════╪═══════════╪═══════════╪═══╪═══════════╪═══════════╪═══════════╪══════════╡\n",
       "│ 9         ┆ null      ┆ 2023-02-2 ┆ 17.0      ┆ … ┆ 8.0       ┆ 30.0      ┆ [9645747, ┆ [1, 0, … │\n",
       "│           ┆           ┆ 7         ┆           ┆   ┆           ┆           ┆ 9645715,  ┆ 0]       │\n",
       "│           ┆           ┆ 03:23:27  ┆           ┆   ┆           ┆           ┆ …         ┆          │\n",
       "│           ┆           ┆           ┆           ┆   ┆           ┆           ┆ 9647111]  ┆          │\n",
       "│ 151       ┆ 9650148   ┆ 2023-02-2 ┆ 22.0      ┆ … ┆ 66.0      ┆ 100.0     ┆ [9644413, ┆ [0, 0, … │\n",
       "│           ┆           ┆ 5         ┆           ┆   ┆           ┆           ┆ 9646081,  ┆ 0]       │\n",
       "│           ┆           ┆ 06:37:19  ┆           ┆   ┆           ┆           ┆ …         ┆          │\n",
       "│           ┆           ┆           ┆           ┆   ┆           ┆           ┆ 9646154]  ┆          │\n",
       "│ 153       ┆ 9650148   ┆ 2023-02-2 ┆ 14.0      ┆ … ┆ 8.0       ┆ 41.0      ┆ [9644413, ┆ [1, 0, … │\n",
       "│           ┆           ┆ 5         ┆           ┆   ┆           ┆           ┆ 9646081,  ┆ 0]       │\n",
       "│           ┆           ┆ 06:41:40  ┆           ┆   ┆           ┆           ┆ …         ┆          │\n",
       "│           ┆           ┆           ┆           ┆   ┆           ┆           ┆ 9646154]  ┆          │\n",
       "│ 154       ┆ 9650272   ┆ 2023-02-2 ┆ 177.0     ┆ … ┆ 139.0     ┆ 100.0     ┆ [9644413, ┆ [0, 0, … │\n",
       "│           ┆           ┆ 5         ┆           ┆   ┆           ┆           ┆ 9646081,  ┆ 0]       │\n",
       "│           ┆           ┆ 06:30:56  ┆           ┆   ┆           ┆           ┆ …         ┆          │\n",
       "│           ┆           ┆           ┆           ┆   ┆           ┆           ┆ 9646154]  ┆          │\n",
       "│ 155       ┆ 9650148   ┆ 2023-02-2 ┆ 63.0      ┆ … ┆ 98.0      ┆ 100.0     ┆ [9644413, ┆ [1, 0, … │\n",
       "│           ┆           ┆ 5         ┆           ┆   ┆           ┆           ┆ 9646081,  ┆ 0]       │\n",
       "│           ┆           ┆ 06:38:57  ┆           ┆   ┆           ┆           ┆ …         ┆          │\n",
       "│           ┆           ┆           ┆           ┆   ┆           ┆           ┆ 9646154]  ┆          │\n",
       "│ …         ┆ …         ┆ …         ┆ …         ┆ … ┆ …         ┆ …         ┆ …         ┆ …        │\n",
       "│ 32773     ┆ 9650202   ┆ 2023-02-2 ┆ 33.0      ┆ … ┆ 16.0      ┆ 100.0     ┆ [9644479, ┆ [0, 1, … │\n",
       "│           ┆           ┆ 5         ┆           ┆   ┆           ┆           ┆ 9644907,  ┆ 0]       │\n",
       "│           ┆           ┆ 05:56:51  ┆           ┆   ┆           ┆           ┆ …         ┆          │\n",
       "│           ┆           ┆           ┆           ┆   ┆           ┆           ┆ 9646292]  ┆          │\n",
       "│ 32813     ┆ null      ┆ 2023-03-0 ┆ 13.0      ┆ … ┆ 0.0       ┆ null      ┆ [9643733, ┆ [0, 0, … │\n",
       "│           ┆           ┆ 1         ┆           ┆   ┆           ┆           ┆ 9644106,  ┆ 0]       │\n",
       "│           ┆           ┆ 08:57:23  ┆           ┆   ┆           ┆           ┆ …         ┆          │\n",
       "│           ┆           ┆           ┆           ┆   ┆           ┆           ┆ 9646661]  ┆          │\n",
       "│ 32830     ┆ null      ┆ 2023-03-0 ┆ 8.0       ┆ … ┆ 6.0       ┆ 46.0      ┆ [0, 0, …  ┆ [0, 0, … │\n",
       "│           ┆           ┆ 1         ┆           ┆   ┆           ┆           ┆ 9621379]  ┆ 0]       │\n",
       "│           ┆           ┆ 08:44:37  ┆           ┆   ┆           ┆           ┆           ┆          │\n",
       "│ 32840     ┆ null      ┆ 2023-03-0 ┆ 20.0      ┆ … ┆ 5.0       ┆ 25.0      ┆ [0, 0, …  ┆ [1, 0, … │\n",
       "│           ┆           ┆ 1         ┆           ┆   ┆           ┆           ┆ 9621379]  ┆ 0]       │\n",
       "│           ┆           ┆ 08:45:21  ┆           ┆   ┆           ┆           ┆           ┆          │\n",
       "│ 32841     ┆ null      ┆ 2023-03-0 ┆ 5.0       ┆ … ┆ 0.0       ┆ 33.0      ┆ [0, 0, …  ┆ [0, 0, … │\n",
       "│           ┆           ┆ 1         ┆           ┆   ┆           ┆           ┆ 9621379]  ┆ 0]       │\n",
       "│           ┆           ┆ 08:46:02  ┆           ┆   ┆           ┆           ┆           ┆          │\n",
       "└───────────┴───────────┴───────────┴───────────┴───┴───────────┴───────────┴───────────┴──────────┘"
      ]
     },
     "execution_count": 11,
     "metadata": {},
     "output_type": "execute_result"
    }
   ],
   "source": [
    "df_train"
   ]
  },
  {
   "cell_type": "code",
   "execution_count": 12,
   "metadata": {},
   "outputs": [],
   "source": [
    "train_dataloader = NRMSDataLoader(\n",
    "    behaviors=df_train,\n",
    "    article_dict=article_mapping,\n",
    "    unknown_representation=\"zeros\",\n",
    "    history_column=DEFAULT_HISTORY_ARTICLE_ID_COL,\n",
    "    eval_mode=False,\n",
    "    batch_size=64,\n",
    ")\n",
    "val_dataloader = NRMSDataLoader(\n",
    "    behaviors=df_validation,\n",
    "    article_dict=article_mapping,\n",
    "    unknown_representation=\"zeros\",\n",
    "    history_column=DEFAULT_HISTORY_ARTICLE_ID_COL,\n",
    "    eval_mode=True,\n",
    "    batch_size=64,\n",
    ")\n",
    "test_dataloader = NRMSDataLoader(\n",
    "    behaviors=df_test,\n",
    "    article_dict=article_mapping,\n",
    "    unknown_representation=\"zeros\",\n",
    "    history_column=DEFAULT_HISTORY_ARTICLE_ID_COL,\n",
    "    eval_mode=True,\n",
    "    batch_size=16,\n",
    ")"
   ]
  },
  {
   "cell_type": "code",
   "execution_count": 13,
   "metadata": {},
   "outputs": [
    {
     "name": "stderr",
     "output_type": "stream",
     "text": [
      "WARNING:absl:At this time, the v2.11+ optimizer `tf.keras.optimizers.Adam` runs slowly on M1/M2 Macs, please use the legacy Keras optimizer instead, located at `tf.keras.optimizers.legacy.Adam`.\n"
     ]
    },
    {
     "name": "stdout",
     "output_type": "stream",
     "text": [
      "12/12 [==============================] - ETA: 0s - loss: 1.6094\n",
      "Epoch 1: val_loss improved from inf to 0.00000, saving model to data/state_dict/NRMS/weights\n",
      "12/12 [==============================] - 79s 7s/step - loss: 1.6094 - val_loss: 0.0000e+00\n"
     ]
    },
    {
     "data": {
      "text/plain": [
       "<tensorflow.python.checkpoint.checkpoint.CheckpointLoadStatus at 0x329ee32d0>"
      ]
     },
     "execution_count": 13,
     "metadata": {},
     "output_type": "execute_result"
    }
   ],
   "source": [
    "MODEL_NAME = \"NRMS\"\n",
    "LOG_DIR = f\"downloads/runs/{MODEL_NAME}\"\n",
    "MODEL_WEIGHTS = f\"downloads/data/state_dict/{MODEL_NAME}/weights\"\n",
    "\n",
    "# CALLBACKS\n",
    "tensorboard_callback = tf.keras.callbacks.TensorBoard(log_dir=LOG_DIR, histogram_freq=1)\n",
    "early_stopping = tf.keras.callbacks.EarlyStopping(monitor=\"val_loss\", patience=2)\n",
    "modelcheckpoint = tf.keras.callbacks.ModelCheckpoint(\n",
    "    filepath=MODEL_WEIGHTS, save_best_only=True, save_weights_only=True, verbose=1\n",
    ")\n",
    "\n",
    "hparams_nrms.history_size = HISTORY_SIZE\n",
    "model = NRMSModel(\n",
    "    hparams=hparams_nrms,\n",
    "    word2vec_embedding=word2vec_embedding,\n",
    "    seed=42,\n",
    ")\n",
    "hist = model.model.fit(\n",
    "    train_dataloader,\n",
    "    validation_data=val_dataloader,\n",
    "    epochs=1,\n",
    "    callbacks=[tensorboard_callback, early_stopping, modelcheckpoint],\n",
    ")\n",
    "model.model.load_weights(filepath=MODEL_WEIGHTS)"
   ]
  },
  {
   "cell_type": "code",
   "execution_count": 14,
   "metadata": {},
   "outputs": [
    {
     "name": "stdout",
     "output_type": "stream",
     "text": [
      "7/7 [==============================] - 7s 866ms/step\n"
     ]
    }
   ],
   "source": [
    "pred = model.scorer.predict(test_dataloader)\n"
   ]
  },
  {
   "cell_type": "code",
   "execution_count": 24,
   "metadata": {},
   "outputs": [],
   "source": [
    "df_test = add_prediction_scores(df_test, pred.tolist()).pipe(\n",
    "    add_known_user_column, known_users=df_train[DEFAULT_USER_COL]\n",
    ")"
   ]
  },
  {
   "cell_type": "code",
   "execution_count": 27,
   "metadata": {},
   "outputs": [
    {
     "data": {
      "text/plain": [
       "{'auc': 0.5114077996130365,\n",
       " 'mrr': 0.33578225373086923,\n",
       " 'ndcg@5': 0.3944523664383991,\n",
       " 'ndcg@10': 0.44676071382900684}"
      ]
     },
     "execution_count": 27,
     "metadata": {},
     "output_type": "execute_result"
    }
   ],
   "source": [
    "from ebrec.evaluation import AucScore, MrrScore, MetricEvaluator, NdcgScore\n",
    "def compute_evaluation_scores(\n",
    "    df: pl.DataFrame,\n",
    "    metric_functions: list[MetricEvaluator] = [\n",
    "        AucScore(),\n",
    "        MrrScore(),\n",
    "        NdcgScore(k=5),\n",
    "        NdcgScore(k=10),\n",
    "    ],\n",
    "    pred_score = \"scores\",\n",
    "    labels:str=\"labels\"\n",
    ") -> dict[str, float]:\n",
    "    # =>\n",
    "    y_pred = df[pred_score].to_list()\n",
    "    y_true = df[labels].to_list()\n",
    "    # =>\n",
    "    metr = MetricEvaluator(\n",
    "        labels=y_true,\n",
    "        predictions=y_pred,\n",
    "        metric_functions=metric_functions,\n",
    "    )\n",
    "    return metr.evaluate().evaluations\n",
    "\n",
    "compute_evaluation_scores(df_test)\n"
   ]
  }
 ],
 "metadata": {
  "kernelspec": {
   "display_name": "Python 3",
   "language": "python",
   "name": "python3"
  },
  "language_info": {
   "codemirror_mode": {
    "name": "ipython",
    "version": 3
   },
   "file_extension": ".py",
   "mimetype": "text/x-python",
   "name": "python",
   "nbconvert_exporter": "python",
   "pygments_lexer": "ipython3",
   "version": "3.11.7"
  }
 },
 "nbformat": 4,
 "nbformat_minor": 2
}
