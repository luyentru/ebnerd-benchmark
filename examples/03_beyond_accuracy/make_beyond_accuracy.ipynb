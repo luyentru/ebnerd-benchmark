{
 "cells": [
  {
   "cell_type": "markdown",
   "metadata": {},
   "source": [
    "# Hello\n",
    "\n",
    "This notebook is an example of how to make a beyond-accuracy dataset, and how one could make baselines"
   ]
  },
  {
   "cell_type": "markdown",
   "metadata": {},
   "source": [
    "# Get started"
   ]
  },
  {
   "cell_type": "markdown",
   "metadata": {},
   "source": [
    "## Dependencies"
   ]
  },
  {
   "cell_type": "code",
   "execution_count": 28,
   "metadata": {},
   "outputs": [],
   "source": [
    "from ebrec.utils._python import (\n",
    "    rank_predictions_by_score,\n",
    "    write_submission_file,\n",
    "    write_json_file,\n",
    "    read_json_file,\n",
    ")\n",
    "from pathlib import Path\n",
    "import polars as pl\n",
    "import numpy as np\n",
    "\n",
    "from ebrec.utils._constants import *\n",
    "from ebrec.evaluation.beyond_accuracy import (\n",
    "    IntralistDiversity,\n",
    "    Distribution,\n",
    "    Serendipity,\n",
    "    Sentiment,\n",
    "    Coverage,\n",
    "    Novelty,\n",
    ")\n",
    "\n",
    "from ebrec.utils._articles import create_sort_based_prediction_score\n",
    "from ebrec.utils._behaviors import truncate_history"
   ]
  },
  {
   "cell_type": "markdown",
   "metadata": {},
   "source": [
    "## Set paths"
   ]
  },
  {
   "cell_type": "code",
   "execution_count": 29,
   "metadata": {},
   "outputs": [],
   "source": [
    "ROOT_FOLDER = \"evaluation_artifacts\"\n",
    "DATASET_SPLIT = \"test\"\n",
    "DATASET_SIZE = \"demo\"\n",
    "# ROOT PATH:\n",
    "PATH = Path(f\"../downloads/{DATASET_SIZE}\")\n",
    "\n",
    "## We are using the LARGE articles dataset to ensure we have all articles IDs,\n",
    "# for beyond-accuracy; as only 154 aids are found in the demo.\n",
    "ARTICLES_PATH = PATH.parent.joinpath(\"large\")\n",
    "\n",
    "# PATH TO DUMP ARTIFACTS:\n",
    "PATH_BEYOND_ACCURACY = PATH.joinpath(ROOT_FOLDER)\n",
    "PATH_BEYOND_ACCURACY.mkdir(exist_ok=True, parents=True)\n",
    "# BASELINE ARTIFACTS:\n",
    "PATH_BEYOND_ACCURACY_BASELINES = PATH_BEYOND_ACCURACY.joinpath(\"baselines\")\n",
    "PATH_BEYOND_ACCURACY_BASELINES.mkdir(parents=True, exist_ok=True)"
   ]
  },
  {
   "cell_type": "markdown",
   "metadata": {},
   "source": [
    "### Output files"
   ]
  },
  {
   "cell_type": "code",
   "execution_count": 30,
   "metadata": {},
   "outputs": [],
   "source": [
    "BEYOND_ACCURACY_HISTORY_DICT = \"beyond_accuracy_history_dict.json\"\n",
    "BEYOND_ACCURACY_USERS_DICT = \"beyond_accuracy_users_dict.json\"\n",
    "CANDIDATE_LIST = \"candidate_list.json\"\n",
    "ARTICLES_DICT = \"articles_dict.json\"\n",
    "BEHAVIORS_TIMESTAMP_DICT = \"behaviors_timestamp_dict.json\"\n",
    "#\n",
    "BASELINE_DIVERSITY = \"instralist_diversity.json\"\n",
    "BASELINE_SENTIMENT_SCORE = \"sentiment_score.json\"\n",
    "BASELINE_NOVELTY = \"novelty.json\"\n",
    "BASELINE_SERENDIPITY = \"serendipity.json\"\n",
    "BASELINE_COVERAGE = \"coverage.json\"\n",
    "BASELINE_DISTRIBUTION_CATEGORY = \"distribution_category.json\"\n",
    "BASELINE_DISTRIBUTION_SENTIMENT_LABEL = \"distribution_sentiment_label.json\"\n",
    "BASELINE_DISTRIBUTION_TOPICS = \"distribution_topics.json\""
   ]
  },
  {
   "cell_type": "markdown",
   "metadata": {},
   "source": [
    "## Load dataset"
   ]
  },
  {
   "cell_type": "code",
   "execution_count": 31,
   "metadata": {},
   "outputs": [],
   "source": [
    "# Load data:\n",
    "df_beyond_accuarcy = pl.scan_parquet(\n",
    "    PATH.joinpath(DATASET_SPLIT, \"behaviors.parquet\")\n",
    ").filter(pl.col(\"is_beyond_accuracy\"))\n",
    "df_behaviors = pl.scan_parquet(\n",
    "    PATH.joinpath(DATASET_SPLIT, \"behaviors.parquet\")\n",
    ").filter(~pl.col(\"is_beyond_accuracy\"))\n",
    "df_articles = pl.scan_parquet(ARTICLES_PATH.joinpath(\"articles.parquet\"))\n",
    "df_history = pl.scan_parquet(PATH.joinpath(DATASET_SPLIT, \"history.parquet\")).select(\n",
    "    DEFAULT_USER_COL, DEFAULT_HISTORY_ARTICLE_ID_COL\n",
    ")"
   ]
  },
  {
   "cell_type": "markdown",
   "metadata": {},
   "source": [
    "# Make / Dump Metadata"
   ]
  },
  {
   "cell_type": "markdown",
   "metadata": {},
   "source": [
    "## Candidate list:"
   ]
  },
  {
   "cell_type": "markdown",
   "metadata": {},
   "source": [
    "We select the candidate list from the testset"
   ]
  },
  {
   "cell_type": "code",
   "execution_count": 32,
   "metadata": {},
   "outputs": [
    {
     "name": "stdout",
     "output_type": "stream",
     "text": [
      "Writing JSON: '../downloads/demo/evaluation_artifacts/candidate_list.json'\n",
      "Number of Candidate IDs: 250 (example: [9793163, 9793069, 9792076, 9792749, 9791280])\n"
     ]
    }
   ],
   "source": [
    "candidate_list = (\n",
    "    df_beyond_accuarcy.select(pl.col(DEFAULT_INVIEW_ARTICLES_COL).first())\n",
    "    .collect()\n",
    "    .to_series()\n",
    ")[0].to_list()\n",
    "\n",
    "\n",
    "write_json_file(\n",
    "    candidate_list, PATH_BEYOND_ACCURACY.joinpath(CANDIDATE_LIST), verbose=True\n",
    ")\n",
    "\n",
    "print(f\"Number of Candidate IDs: {len(candidate_list)} (example: {candidate_list[:5]})\")"
   ]
  },
  {
   "cell_type": "markdown",
   "metadata": {},
   "source": [
    "#### Sanity check"
   ]
  },
  {
   "cell_type": "code",
   "execution_count": 33,
   "metadata": {},
   "outputs": [
    {
     "name": "stdout",
     "output_type": "stream",
     "text": [
      "santity check - passed\n"
     ]
    }
   ],
   "source": [
    "load_candidate_list = read_json_file(PATH_BEYOND_ACCURACY.joinpath(CANDIDATE_LIST))\n",
    "if (\n",
    "    not (\n",
    "        df_beyond_accuarcy.select(DEFAULT_INVIEW_ARTICLES_COL).collect()\n",
    "        == candidate_list\n",
    "    )\n",
    "    .sum()[DEFAULT_INVIEW_ARTICLES_COL]\n",
    "    .to_list()[0]\n",
    "    == df_beyond_accuarcy.select(DEFAULT_INVIEW_ARTICLES_COL).collect().shape[0]\n",
    "):\n",
    "    raise ValueError(\"candidate_list is not identical in the testset\")\n",
    "\n",
    "if not (np.array(candidate_list) - np.array(load_candidate_list)).sum() == 0:\n",
    "    raise ValueError(\"candidate_list was not dump correctly\")\n",
    "\n",
    "print(\"santity check - passed\")"
   ]
  },
  {
   "cell_type": "markdown",
   "metadata": {},
   "source": [
    "## User meta data: Segments"
   ]
  },
  {
   "cell_type": "code",
   "execution_count": 34,
   "metadata": {},
   "outputs": [
    {
     "name": "stdout",
     "output_type": "stream",
     "text": [
      "Writing JSON: '../downloads/demo/evaluation_artifacts/beyond_accuracy_users_dict.json'\n",
      "#rows: 1615\n"
     ]
    },
    {
     "data": {
      "text/html": [
       "<div><style>\n",
       ".dataframe > thead > tr,\n",
       ".dataframe > tbody > tr {\n",
       "  text-align: right;\n",
       "  white-space: pre-wrap;\n",
       "}\n",
       "</style>\n",
       "<small>shape: (3, 5)</small><table border=\"1\" class=\"dataframe\"><thead><tr><th>is_subscriber</th><th>is_sso_user</th><th>postcode</th><th>gender</th><th>age</th></tr><tr><td>bool</td><td>bool</td><td>i8</td><td>i8</td><td>i8</td></tr></thead><tbody><tr><td>true</td><td>true</td><td>null</td><td>0</td><td>30</td></tr><tr><td>true</td><td>true</td><td>null</td><td>null</td><td>null</td></tr><tr><td>true</td><td>true</td><td>null</td><td>0</td><td>null</td></tr></tbody></table></div>"
      ],
      "text/plain": [
       "shape: (3, 5)\n",
       "┌───────────────┬─────────────┬──────────┬────────┬──────┐\n",
       "│ is_subscriber ┆ is_sso_user ┆ postcode ┆ gender ┆ age  │\n",
       "│ ---           ┆ ---         ┆ ---      ┆ ---    ┆ ---  │\n",
       "│ bool          ┆ bool        ┆ i8       ┆ i8     ┆ i8   │\n",
       "╞═══════════════╪═════════════╪══════════╪════════╪══════╡\n",
       "│ true          ┆ true        ┆ null     ┆ 0      ┆ 30   │\n",
       "│ true          ┆ true        ┆ null     ┆ null   ┆ null │\n",
       "│ true          ┆ true        ┆ null     ┆ 0      ┆ null │\n",
       "└───────────────┴─────────────┴──────────┴────────┴──────┘"
      ]
     },
     "execution_count": 34,
     "metadata": {},
     "output_type": "execute_result"
    }
   ],
   "source": [
    "user_meta_columns = [\n",
    "    DEFAULT_IS_SUBSCRIBER_COL,\n",
    "    DEFAULT_IS_SSO_USER_COL,\n",
    "    DEFAULT_POSTCODE_COL,\n",
    "    DEFAULT_GENDER_COL,\n",
    "    DEFAULT_AGE_COL,\n",
    "]\n",
    "df_users = df_beyond_accuarcy.select(pl.col(user_meta_columns)).collect()\n",
    "\n",
    "users_dict = {col: df_users[col].to_list() for col in df_users.columns}\n",
    "write_json_file(\n",
    "    users_dict, PATH_BEYOND_ACCURACY.joinpath(BEYOND_ACCURACY_USERS_DICT), verbose=True\n",
    ")\n",
    "print(f\"#rows: {df_users.shape[0]}\")\n",
    "df_users.head(3)"
   ]
  },
  {
   "cell_type": "markdown",
   "metadata": {},
   "source": [
    "## User Histories"
   ]
  },
  {
   "cell_type": "code",
   "execution_count": 35,
   "metadata": {},
   "outputs": [
    {
     "name": "stdout",
     "output_type": "stream",
     "text": [
      "Writing JSON: '../downloads/demo/evaluation_artifacts/beyond_accuracy_history_dict.json'\n",
      "#rows: 1615\n"
     ]
    },
    {
     "data": {
      "text/html": [
       "<div><style>\n",
       ".dataframe > thead > tr,\n",
       ".dataframe > tbody > tr {\n",
       "  text-align: right;\n",
       "  white-space: pre-wrap;\n",
       "}\n",
       "</style>\n",
       "<small>shape: (3, 2)</small><table border=\"1\" class=\"dataframe\"><thead><tr><th>user_id</th><th>article_id_fixed</th></tr><tr><td>u32</td><td>list[i32]</td></tr></thead><tbody><tr><td>1744285</td><td>[9790532, 9790532, … 9790700]</td></tr><tr><td>631807</td><td>[9790756, 9790811, … 9790804]</td></tr><tr><td>1984028</td><td>[9789300, 9790942, … 9789896]</td></tr></tbody></table></div>"
      ],
      "text/plain": [
       "shape: (3, 2)\n",
       "┌─────────┬───────────────────────────────┐\n",
       "│ user_id ┆ article_id_fixed              │\n",
       "│ ---     ┆ ---                           │\n",
       "│ u32     ┆ list[i32]                     │\n",
       "╞═════════╪═══════════════════════════════╡\n",
       "│ 1744285 ┆ [9790532, 9790532, … 9790700] │\n",
       "│ 631807  ┆ [9790756, 9790811, … 9790804] │\n",
       "│ 1984028 ┆ [9789300, 9790942, … 9789896] │\n",
       "└─────────┴───────────────────────────────┘"
      ]
     },
     "execution_count": 35,
     "metadata": {},
     "output_type": "execute_result"
    }
   ],
   "source": [
    "HISTORY_SIZE = 10\n",
    "\n",
    "df_user_histoies = (\n",
    "    df_beyond_accuarcy.select(DEFAULT_USER_COL)\n",
    "    .join(df_history, on=DEFAULT_USER_COL, how=\"left\")\n",
    "    .pipe(\n",
    "        truncate_history,\n",
    "        column=DEFAULT_HISTORY_ARTICLE_ID_COL,\n",
    "        history_size=HISTORY_SIZE,\n",
    "        padding_value=None,\n",
    "        enable_warning=False,\n",
    "    )\n",
    "    .collect()\n",
    ")\n",
    "user_history_dict = {\n",
    "    DEFAULT_HISTORY_ARTICLE_ID_COL: df_user_histoies[\n",
    "        DEFAULT_HISTORY_ARTICLE_ID_COL\n",
    "    ].to_list()\n",
    "}\n",
    "write_json_file(\n",
    "    user_history_dict,\n",
    "    PATH_BEYOND_ACCURACY.joinpath(BEYOND_ACCURACY_HISTORY_DICT),\n",
    "    verbose=True,\n",
    ")\n",
    "print(f\"#rows: {df_user_histoies.shape[0]}\")\n",
    "df_user_histoies.head(3)"
   ]
  },
  {
   "cell_type": "markdown",
   "metadata": {},
   "source": [
    "## Timestamp for Behaviors"
   ]
  },
  {
   "cell_type": "markdown",
   "metadata": {},
   "source": [
    "Used for computing the AUC as function of time"
   ]
  },
  {
   "cell_type": "code",
   "execution_count": 36,
   "metadata": {},
   "outputs": [
    {
     "name": "stdout",
     "output_type": "stream",
     "text": [
      "Writing JSON: '../downloads/demo/evaluation_artifacts/behaviors_timestamp_dict.json'\n",
      "#rows: 27052\n"
     ]
    },
    {
     "data": {
      "text/html": [
       "<div><style>\n",
       ".dataframe > thead > tr,\n",
       ".dataframe > tbody > tr {\n",
       "  text-align: right;\n",
       "  white-space: pre-wrap;\n",
       "}\n",
       "</style>\n",
       "<small>shape: (3, 1)</small><table border=\"1\" class=\"dataframe\"><thead><tr><th>impression_time</th></tr><tr><td>str</td></tr></thead><tbody><tr><td>&quot;2023-06-05 15:…</td></tr><tr><td>&quot;2023-06-05 15:…</td></tr><tr><td>&quot;2023-06-01 10:…</td></tr></tbody></table></div>"
      ],
      "text/plain": [
       "shape: (3, 1)\n",
       "┌────────────────────────────┐\n",
       "│ impression_time            │\n",
       "│ ---                        │\n",
       "│ str                        │\n",
       "╞════════════════════════════╡\n",
       "│ 2023-06-05 15:18:16.000000 │\n",
       "│ 2023-06-05 15:36:07.000000 │\n",
       "│ 2023-06-01 10:25:38.000000 │\n",
       "└────────────────────────────┘"
      ]
     },
     "execution_count": 36,
     "metadata": {},
     "output_type": "execute_result"
    }
   ],
   "source": [
    "df_behaviors_timestamp = df_behaviors.select(\n",
    "    pl.col(DEFAULT_IMPRESSION_TIMESTAMP_COL).cast(pl.Utf8),\n",
    ").collect()\n",
    "behaviors_timestamp_dict = {\n",
    "    DEFAULT_IMPRESSION_TIMESTAMP_COL: df_behaviors_timestamp[\n",
    "        DEFAULT_IMPRESSION_TIMESTAMP_COL\n",
    "    ].to_list()\n",
    "}\n",
    "write_json_file(\n",
    "    behaviors_timestamp_dict,\n",
    "    PATH_BEYOND_ACCURACY.joinpath(BEHAVIORS_TIMESTAMP_DICT),\n",
    "    verbose=True,\n",
    ")\n",
    "print(f\"#rows: {df_behaviors_timestamp.shape[0]}\")\n",
    "df_behaviors_timestamp.head(3)"
   ]
  },
  {
   "cell_type": "markdown",
   "metadata": {},
   "source": [
    "# Make Candidate lookup dict / Dump lookup dict"
   ]
  },
  {
   "cell_type": "markdown",
   "metadata": {},
   "source": [
    "## Articles to include: *candidate-list* and *history-articles*"
   ]
  },
  {
   "cell_type": "code",
   "execution_count": 37,
   "metadata": {},
   "outputs": [
    {
     "name": "stdout",
     "output_type": "stream",
     "text": [
      "#history_article_id: 1678)\n"
     ]
    }
   ],
   "source": [
    "history_article_id = (\n",
    "    df_user_histoies.lazy()\n",
    "    .select(pl.col(DEFAULT_HISTORY_ARTICLE_ID_COL).explode().unique())\n",
    "    .collect()[DEFAULT_HISTORY_ARTICLE_ID_COL]\n",
    "    .to_list()\n",
    ")\n",
    "print(f\"#history_article_id: {len(history_article_id)})\")"
   ]
  },
  {
   "cell_type": "markdown",
   "metadata": {},
   "source": [
    "Note, the different datasizes (*demo*, *small*, and *large*) has subset of the total article-catelog. Hence, if you're using *demo*, not all of the articles in the candidate-list may be in the dataset."
   ]
  },
  {
   "cell_type": "code",
   "execution_count": 38,
   "metadata": {},
   "outputs": [
    {
     "name": "stdout",
     "output_type": "stream",
     "text": [
      "#articles: 1928 (#candidate_list: 250 & #history_article_id: 1678)\n"
     ]
    }
   ],
   "source": [
    "aids_in_split = (\n",
    "    df_articles.select(DEFAULT_ARTICLE_ID_COL)\n",
    "    .collect()[DEFAULT_ARTICLE_ID_COL]\n",
    "    .to_list()\n",
    ")\n",
    "\n",
    "history_article_id = [id for id in history_article_id if id in aids_in_split]\n",
    "candidate_list = [id for id in candidate_list if id in aids_in_split]\n",
    "\n",
    "article_ids = candidate_list + history_article_id\n",
    "print(\n",
    "    f\"#articles: {len(article_ids)} (#candidate_list: {len(candidate_list)} & #history_article_id: {len(history_article_id)})\"\n",
    ")"
   ]
  },
  {
   "cell_type": "markdown",
   "metadata": {},
   "source": [
    "## Select articles that should be included in the lookup dictionary"
   ]
  },
  {
   "cell_type": "code",
   "execution_count": 39,
   "metadata": {},
   "outputs": [
    {
     "name": "stdout",
     "output_type": "stream",
     "text": [
      "df_lookup_articles shape: (1928, 21)\n"
     ]
    }
   ],
   "source": [
    "# =>\n",
    "df_lookup_articles = (\n",
    "    df_articles.filter(pl.col(DEFAULT_ARTICLE_ID_COL).is_in(article_ids))\n",
    "    .with_columns(\n",
    "        pl.col(\n",
    "            DEFAULT_ARTICLE_MODIFIED_TIMESTAMP_COL,\n",
    "            DEFAULT_ARTICLE_PUBLISHED_TIMESTAMP_COL,\n",
    "        ).cast(pl.Utf8)\n",
    "    )\n",
    "    # Zeros might cause issues\n",
    "    .with_columns(\n",
    "        pl.col(DEFAULT_TOTAL_INVIEWS_COL, DEFAULT_TOTAL_PAGEVIEWS_COL).fill_null(1)\n",
    "    )\n",
    "    .collect()\n",
    ")\n",
    "print(f\"df_lookup_articles shape: {df_lookup_articles.shape}\")"
   ]
  },
  {
   "cell_type": "markdown",
   "metadata": {},
   "source": [
    "### Make normalize popularity-scores"
   ]
  },
  {
   "cell_type": "code",
   "execution_count": 40,
   "metadata": {},
   "outputs": [
    {
     "data": {
      "text/html": [
       "<div><style>\n",
       ".dataframe > thead > tr,\n",
       ".dataframe > tbody > tr {\n",
       "  text-align: right;\n",
       "  white-space: pre-wrap;\n",
       "}\n",
       "</style>\n",
       "<small>shape: (9, 3)</small><table border=\"1\" class=\"dataframe\"><thead><tr><th>statistic</th><th>total_pageviews_normalized_max</th><th>total_pageviews_normalized_min_max</th></tr><tr><td>str</td><td>f64</td><td>f64</td></tr></thead><tbody><tr><td>&quot;count&quot;</td><td>1928.0</td><td>1928.0</td></tr><tr><td>&quot;null_count&quot;</td><td>0.0</td><td>0.0</td></tr><tr><td>&quot;mean&quot;</td><td>0.098342</td><td>0.098431</td></tr><tr><td>&quot;std&quot;</td><td>0.08066</td><td>0.080652</td></tr><tr><td>&quot;min&quot;</td><td>0.000001</td><td>0.0001</td></tr><tr><td>&quot;25%&quot;</td><td>0.042917</td><td>0.043012</td></tr><tr><td>&quot;50%&quot;</td><td>0.084734</td><td>0.084825</td></tr><tr><td>&quot;75%&quot;</td><td>0.140855</td><td>0.14094</td></tr><tr><td>&quot;max&quot;</td><td>1.0</td><td>1.0</td></tr></tbody></table></div>"
      ],
      "text/plain": [
       "shape: (9, 3)\n",
       "┌────────────┬────────────────────────────────┬───────────────────────────────────┐\n",
       "│ statistic  ┆ total_pageviews_normalized_max ┆ total_pageviews_normalized_min_m… │\n",
       "│ ---        ┆ ---                            ┆ ---                               │\n",
       "│ str        ┆ f64                            ┆ f64                               │\n",
       "╞════════════╪════════════════════════════════╪═══════════════════════════════════╡\n",
       "│ count      ┆ 1928.0                         ┆ 1928.0                            │\n",
       "│ null_count ┆ 0.0                            ┆ 0.0                               │\n",
       "│ mean       ┆ 0.098342                       ┆ 0.098431                          │\n",
       "│ std        ┆ 0.08066                        ┆ 0.080652                          │\n",
       "│ min        ┆ 0.000001                       ┆ 0.0001                            │\n",
       "│ 25%        ┆ 0.042917                       ┆ 0.043012                          │\n",
       "│ 50%        ┆ 0.084734                       ┆ 0.084825                          │\n",
       "│ 75%        ┆ 0.140855                       ┆ 0.14094                           │\n",
       "│ max        ┆ 1.0                            ┆ 1.0                               │\n",
       "└────────────┴────────────────────────────────┴───────────────────────────────────┘"
      ]
     },
     "execution_count": 40,
     "metadata": {},
     "output_type": "execute_result"
    }
   ],
   "source": [
    "DEFAULT_TOTAL_PAGEVIEWS_COL_NORMALIZED_MAX = (\n",
    "    DEFAULT_TOTAL_PAGEVIEWS_COL + \"_normalized_max\"\n",
    ")\n",
    "DEFAULT_TOTAL_PAGEVIEWS_COL_NORMALIZED_MIN_MAX = (\n",
    "    DEFAULT_TOTAL_PAGEVIEWS_COL + \"_normalized_min_max\"\n",
    ")\n",
    "\n",
    "MIN_X = df_lookup_articles[DEFAULT_TOTAL_PAGEVIEWS_COL].min()\n",
    "MAX_X = df_lookup_articles[DEFAULT_TOTAL_PAGEVIEWS_COL].max()\n",
    "MIN_RANGE = 1e-4\n",
    "MAX_RANGE = 1.0\n",
    "\n",
    "df_lookup_articles = df_lookup_articles.with_columns(\n",
    "    (  # SIMPLE MAX NORMALIZATION: x / max()\n",
    "        pl.col(DEFAULT_TOTAL_PAGEVIEWS_COL) / pl.col(DEFAULT_TOTAL_PAGEVIEWS_COL).max()\n",
    "    ).alias(DEFAULT_TOTAL_PAGEVIEWS_COL_NORMALIZED_MAX)\n",
    ").with_columns(\n",
    "    (  #  MIN-MAX NORMALIZATION: ( x_i − X_min ⁡ ) / ( X_max ⁡ − X_min ⁡ ) * (max_range − min_range) + min_range\n",
    "        ((pl.col(DEFAULT_TOTAL_PAGEVIEWS_COL) - MIN_X) / (MAX_X - MIN_X))\n",
    "        * (MAX_RANGE - MIN_RANGE)\n",
    "        + MIN_RANGE\n",
    "    ).alias(\n",
    "        DEFAULT_TOTAL_PAGEVIEWS_COL_NORMALIZED_MIN_MAX\n",
    "    )\n",
    ")\n",
    "\n",
    "df_lookup_articles.select(\n",
    "    DEFAULT_TOTAL_PAGEVIEWS_COL_NORMALIZED_MAX,\n",
    "    DEFAULT_TOTAL_PAGEVIEWS_COL_NORMALIZED_MIN_MAX,\n",
    ").describe()"
   ]
  },
  {
   "cell_type": "markdown",
   "metadata": {},
   "source": [
    "## Add embeddings representations"
   ]
  },
  {
   "cell_type": "code",
   "execution_count": 41,
   "metadata": {},
   "outputs": [
    {
     "name": "stdout",
     "output_type": "stream",
     "text": [
      "#rows: 1928\n"
     ]
    },
    {
     "data": {
      "text/html": [
       "<div><style>\n",
       ".dataframe > thead > tr,\n",
       ".dataframe > tbody > tr {\n",
       "  text-align: right;\n",
       "  white-space: pre-wrap;\n",
       "}\n",
       "</style>\n",
       "<small>shape: (2, 25)</small><table border=\"1\" class=\"dataframe\"><thead><tr><th>article_id</th><th>title</th><th>subtitle</th><th>last_modified_time</th><th>premium</th><th>body</th><th>published_time</th><th>image_ids</th><th>article_type</th><th>url</th><th>ner_clusters</th><th>entity_groups</th><th>topics</th><th>category</th><th>subcategory</th><th>category_str</th><th>total_inviews</th><th>total_pageviews</th><th>total_read_time</th><th>sentiment_score</th><th>sentiment_label</th><th>total_pageviews_normalized_max</th><th>total_pageviews_normalized_min_max</th><th>contrastive_vector</th><th>document_vector</th></tr><tr><td>i32</td><td>str</td><td>str</td><td>str</td><td>bool</td><td>str</td><td>str</td><td>list[i64]</td><td>str</td><td>str</td><td>list[str]</td><td>list[str]</td><td>list[str]</td><td>i16</td><td>list[i16]</td><td>str</td><td>i32</td><td>i32</td><td>f32</td><td>f32</td><td>str</td><td>f64</td><td>f64</td><td>list[f32]</td><td>list[f32]</td></tr></thead><tbody><tr><td>3196611</td><td>&quot;Zoo-tårnet 100…</td><td>&quot;I mange år var…</td><td>&quot;2023-06-29 06:…</td><td>false</td><td>&quot;I mange år var…</td><td>&quot;2005-06-10 05:…</td><td>[3067931, 3035588]</td><td>&quot;article_defaul…</td><td>&quot;https://ekstra…</td><td>[]</td><td>[]</td><td>[&quot;Kultur&quot;, &quot;Museum og seværdighed&quot;]</td><td>539</td><td>[]</td><td>&quot;ferie&quot;</td><td>1</td><td>1</td><td>null</td><td>0.6275</td><td>&quot;Neutral&quot;</td><td>0.000001</td><td>0.0001</td><td>[-0.014504, 0.059745, … -0.046285]</td><td>[-0.01595, -0.071589, … 0.018402]</td></tr><tr><td>3971783</td><td>&quot;Paradise-Maria…</td><td>&quot;Reality-deltag…</td><td>&quot;2023-06-29 06:…</td><td>false</td><td>&quot;Paradise Hotel…</td><td>&quot;2013-04-17 17:…</td><td>null</td><td>&quot;article_defaul…</td><td>&quot;https://ekstra…</td><td>[]</td><td>[]</td><td>[&quot;Kendt&quot;, &quot;Livsstil&quot;, … &quot;Reality&quot;]</td><td>414</td><td>[425]</td><td>&quot;underholdning&quot;</td><td>1</td><td>1</td><td>null</td><td>0.959</td><td>&quot;Negative&quot;</td><td>0.000001</td><td>0.0001</td><td>[-0.008399, 0.025603, … 0.021549]</td><td>[0.046812, 0.012343, … 0.005147]</td></tr></tbody></table></div>"
      ],
      "text/plain": [
       "shape: (2, 25)\n",
       "┌───────────┬───────────┬───────────┬───────────┬───┬───────────┬───────────┬───────────┬──────────┐\n",
       "│ article_i ┆ title     ┆ subtitle  ┆ last_modi ┆ … ┆ total_pag ┆ total_pag ┆ contrasti ┆ document │\n",
       "│ d         ┆ ---       ┆ ---       ┆ fied_time ┆   ┆ eviews_no ┆ eviews_no ┆ ve_vector ┆ _vector  │\n",
       "│ ---       ┆ str       ┆ str       ┆ ---       ┆   ┆ rmalized_ ┆ rmalized_ ┆ ---       ┆ ---      │\n",
       "│ i32       ┆           ┆           ┆ str       ┆   ┆ max       ┆ min_m…    ┆ list[f32] ┆ list[f32 │\n",
       "│           ┆           ┆           ┆           ┆   ┆ ---       ┆ ---       ┆           ┆ ]        │\n",
       "│           ┆           ┆           ┆           ┆   ┆ f64       ┆ f64       ┆           ┆          │\n",
       "╞═══════════╪═══════════╪═══════════╪═══════════╪═══╪═══════════╪═══════════╪═══════════╪══════════╡\n",
       "│ 3196611   ┆ Zoo-tårne ┆ I mange   ┆ 2023-06-2 ┆ … ┆ 0.000001  ┆ 0.0001    ┆ [-0.01450 ┆ [-0.0159 │\n",
       "│           ┆ t 100 år  ┆ år var    ┆ 9 06:23:0 ┆   ┆           ┆           ┆ 4,        ┆ 5, -0.07 │\n",
       "│           ┆           ┆ det god   ┆ 2.000000  ┆   ┆           ┆           ┆ 0.059745, ┆ 1589, …  │\n",
       "│           ┆           ┆ latin at  ┆           ┆   ┆           ┆           ┆ …         ┆ 0.018402 │\n",
       "│           ┆           ┆ …         ┆           ┆   ┆           ┆           ┆ -0.04628… ┆ …        │\n",
       "│ 3971783   ┆ Paradise- ┆ Reality-d ┆ 2023-06-2 ┆ … ┆ 0.000001  ┆ 0.0001    ┆ [-0.00839 ┆ [0.04681 │\n",
       "│           ┆ Maria     ┆ eltageren ┆ 9 06:27:0 ┆   ┆           ┆           ┆ 9,        ┆ 2, 0.012 │\n",
       "│           ┆ vred på   ┆ skælder   ┆ 7.000000  ┆   ┆           ┆           ┆ 0.025603, ┆ 343, …   │\n",
       "│           ┆ TV3: De   ┆ ud på…    ┆           ┆   ┆           ┆           ┆ …         ┆ 0.005147 │\n",
       "│           ┆ s…        ┆           ┆           ┆   ┆           ┆           ┆ 0.021549… ┆ ]        │\n",
       "└───────────┴───────────┴───────────┴───────────┴───┴───────────┴───────────┴───────────┴──────────┘"
      ]
     },
     "execution_count": 41,
     "metadata": {},
     "output_type": "execute_result"
    }
   ],
   "source": [
    "# => Embeddings:\n",
    "BERT_VECTOR = \"bert_base_multilingual_cased\"\n",
    "ROBERTA_VECTOR = \"xlm_roberta_base\"\n",
    "\n",
    "CONTRASTIVE_VECTOR = \"contrastive_vector\"\n",
    "DOCUMENT_VECTOR = \"document_vector\"\n",
    "\n",
    "\n",
    "def load_join_embeddings(df: pl.DataFrame, emb_path: Path) -> pl.DataFrame:\n",
    "    emb_contrastive = (\n",
    "        pl.scan_parquet(PATH.parent.joinpath(emb_path))\n",
    "        .filter(pl.col(DEFAULT_ARTICLE_ID_COL).is_in(df.select(DEFAULT_ARTICLE_ID_COL)))\n",
    "        .collect()\n",
    "    )\n",
    "    return df.join(emb_contrastive, on=DEFAULT_ARTICLE_ID_COL, how=\"left\")\n",
    "\n",
    "\n",
    "df_lookup_articles = df_lookup_articles.pipe(\n",
    "    load_join_embeddings,\n",
    "    emb_path=f\"embeddings/Ekstra_Bladet_contrastive_vector/{CONTRASTIVE_VECTOR}.parquet\",\n",
    ").pipe(\n",
    "    load_join_embeddings,\n",
    "    emb_path=f\"embeddings/Ekstra_Bladet_word2vec/{DOCUMENT_VECTOR}.parquet\",\n",
    ")\n",
    "print(f\"#rows: {df_lookup_articles.shape[0]}\")\n",
    "df_lookup_articles.head(2)"
   ]
  },
  {
   "cell_type": "markdown",
   "metadata": {},
   "source": [
    "## Convert to lookup dictionary:"
   ]
  },
  {
   "cell_type": "code",
   "execution_count": 42,
   "metadata": {},
   "outputs": [
    {
     "name": "stdout",
     "output_type": "stream",
     "text": [
      "Writing JSON: '../downloads/demo/evaluation_artifacts/articles_dict.json'\n",
      "#articles: 1928\n"
     ]
    }
   ],
   "source": [
    "articles_dict = {}\n",
    "for row in df_lookup_articles.iter_rows(named=True):\n",
    "    # Note, all keys in dictionaries are converted to strings, when serializing an object to JSON format.\n",
    "    articles_dict[str(row[DEFAULT_ARTICLE_ID_COL])] = row\n",
    "# Write it:\n",
    "write_json_file(\n",
    "    articles_dict, PATH_BEYOND_ACCURACY.joinpath(ARTICLES_DICT), verbose=True\n",
    ")\n",
    "print(f\"#articles: {len(articles_dict)}\")"
   ]
  },
  {
   "cell_type": "markdown",
   "metadata": {},
   "source": [
    "# Create Baselines"
   ]
  },
  {
   "cell_type": "markdown",
   "metadata": {},
   "source": [
    "Make a couple *Baselines* based on the candidate-list:\n",
    "1. @EditorialPicks: We approximate this based on the number **inview** an articles have recived. Ekstra Bladet is front-page driven, meaning, if an article has a lot of inview-impression (seen) a lot, we believe it has been selected to be in a top priority from the editors. This is static (it does change for our *candidate_list*), i.e., the computation is done once.\n",
    "2. @Popular: We approximate this based on the number **clicks** an articles have recived. This is static (it does change for our *candidate_list*), i.e., the computation is done once.\n",
    "3. @Random: Simple baseline and important baseline. We simple pick a set of *top-n* articles from the *candidate-list* and run multiple times.\n",
    "4. @Dissimilarity / Similarity (will come later): Select top-n articles that are the most similar / dissimilar. \n",
    "5. @Newest: Simply pick the newest released articles. We do see newssite where the top banner is *Newest released*. We include it, but note this is very sensitive and might not be meaningful."
   ]
  },
  {
   "cell_type": "markdown",
   "metadata": {},
   "source": [
    "### Load the artifacts"
   ]
  },
  {
   "cell_type": "code",
   "execution_count": 43,
   "metadata": {},
   "outputs": [
    {
     "name": "stdout",
     "output_type": "stream",
     "text": [
      "#behaviors_timestamp_dict: 27052\n",
      "#history_dict: 1615\n",
      " history_dict.keys(): dict_keys(['article_id_fixed'])\n",
      "#users_dict 1615\n",
      " users_dict.keys(): dict_keys(['is_subscriber', 'is_sso_user', 'postcode', 'gender', 'age'])\n",
      "#user_history_dict 1615\n",
      " users_dict.keys(): dict_keys(['article_id_fixed'])\n",
      "#articles_dict: 1928\n",
      " articles_dict[ID].keys(): dict_keys(['article_id', 'title', 'subtitle', 'last_modified_time', 'premium', 'body', 'published_time', 'image_ids', 'article_type', 'url', 'ner_clusters', 'entity_groups', 'topics', 'category', 'subcategory', 'category_str', 'total_inviews', 'total_pageviews', 'total_read_time', 'sentiment_score', 'sentiment_label', 'total_pageviews_normalized_max', 'total_pageviews_normalized_min_max', 'contrastive_vector', 'document_vector'])\n",
      "#candidate_list: 250\n",
      "#candidate-articles (df): 250\n"
     ]
    }
   ],
   "source": [
    "def n_items(d) -> int:\n",
    "    return len(d[list(d)[0]])\n",
    "\n",
    "\n",
    "# =>\n",
    "behaviors_timestamp_dict = read_json_file(\n",
    "    PATH_BEYOND_ACCURACY.joinpath(BEHAVIORS_TIMESTAMP_DICT)\n",
    ")\n",
    "print(f\"#behaviors_timestamp_dict: {n_items(behaviors_timestamp_dict)}\")\n",
    "\n",
    "# =>\n",
    "history_dict = read_json_file(\n",
    "    PATH_BEYOND_ACCURACY.joinpath(BEYOND_ACCURACY_HISTORY_DICT)\n",
    ")\n",
    "print(\n",
    "    f\"#history_dict: {n_items(history_dict)}\\n history_dict.keys(): {history_dict.keys()}\"\n",
    ")\n",
    "\n",
    "# =>\n",
    "users_dict = read_json_file(PATH_BEYOND_ACCURACY.joinpath(BEYOND_ACCURACY_USERS_DICT))\n",
    "print(f\"#users_dict {n_items(users_dict)}\\n users_dict.keys(): {users_dict.keys()}\")\n",
    "\n",
    "# =>\n",
    "user_history_dict = read_json_file(\n",
    "    PATH_BEYOND_ACCURACY.joinpath(BEYOND_ACCURACY_HISTORY_DICT)\n",
    ")\n",
    "print(\n",
    "    f\"#user_history_dict {n_items(user_history_dict)}\\n users_dict.keys(): {user_history_dict.keys()}\"\n",
    ")\n",
    "\n",
    "# =>\n",
    "articles_dict = {\n",
    "    int(key): val\n",
    "    for key, val in read_json_file(PATH_BEYOND_ACCURACY.joinpath(ARTICLES_DICT)).items()\n",
    "}\n",
    "aid_keys = articles_dict[list(articles_dict)[0]].keys()\n",
    "print(f\"#articles_dict: {len(articles_dict)}\\n articles_dict[ID].keys(): {aid_keys}\")\n",
    "\n",
    "# => Only the once actually found in the dataset (for demo only 154 of 250 are represent)\n",
    "candidate_list = [\n",
    "    id\n",
    "    for id in read_json_file(PATH_BEYOND_ACCURACY.joinpath(CANDIDATE_LIST))\n",
    "    if id in list(articles_dict)\n",
    "]\n",
    "print(f\"#candidate_list: {len(candidate_list)}\")\n",
    "\n",
    "df_candidate_articles = df_lookup_articles.filter(\n",
    "    pl.col(DEFAULT_ARTICLE_ID_COL).is_in(candidate_list)\n",
    ")\n",
    "print(f\"#candidate-articles (df): {df_candidate_articles.shape[0]}\")"
   ]
  },
  {
   "cell_type": "markdown",
   "metadata": {},
   "source": [
    "## Make Ranked Candidate lists"
   ]
  },
  {
   "cell_type": "markdown",
   "metadata": {},
   "source": [
    "### Editorical Pick\n"
   ]
  },
  {
   "cell_type": "code",
   "execution_count": 44,
   "metadata": {},
   "outputs": [
    {
     "name": "stdout",
     "output_type": "stream",
     "text": [
      "[[9790335 9791587]]\n"
     ]
    },
    {
     "data": {
      "text/html": [
       "<div><style>\n",
       ".dataframe > thead > tr,\n",
       ".dataframe > tbody > tr {\n",
       "  text-align: right;\n",
       "  white-space: pre-wrap;\n",
       "}\n",
       "</style>\n",
       "<small>shape: (2, 3)</small><table border=\"1\" class=\"dataframe\"><thead><tr><th>article_id</th><th>total_inviews</th><th>prediction_score</th></tr><tr><td>i32</td><td>i32</td><td>f64</td></tr></thead><tbody><tr><td>9790335</td><td>1698890</td><td>1.0</td></tr><tr><td>9791587</td><td>1369829</td><td>0.5</td></tr></tbody></table></div>"
      ],
      "text/plain": [
       "shape: (2, 3)\n",
       "┌────────────┬───────────────┬──────────────────┐\n",
       "│ article_id ┆ total_inviews ┆ prediction_score │\n",
       "│ ---        ┆ ---           ┆ ---              │\n",
       "│ i32        ┆ i32           ┆ f64              │\n",
       "╞════════════╪═══════════════╪══════════════════╡\n",
       "│ 9790335    ┆ 1698890       ┆ 1.0              │\n",
       "│ 9791587    ┆ 1369829       ┆ 0.5              │\n",
       "└────────────┴───────────────┴──────────────────┘"
      ]
     },
     "execution_count": 44,
     "metadata": {},
     "output_type": "execute_result"
    }
   ],
   "source": [
    "df_candidates_editorial_picks = create_sort_based_prediction_score(\n",
    "    df_candidate_articles,\n",
    "    column=DEFAULT_TOTAL_INVIEWS_COL,\n",
    "    desc=True,\n",
    ")\n",
    "candidates_editorial_picks = np.array(\n",
    "    [df_candidates_editorial_picks.select(DEFAULT_ARTICLE_ID_COL).to_series()]\n",
    ")\n",
    "# =>\n",
    "print(candidates_editorial_picks[:, :2])\n",
    "df_candidates_editorial_picks.head(2)"
   ]
  },
  {
   "cell_type": "markdown",
   "metadata": {},
   "source": [
    "### Popular"
   ]
  },
  {
   "cell_type": "code",
   "execution_count": 45,
   "metadata": {},
   "outputs": [
    {
     "name": "stdout",
     "output_type": "stream",
     "text": [
      "[[9791428 9792719]]\n"
     ]
    },
    {
     "data": {
      "text/html": [
       "<div><style>\n",
       ".dataframe > thead > tr,\n",
       ".dataframe > tbody > tr {\n",
       "  text-align: right;\n",
       "  white-space: pre-wrap;\n",
       "}\n",
       "</style>\n",
       "<small>shape: (2, 3)</small><table border=\"1\" class=\"dataframe\"><thead><tr><th>article_id</th><th>total_pageviews</th><th>prediction_score</th></tr><tr><td>i32</td><td>i32</td><td>f64</td></tr></thead><tbody><tr><td>9791428</td><td>256541</td><td>1.0</td></tr><tr><td>9792719</td><td>209050</td><td>0.5</td></tr></tbody></table></div>"
      ],
      "text/plain": [
       "shape: (2, 3)\n",
       "┌────────────┬─────────────────┬──────────────────┐\n",
       "│ article_id ┆ total_pageviews ┆ prediction_score │\n",
       "│ ---        ┆ ---             ┆ ---              │\n",
       "│ i32        ┆ i32             ┆ f64              │\n",
       "╞════════════╪═════════════════╪══════════════════╡\n",
       "│ 9791428    ┆ 256541          ┆ 1.0              │\n",
       "│ 9792719    ┆ 209050          ┆ 0.5              │\n",
       "└────────────┴─────────────────┴──────────────────┘"
      ]
     },
     "execution_count": 45,
     "metadata": {},
     "output_type": "execute_result"
    }
   ],
   "source": [
    "df_candidates_popular = create_sort_based_prediction_score(\n",
    "    df_candidate_articles,\n",
    "    column=DEFAULT_TOTAL_PAGEVIEWS_COL,\n",
    "    desc=True,\n",
    ")\n",
    "candidates_popular = np.array(\n",
    "    [df_candidates_popular.select(DEFAULT_ARTICLE_ID_COL).to_series()]\n",
    ")\n",
    "# =>\n",
    "print(candidates_popular[:, :2])\n",
    "df_candidates_popular.head(2)"
   ]
  },
  {
   "cell_type": "markdown",
   "metadata": {},
   "source": [
    "### Newest"
   ]
  },
  {
   "cell_type": "code",
   "execution_count": 46,
   "metadata": {},
   "outputs": [
    {
     "name": "stdout",
     "output_type": "stream",
     "text": [
      "[[9790515 9791205]]\n"
     ]
    },
    {
     "data": {
      "text/html": [
       "<div><style>\n",
       ".dataframe > thead > tr,\n",
       ".dataframe > tbody > tr {\n",
       "  text-align: right;\n",
       "  white-space: pre-wrap;\n",
       "}\n",
       "</style>\n",
       "<small>shape: (2, 3)</small><table border=\"1\" class=\"dataframe\"><thead><tr><th>article_id</th><th>published_time</th><th>prediction_score</th></tr><tr><td>i32</td><td>str</td><td>f64</td></tr></thead><tbody><tr><td>9790515</td><td>&quot;2023-06-01 07:…</td><td>1.0</td></tr><tr><td>9791205</td><td>&quot;2023-06-01 07:…</td><td>0.5</td></tr></tbody></table></div>"
      ],
      "text/plain": [
       "shape: (2, 3)\n",
       "┌────────────┬────────────────────────────┬──────────────────┐\n",
       "│ article_id ┆ published_time             ┆ prediction_score │\n",
       "│ ---        ┆ ---                        ┆ ---              │\n",
       "│ i32        ┆ str                        ┆ f64              │\n",
       "╞════════════╪════════════════════════════╪══════════════════╡\n",
       "│ 9790515    ┆ 2023-06-01 07:02:14.000000 ┆ 1.0              │\n",
       "│ 9791205    ┆ 2023-06-01 07:06:57.000000 ┆ 0.5              │\n",
       "└────────────┴────────────────────────────┴──────────────────┘"
      ]
     },
     "execution_count": 46,
     "metadata": {},
     "output_type": "execute_result"
    }
   ],
   "source": [
    "df_candidates_newest = create_sort_based_prediction_score(\n",
    "    df_candidate_articles,\n",
    "    column=DEFAULT_ARTICLE_PUBLISHED_TIMESTAMP_COL,\n",
    "    desc=False,\n",
    ")\n",
    "candidates_newest = np.array(\n",
    "    [df_candidates_newest.select(DEFAULT_ARTICLE_ID_COL).to_series()]\n",
    ")\n",
    "# =>\n",
    "print(candidates_newest[:, :2])\n",
    "df_candidates_newest.head(2)"
   ]
  },
  {
   "cell_type": "markdown",
   "metadata": {},
   "source": [
    "## Init Metrics"
   ]
  },
  {
   "cell_type": "code",
   "execution_count": 47,
   "metadata": {},
   "outputs": [],
   "source": [
    "instralist_diversity = IntralistDiversity()\n",
    "distribution = Distribution()\n",
    "serendipity = Serendipity()\n",
    "sentiment = Sentiment()\n",
    "coverage = Coverage()\n",
    "novelty = Novelty()"
   ]
  },
  {
   "cell_type": "markdown",
   "metadata": {},
   "source": [
    "## Setting Baselines (and your model)"
   ]
  },
  {
   "cell_type": "code",
   "execution_count": 48,
   "metadata": {},
   "outputs": [
    {
     "name": "stdout",
     "output_type": "stream",
     "text": [
      "#random-iterations: 1615\n",
      "Top@5 ranked articles\n"
     ]
    }
   ],
   "source": [
    "RANDOM_ITER = df_beyond_accuarcy.select(DEFAULT_INVIEW_ARTICLES_COL).collect().shape[0]\n",
    "TOP_N = 5\n",
    "\n",
    "np.random.seed(123)\n",
    "# Make list:\n",
    "top_n_candidates_random = [\n",
    "    np.random.choice(candidate_list, size=TOP_N, replace=False)\n",
    "    for _ in range(RANDOM_ITER)\n",
    "]\n",
    "top_n_candidates_editorial_picks = candidates_editorial_picks[:, :TOP_N]\n",
    "top_n_candidates_popular = candidates_popular[:, :TOP_N]\n",
    "top_n_candidates_newest = candidates_newest[:, :TOP_N]\n",
    "#\n",
    "# Set them as tuples, just to loop through it:\n",
    "candidates_name_pairs = [\n",
    "    [top_n_candidates_editorial_picks, \"editorial_picks\"],\n",
    "    [top_n_candidates_popular, \"popular\"],\n",
    "    [top_n_candidates_random, \"random\"],\n",
    "    [top_n_candidates_newest, \"newest\"],\n",
    "]\n",
    "# =>\n",
    "user_history = user_history_dict[DEFAULT_HISTORY_ARTICLE_ID_COL]\n",
    "\n",
    "print(f\"#random-iterations: {RANDOM_ITER}\")\n",
    "print(f\"Top@{TOP_N} ranked articles\")"
   ]
  },
  {
   "cell_type": "markdown",
   "metadata": {},
   "source": [
    "### Your Model\n",
    "Try to add your model's prediction of the candidate list. In this notebook we just take a random sample."
   ]
  },
  {
   "cell_type": "code",
   "execution_count": 49,
   "metadata": {},
   "outputs": [],
   "source": [
    "candidates_your_model = [\n",
    "    np.random.choice(candidate_list, size=TOP_N, replace=False)\n",
    "    for _ in range(RANDOM_ITER)\n",
    "]\n",
    "candidates_name_pairs.append([candidates_your_model, \"random_2\"])"
   ]
  },
  {
   "cell_type": "markdown",
   "metadata": {},
   "source": [
    "## User-level"
   ]
  },
  {
   "cell_type": "markdown",
   "metadata": {},
   "source": [
    "### Instralist-Diversity"
   ]
  },
  {
   "cell_type": "code",
   "execution_count": 50,
   "metadata": {},
   "outputs": [
    {
     "name": "stdout",
     "output_type": "stream",
     "text": [
      "Writing JSON: '../downloads/demo/evaluation_artifacts/baselines/instralist_diversity.json'\n"
     ]
    },
    {
     "data": {
      "text/html": [
       "<div><style>\n",
       ".dataframe > thead > tr,\n",
       ".dataframe > tbody > tr {\n",
       "  text-align: right;\n",
       "  white-space: pre-wrap;\n",
       "}\n",
       "</style>\n",
       "<small>shape: (2, 6)</small><table border=\"1\" class=\"dataframe\"><thead><tr><th>name</th><th>editorial_picks_intralist_diversity</th><th>popular_intralist_diversity</th><th>random_intralist_diversity</th><th>newest_intralist_diversity</th><th>random_2_intralist_diversity</th></tr><tr><td>str</td><td>f64</td><td>f64</td><td>f64</td><td>f64</td><td>f64</td></tr></thead><tbody><tr><td>&quot;mean&quot;</td><td>0.790542</td><td>0.840236</td><td>0.751938</td><td>0.91091</td><td>0.749204</td></tr><tr><td>&quot;std&quot;</td><td>0.0</td><td>0.0</td><td>0.091009</td><td>0.0</td><td>0.093655</td></tr></tbody></table></div>"
      ],
      "text/plain": [
       "shape: (2, 6)\n",
       "┌──────┬──────────────────┬──────────────────┬─────────────────┬─────────────────┬─────────────────┐\n",
       "│ name ┆ editorial_picks_ ┆ popular_intralis ┆ random_intralis ┆ newest_intralis ┆ random_2_intral │\n",
       "│ ---  ┆ intralist_divers ┆ t_diversity      ┆ t_diversity     ┆ t_diversity     ┆ ist_diversity   │\n",
       "│ str  ┆ …                ┆ ---              ┆ ---             ┆ ---             ┆ ---             │\n",
       "│      ┆ ---              ┆ f64              ┆ f64             ┆ f64             ┆ f64             │\n",
       "│      ┆ f64              ┆                  ┆                 ┆                 ┆                 │\n",
       "╞══════╪══════════════════╪══════════════════╪═════════════════╪═════════════════╪═════════════════╡\n",
       "│ mean ┆ 0.790542         ┆ 0.840236         ┆ 0.751938        ┆ 0.91091         ┆ 0.749204        │\n",
       "│ std  ┆ 0.0              ┆ 0.0              ┆ 0.091009        ┆ 0.0             ┆ 0.093655        │\n",
       "└──────┴──────────────────┴──────────────────┴─────────────────┴─────────────────┴─────────────────┘"
      ]
     },
     "execution_count": 50,
     "metadata": {},
     "output_type": "execute_result"
    }
   ],
   "source": [
    "instralist_diversity_dict = {\"name\": [\"mean\", \"std\"]}\n",
    "\n",
    "for candidates, list_name in candidates_name_pairs:\n",
    "    scores = instralist_diversity(\n",
    "        candidates,\n",
    "        lookup_dict=articles_dict,\n",
    "        lookup_key=CONTRASTIVE_VECTOR,\n",
    "    )\n",
    "    instralist_diversity_dict[f\"{list_name}_{instralist_diversity.name}\"] = [\n",
    "        scores.mean(),\n",
    "        scores.std(),\n",
    "    ]\n",
    "\n",
    "write_json_file(\n",
    "    instralist_diversity_dict,\n",
    "    PATH_BEYOND_ACCURACY_BASELINES.joinpath(BASELINE_DIVERSITY),\n",
    "    verbose=True,\n",
    ")\n",
    "\n",
    "pl.DataFrame(instralist_diversity_dict)"
   ]
  },
  {
   "cell_type": "markdown",
   "metadata": {},
   "source": [
    "#### The embedding representation\n",
    "This might be obvious, but the embedding representation used for computing a metric is very influential. Hence, baselines are important to determine high and low scores. Also, this is why these metrics can be very hard to interpret for us."
   ]
  },
  {
   "cell_type": "code",
   "execution_count": 51,
   "metadata": {},
   "outputs": [
    {
     "name": "stdout",
     "output_type": "stream",
     "text": [
      "contrastive_vector: 0.7905415595169083\n",
      "document_vector: 0.1584846028291677\n"
     ]
    }
   ],
   "source": [
    "ROBERTA_EMB = \"FacebookAI/xlm-roberta-base\"\n",
    "BERT_EMB = \"google-bert/bert-base-multilingual-cased\"\n",
    "print(\n",
    "    f\"{CONTRASTIVE_VECTOR}: {instralist_diversity(top_n_candidates_editorial_picks, lookup_dict=articles_dict, lookup_key=CONTRASTIVE_VECTOR).mean()}\"\n",
    ")\n",
    "print(\n",
    "    f\"{DOCUMENT_VECTOR}: {instralist_diversity(top_n_candidates_editorial_picks, lookup_dict=articles_dict, lookup_key=DOCUMENT_VECTOR).mean()}\"\n",
    ")"
   ]
  },
  {
   "cell_type": "markdown",
   "metadata": {},
   "source": [
    "### Sentiment"
   ]
  },
  {
   "cell_type": "code",
   "execution_count": 52,
   "metadata": {},
   "outputs": [
    {
     "name": "stdout",
     "output_type": "stream",
     "text": [
      "Writing JSON: '../downloads/demo/evaluation_artifacts/baselines/sentiment_score.json'\n"
     ]
    },
    {
     "data": {
      "text/html": [
       "<div><style>\n",
       ".dataframe > thead > tr,\n",
       ".dataframe > tbody > tr {\n",
       "  text-align: right;\n",
       "  white-space: pre-wrap;\n",
       "}\n",
       "</style>\n",
       "<small>shape: (2, 6)</small><table border=\"1\" class=\"dataframe\"><thead><tr><th>name</th><th>editorial_picks_sentiment</th><th>popular_sentiment</th><th>random_sentiment</th><th>newest_sentiment</th><th>random_2_sentiment</th></tr><tr><td>str</td><td>f64</td><td>f64</td><td>f64</td><td>f64</td><td>f64</td></tr></thead><tbody><tr><td>&quot;mean&quot;</td><td>0.7294</td><td>0.78342</td><td>0.820845</td><td>0.8303</td><td>0.820305</td></tr><tr><td>&quot;std&quot;</td><td>0.0</td><td>0.0</td><td>0.071638</td><td>0.0</td><td>0.070301</td></tr></tbody></table></div>"
      ],
      "text/plain": [
       "shape: (2, 6)\n",
       "┌──────┬──────────────────┬──────────────────┬─────────────────┬─────────────────┬─────────────────┐\n",
       "│ name ┆ editorial_picks_ ┆ popular_sentimen ┆ random_sentimen ┆ newest_sentimen ┆ random_2_sentim │\n",
       "│ ---  ┆ sentiment        ┆ t                ┆ t               ┆ t               ┆ ent             │\n",
       "│ str  ┆ ---              ┆ ---              ┆ ---             ┆ ---             ┆ ---             │\n",
       "│      ┆ f64              ┆ f64              ┆ f64             ┆ f64             ┆ f64             │\n",
       "╞══════╪══════════════════╪══════════════════╪═════════════════╪═════════════════╪═════════════════╡\n",
       "│ mean ┆ 0.7294           ┆ 0.78342          ┆ 0.820845        ┆ 0.8303          ┆ 0.820305        │\n",
       "│ std  ┆ 0.0              ┆ 0.0              ┆ 0.071638        ┆ 0.0             ┆ 0.070301        │\n",
       "└──────┴──────────────────┴──────────────────┴─────────────────┴─────────────────┴─────────────────┘"
      ]
     },
     "execution_count": 52,
     "metadata": {},
     "output_type": "execute_result"
    }
   ],
   "source": [
    "sentiment_dict = {\"name\": [\"mean\", \"std\"]}\n",
    "\n",
    "for candidates, list_name in candidates_name_pairs:\n",
    "    scores = sentiment(\n",
    "        candidates,\n",
    "        lookup_dict=articles_dict,\n",
    "        lookup_key=DEFAULT_SENTIMENT_SCORE_COL,\n",
    "    )\n",
    "    sentiment_dict[f\"{list_name}_{sentiment.name}\"] = [\n",
    "        scores.mean(),\n",
    "        scores.std(),\n",
    "    ]\n",
    "\n",
    "write_json_file(\n",
    "    sentiment_dict,\n",
    "    PATH_BEYOND_ACCURACY_BASELINES.joinpath(BASELINE_SENTIMENT_SCORE),\n",
    "    verbose=True,\n",
    ")\n",
    "\n",
    "pl.DataFrame(sentiment_dict)"
   ]
  },
  {
   "cell_type": "markdown",
   "metadata": {},
   "source": [
    "### Novelty"
   ]
  },
  {
   "cell_type": "code",
   "execution_count": 53,
   "metadata": {},
   "outputs": [
    {
     "name": "stdout",
     "output_type": "stream",
     "text": [
      "Writing JSON: '../downloads/demo/evaluation_artifacts/baselines/novelty.json'\n"
     ]
    },
    {
     "data": {
      "text/html": [
       "<div><style>\n",
       ".dataframe > thead > tr,\n",
       ".dataframe > tbody > tr {\n",
       "  text-align: right;\n",
       "  white-space: pre-wrap;\n",
       "}\n",
       "</style>\n",
       "<small>shape: (2, 6)</small><table border=\"1\" class=\"dataframe\"><thead><tr><th>name</th><th>editorial_picks_novelty</th><th>popular_novelty</th><th>random_novelty</th><th>newest_novelty</th><th>random_2_novelty</th></tr><tr><td>str</td><td>f64</td><td>f64</td><td>f64</td><td>f64</td><td>f64</td></tr></thead><tbody><tr><td>&quot;mean&quot;</td><td>3.52556</td><td>1.968051</td><td>7.682532</td><td>3.997557</td><td>7.751626</td></tr><tr><td>&quot;std&quot;</td><td>0.0</td><td>0.0</td><td>2.051901</td><td>0.0</td><td>2.117146</td></tr></tbody></table></div>"
      ],
      "text/plain": [
       "shape: (2, 6)\n",
       "┌──────┬────────────────────┬─────────────────┬────────────────┬────────────────┬──────────────────┐\n",
       "│ name ┆ editorial_picks_no ┆ popular_novelty ┆ random_novelty ┆ newest_novelty ┆ random_2_novelty │\n",
       "│ ---  ┆ velty              ┆ ---             ┆ ---            ┆ ---            ┆ ---              │\n",
       "│ str  ┆ ---                ┆ f64             ┆ f64            ┆ f64            ┆ f64              │\n",
       "│      ┆ f64                ┆                 ┆                ┆                ┆                  │\n",
       "╞══════╪════════════════════╪═════════════════╪════════════════╪════════════════╪══════════════════╡\n",
       "│ mean ┆ 3.52556            ┆ 1.968051        ┆ 7.682532       ┆ 3.997557       ┆ 7.751626         │\n",
       "│ std  ┆ 0.0                ┆ 0.0             ┆ 2.051901       ┆ 0.0            ┆ 2.117146         │\n",
       "└──────┴────────────────────┴─────────────────┴────────────────┴────────────────┴──────────────────┘"
      ]
     },
     "execution_count": 53,
     "metadata": {},
     "output_type": "execute_result"
    }
   ],
   "source": [
    "novelty_dict = {\"name\": [\"mean\", \"std\"]}\n",
    "\n",
    "for candidates, list_name in candidates_name_pairs:\n",
    "    scores = novelty(\n",
    "        candidates,\n",
    "        lookup_dict=articles_dict,\n",
    "        lookup_key=DEFAULT_TOTAL_PAGEVIEWS_COL_NORMALIZED_MIN_MAX,\n",
    "    )\n",
    "    novelty_dict[f\"{list_name}_{novelty.name}\"] = [\n",
    "        scores.mean(),\n",
    "        scores.std(),\n",
    "    ]\n",
    "\n",
    "write_json_file(\n",
    "    novelty_dict,\n",
    "    PATH_BEYOND_ACCURACY_BASELINES.joinpath(BASELINE_NOVELTY),\n",
    "    verbose=True,\n",
    ")\n",
    "\n",
    "pl.DataFrame(novelty_dict)"
   ]
  },
  {
   "cell_type": "markdown",
   "metadata": {},
   "source": [
    "### Serendipity\n",
    "When computing Serendipity it using the user's history; similarity between recommendations and browsed items"
   ]
  },
  {
   "cell_type": "code",
   "execution_count": 54,
   "metadata": {},
   "outputs": [
    {
     "name": "stdout",
     "output_type": "stream",
     "text": [
      "Writing JSON: '../downloads/demo/evaluation_artifacts/baselines/serendipity.json'\n"
     ]
    },
    {
     "data": {
      "text/html": [
       "<div><style>\n",
       ".dataframe > thead > tr,\n",
       ".dataframe > tbody > tr {\n",
       "  text-align: right;\n",
       "  white-space: pre-wrap;\n",
       "}\n",
       "</style>\n",
       "<small>shape: (2, 6)</small><table border=\"1\" class=\"dataframe\"><thead><tr><th>name</th><th>editorial_picks_serendipity</th><th>popular_serendipity</th><th>random_serendipity</th><th>newest_serendipity</th><th>random_2_serendipity</th></tr><tr><td>str</td><td>f64</td><td>f64</td><td>f64</td><td>f64</td><td>f64</td></tr></thead><tbody><tr><td>&quot;mean&quot;</td><td>0.783484</td><td>0.789688</td><td>0.804878</td><td>0.832755</td><td>0.8049</td></tr><tr><td>&quot;std&quot;</td><td>0.031662</td><td>0.031837</td><td>0.037859</td><td>0.020198</td><td>0.039168</td></tr></tbody></table></div>"
      ],
      "text/plain": [
       "shape: (2, 6)\n",
       "┌──────┬──────────────────┬──────────────────┬─────────────────┬─────────────────┬─────────────────┐\n",
       "│ name ┆ editorial_picks_ ┆ popular_serendip ┆ random_serendip ┆ newest_serendip ┆ random_2_serend │\n",
       "│ ---  ┆ serendipity      ┆ ity              ┆ ity             ┆ ity             ┆ ipity           │\n",
       "│ str  ┆ ---              ┆ ---              ┆ ---             ┆ ---             ┆ ---             │\n",
       "│      ┆ f64              ┆ f64              ┆ f64             ┆ f64             ┆ f64             │\n",
       "╞══════╪══════════════════╪══════════════════╪═════════════════╪═════════════════╪═════════════════╡\n",
       "│ mean ┆ 0.783484         ┆ 0.789688         ┆ 0.804878        ┆ 0.832755        ┆ 0.8049          │\n",
       "│ std  ┆ 0.031662         ┆ 0.031837         ┆ 0.037859        ┆ 0.020198        ┆ 0.039168        │\n",
       "└──────┴──────────────────┴──────────────────┴─────────────────┴─────────────────┴─────────────────┘"
      ]
     },
     "execution_count": 54,
     "metadata": {},
     "output_type": "execute_result"
    }
   ],
   "source": [
    "serendipity_dict = {\"name\": [\"mean\", \"std\"]}\n",
    "for candidates, list_name in candidates_name_pairs:\n",
    "    if len(candidates) == 1:\n",
    "        candidates = np.tile(candidates, len(user_history)).reshape(-1, TOP_N)\n",
    "    #\n",
    "    scores = serendipity(\n",
    "        candidates,\n",
    "        H=user_history,\n",
    "        lookup_dict=articles_dict,\n",
    "        lookup_key=CONTRASTIVE_VECTOR,\n",
    "    )\n",
    "    serendipity_dict[f\"{list_name}_{serendipity.name}\"] = [scores.mean(), scores.std()]\n",
    "\n",
    "write_json_file(\n",
    "    serendipity_dict,\n",
    "    PATH_BEYOND_ACCURACY_BASELINES.joinpath(BASELINE_SERENDIPITY),\n",
    "    verbose=True,\n",
    ")\n",
    "\n",
    "pl.DataFrame(serendipity_dict)"
   ]
  },
  {
   "cell_type": "markdown",
   "metadata": {},
   "source": [
    "## Model-level"
   ]
  },
  {
   "cell_type": "markdown",
   "metadata": {},
   "source": [
    "### Coverage"
   ]
  },
  {
   "cell_type": "code",
   "execution_count": 55,
   "metadata": {},
   "outputs": [
    {
     "name": "stdout",
     "output_type": "stream",
     "text": [
      "Writing JSON: '../downloads/demo/evaluation_artifacts/baselines/coverage.json'\n"
     ]
    },
    {
     "data": {
      "text/html": [
       "<div><style>\n",
       ".dataframe > thead > tr,\n",
       ".dataframe > tbody > tr {\n",
       "  text-align: right;\n",
       "  white-space: pre-wrap;\n",
       "}\n",
       "</style>\n",
       "<small>shape: (2, 6)</small><table border=\"1\" class=\"dataframe\"><thead><tr><th>name</th><th>editorial_picks_coverage</th><th>popular_coverage</th><th>random_coverage</th><th>newest_coverage</th><th>random_2_coverage</th></tr><tr><td>str</td><td>f64</td><td>f64</td><td>f64</td><td>f64</td><td>f64</td></tr></thead><tbody><tr><td>&quot;count&quot;</td><td>5.0</td><td>5.0</td><td>250.0</td><td>5.0</td><td>250.0</td></tr><tr><td>&quot;fraction&quot;</td><td>0.02</td><td>0.02</td><td>1.0</td><td>0.02</td><td>1.0</td></tr></tbody></table></div>"
      ],
      "text/plain": [
       "shape: (2, 6)\n",
       "┌──────────┬─────────────────┬─────────────────┬─────────────────┬────────────────┬────────────────┐\n",
       "│ name     ┆ editorial_picks ┆ popular_coverag ┆ random_coverage ┆ newest_coverag ┆ random_2_cover │\n",
       "│ ---      ┆ _coverage       ┆ e               ┆ ---             ┆ e              ┆ age            │\n",
       "│ str      ┆ ---             ┆ ---             ┆ f64             ┆ ---            ┆ ---            │\n",
       "│          ┆ f64             ┆ f64             ┆                 ┆ f64            ┆ f64            │\n",
       "╞══════════╪═════════════════╪═════════════════╪═════════════════╪════════════════╪════════════════╡\n",
       "│ count    ┆ 5.0             ┆ 5.0             ┆ 250.0           ┆ 5.0            ┆ 250.0          │\n",
       "│ fraction ┆ 0.02            ┆ 0.02            ┆ 1.0             ┆ 0.02           ┆ 1.0            │\n",
       "└──────────┴─────────────────┴─────────────────┴─────────────────┴────────────────┴────────────────┘"
      ]
     },
     "execution_count": 55,
     "metadata": {},
     "output_type": "execute_result"
    }
   ],
   "source": [
    "coverage_dict = {\"name\": [\"count\", \"fraction\"]}\n",
    "for candidates, list_name in candidates_name_pairs:\n",
    "    coverage_dict[f\"{list_name}_{coverage.name}\"] = coverage(candidates, candidate_list)\n",
    "\n",
    "write_json_file(\n",
    "    coverage_dict,\n",
    "    PATH_BEYOND_ACCURACY_BASELINES.joinpath(BASELINE_COVERAGE),\n",
    "    verbose=True,\n",
    ")\n",
    "\n",
    "pl.DataFrame(coverage_dict)"
   ]
  },
  {
   "cell_type": "markdown",
   "metadata": {},
   "source": [
    "### Distribution - Category"
   ]
  },
  {
   "cell_type": "markdown",
   "metadata": {},
   "source": [
    "#### Distribution helper function"
   ]
  },
  {
   "cell_type": "code",
   "execution_count": 56,
   "metadata": {},
   "outputs": [],
   "source": [
    "def concat_distribution_dict(dict_: dict) -> dict:\n",
    "    output_results = (\n",
    "        pl.concat(\n",
    "            [pl.DataFrame(val) for val in dict_.values()],\n",
    "            how=\"diagonal\",\n",
    "        )\n",
    "        .with_row_index(name=\"name\")\n",
    "        .with_columns(pl.Series(dict_.keys()).alias(\"name\"))\n",
    "    ).to_dict()\n",
    "    return {key: val.to_list() for key, val in output_results.items()}"
   ]
  },
  {
   "cell_type": "code",
   "execution_count": 57,
   "metadata": {},
   "outputs": [
    {
     "name": "stdout",
     "output_type": "stream",
     "text": [
      "Writing JSON: '../downloads/demo/evaluation_artifacts/baselines/distribution_category.json'\n"
     ]
    },
    {
     "data": {
      "text/html": [
       "<div><style>\n",
       ".dataframe > thead > tr,\n",
       ".dataframe > tbody > tr {\n",
       "  text-align: right;\n",
       "  white-space: pre-wrap;\n",
       "}\n",
       "</style>\n",
       "<small>shape: (5, 11)</small><table border=\"1\" class=\"dataframe\"><thead><tr><th>name</th><th>forbrug</th><th>nyheder</th><th>krimi</th><th>sport</th><th>penge</th><th>auto</th><th>underholdning</th><th>musik</th><th>nationen</th><th>incoming</th></tr><tr><td>str</td><td>f64</td><td>f64</td><td>f64</td><td>f64</td><td>f64</td><td>f64</td><td>f64</td><td>f64</td><td>f64</td><td>f64</td></tr></thead><tbody><tr><td>&quot;editorial_pick…</td><td>0.2</td><td>0.2</td><td>0.2</td><td>0.2</td><td>0.2</td><td>null</td><td>null</td><td>null</td><td>null</td><td>null</td></tr><tr><td>&quot;popular_novelt…</td><td>null</td><td>0.2</td><td>0.2</td><td>0.4</td><td>0.2</td><td>null</td><td>null</td><td>null</td><td>null</td><td>null</td></tr><tr><td>&quot;random_novelty…</td><td>0.011765</td><td>0.161115</td><td>0.097214</td><td>0.166192</td><td>0.039876</td><td>0.379195</td><td>0.083591</td><td>0.03356</td><td>0.024272</td><td>0.00322</td></tr><tr><td>&quot;newest_novelty…</td><td>null</td><td>null</td><td>0.4</td><td>0.2</td><td>0.2</td><td>null</td><td>0.2</td><td>null</td><td>null</td><td>null</td></tr><tr><td>&quot;random_2_novel…</td><td>0.011146</td><td>0.162105</td><td>0.088545</td><td>0.170402</td><td>0.039009</td><td>0.385635</td><td>0.080248</td><td>0.038638</td><td>0.020186</td><td>0.004087</td></tr></tbody></table></div>"
      ],
      "text/plain": [
       "shape: (5, 11)\n",
       "┌──────────────┬──────────┬──────────┬──────────┬───┬─────────────┬──────────┬──────────┬──────────┐\n",
       "│ name         ┆ forbrug  ┆ nyheder  ┆ krimi    ┆ … ┆ underholdni ┆ musik    ┆ nationen ┆ incoming │\n",
       "│ ---          ┆ ---      ┆ ---      ┆ ---      ┆   ┆ ng          ┆ ---      ┆ ---      ┆ ---      │\n",
       "│ str          ┆ f64      ┆ f64      ┆ f64      ┆   ┆ ---         ┆ f64      ┆ f64      ┆ f64      │\n",
       "│              ┆          ┆          ┆          ┆   ┆ f64         ┆          ┆          ┆          │\n",
       "╞══════════════╪══════════╪══════════╪══════════╪═══╪═════════════╪══════════╪══════════╪══════════╡\n",
       "│ editorial_pi ┆ 0.2      ┆ 0.2      ┆ 0.2      ┆ … ┆ null        ┆ null     ┆ null     ┆ null     │\n",
       "│ cks_novelty  ┆          ┆          ┆          ┆   ┆             ┆          ┆          ┆          │\n",
       "│ popular_nove ┆ null     ┆ 0.2      ┆ 0.2      ┆ … ┆ null        ┆ null     ┆ null     ┆ null     │\n",
       "│ lty          ┆          ┆          ┆          ┆   ┆             ┆          ┆          ┆          │\n",
       "│ random_novel ┆ 0.011765 ┆ 0.161115 ┆ 0.097214 ┆ … ┆ 0.083591    ┆ 0.03356  ┆ 0.024272 ┆ 0.00322  │\n",
       "│ ty           ┆          ┆          ┆          ┆   ┆             ┆          ┆          ┆          │\n",
       "│ newest_novel ┆ null     ┆ null     ┆ 0.4      ┆ … ┆ 0.2         ┆ null     ┆ null     ┆ null     │\n",
       "│ ty           ┆          ┆          ┆          ┆   ┆             ┆          ┆          ┆          │\n",
       "│ random_2_nov ┆ 0.011146 ┆ 0.162105 ┆ 0.088545 ┆ … ┆ 0.080248    ┆ 0.038638 ┆ 0.020186 ┆ 0.004087 │\n",
       "│ elty         ┆          ┆          ┆          ┆   ┆             ┆          ┆          ┆          │\n",
       "└──────────────┴──────────┴──────────┴──────────┴───┴─────────────┴──────────┴──────────┴──────────┘"
      ]
     },
     "execution_count": 57,
     "metadata": {},
     "output_type": "execute_result"
    }
   ],
   "source": [
    "COLUMN = DEFAULT_CATEGORY_STR_COL\n",
    "distribution_dict = {\n",
    "    f\"{list_name}_{novelty.name}\": distribution(\n",
    "        candidates,\n",
    "        lookup_dict=articles_dict,\n",
    "        lookup_key=COLUMN,\n",
    "    )\n",
    "    for candidates, list_name in candidates_name_pairs\n",
    "}\n",
    "# =>\n",
    "distribution_category_dict = concat_distribution_dict(distribution_dict)\n",
    "\n",
    "write_json_file(\n",
    "    distribution_category_dict,\n",
    "    PATH_BEYOND_ACCURACY_BASELINES.joinpath(BASELINE_DISTRIBUTION_CATEGORY),\n",
    "    verbose=True,\n",
    ")\n",
    "\n",
    "pl.DataFrame(distribution_category_dict)"
   ]
  },
  {
   "cell_type": "markdown",
   "metadata": {},
   "source": [
    "### Distribution - Sentiment"
   ]
  },
  {
   "cell_type": "code",
   "execution_count": 58,
   "metadata": {},
   "outputs": [
    {
     "name": "stdout",
     "output_type": "stream",
     "text": [
      "Writing JSON: '../downloads/demo/evaluation_artifacts/baselines/distribution_sentiment_label.json'\n"
     ]
    },
    {
     "data": {
      "text/html": [
       "<div><style>\n",
       ".dataframe > thead > tr,\n",
       ".dataframe > tbody > tr {\n",
       "  text-align: right;\n",
       "  white-space: pre-wrap;\n",
       "}\n",
       "</style>\n",
       "<small>shape: (5, 4)</small><table border=\"1\" class=\"dataframe\"><thead><tr><th>name</th><th>Negative</th><th>Positive</th><th>Neutral</th></tr><tr><td>str</td><td>f64</td><td>f64</td><td>f64</td></tr></thead><tbody><tr><td>&quot;editorial_pick…</td><td>0.4</td><td>0.6</td><td>null</td></tr><tr><td>&quot;popular_novelt…</td><td>0.2</td><td>0.4</td><td>0.4</td></tr><tr><td>&quot;random_novelty…</td><td>0.392074</td><td>0.313808</td><td>0.294118</td></tr><tr><td>&quot;newest_novelty…</td><td>0.6</td><td>0.2</td><td>0.2</td></tr><tr><td>&quot;random_2_novel…</td><td>0.394551</td><td>0.316037</td><td>0.289412</td></tr></tbody></table></div>"
      ],
      "text/plain": [
       "shape: (5, 4)\n",
       "┌─────────────────────────┬──────────┬──────────┬──────────┐\n",
       "│ name                    ┆ Negative ┆ Positive ┆ Neutral  │\n",
       "│ ---                     ┆ ---      ┆ ---      ┆ ---      │\n",
       "│ str                     ┆ f64      ┆ f64      ┆ f64      │\n",
       "╞═════════════════════════╪══════════╪══════════╪══════════╡\n",
       "│ editorial_picks_novelty ┆ 0.4      ┆ 0.6      ┆ null     │\n",
       "│ popular_novelty         ┆ 0.2      ┆ 0.4      ┆ 0.4      │\n",
       "│ random_novelty          ┆ 0.392074 ┆ 0.313808 ┆ 0.294118 │\n",
       "│ newest_novelty          ┆ 0.6      ┆ 0.2      ┆ 0.2      │\n",
       "│ random_2_novelty        ┆ 0.394551 ┆ 0.316037 ┆ 0.289412 │\n",
       "└─────────────────────────┴──────────┴──────────┴──────────┘"
      ]
     },
     "execution_count": 58,
     "metadata": {},
     "output_type": "execute_result"
    }
   ],
   "source": [
    "COLUMN = DEFAULT_SENTIMENT_LABEL_COL\n",
    "distribution_dict = {\n",
    "    f\"{list_name}_{novelty.name}\": distribution(\n",
    "        candidates,\n",
    "        lookup_dict=articles_dict,\n",
    "        lookup_key=COLUMN,\n",
    "    )\n",
    "    for candidates, list_name in candidates_name_pairs\n",
    "}\n",
    "# =>\n",
    "distribution_sentiment_dict = concat_distribution_dict(distribution_dict)\n",
    "\n",
    "write_json_file(\n",
    "    distribution_sentiment_dict,\n",
    "    PATH_BEYOND_ACCURACY_BASELINES.joinpath(BASELINE_DISTRIBUTION_SENTIMENT_LABEL),\n",
    "    verbose=True,\n",
    ")\n",
    "\n",
    "pl.DataFrame(distribution_sentiment_dict)"
   ]
  },
  {
   "cell_type": "markdown",
   "metadata": {},
   "source": [
    "### Distribution - Topics"
   ]
  },
  {
   "cell_type": "code",
   "execution_count": 59,
   "metadata": {},
   "outputs": [
    {
     "name": "stdout",
     "output_type": "stream",
     "text": [
      "Writing JSON: '../downloads/demo/evaluation_artifacts/baselines/distribution_topics.json'\n"
     ]
    },
    {
     "data": {
      "text/html": [
       "<div><style>\n",
       ".dataframe > thead > tr,\n",
       ".dataframe > tbody > tr {\n",
       "  text-align: right;\n",
       "  white-space: pre-wrap;\n",
       "}\n",
       "</style>\n",
       "<small>shape: (5, 61)</small><table border=\"1\" class=\"dataframe\"><thead><tr><th>name</th><th>Livsstil</th><th>Sundhed</th><th>Sygdom og behandling</th><th>Kendt</th><th>Bolig</th><th>Køb og salg</th><th>Kriminalitet</th><th>Bandekriminalitet</th><th>Sport</th><th>Erhverv</th><th>Privat virksomhed</th><th>Økonomi</th><th>Mikro</th><th>Politik</th><th>International politik</th><th>Personfarlig kriminalitet</th><th>Offentlig instans</th><th>Begivenhed</th><th>Fodbold</th><th>Sportsbegivenhed</th><th>Ketcher- og batsport</th><th>Ansættelsesforhold</th><th>Underholdning</th><th>National politik</th><th>Film og tv</th><th>Makro</th><th>Vejr</th><th>Katastrofe</th><th>Dyr</th><th>Musik og lyd</th><th>Underholdningsbegivenhed</th><th>Motorsport</th><th>Familieliv</th><th>Mindre ulykke</th><th>Større katastrofe</th><th>Transportmiddel</th><th>Større transportmiddel</th><th>Offentlig transport</th><th>Teknologi</th><th>Kunstig intelligens og software</th><th>Forbrugerelektronik</th><th>Bil</th><th>Mad og drikke</th><th>Samfund</th><th>Værdier</th><th>Konflikt og krig</th><th>Bæredygtighed og klima</th><th>Bedrageri</th><th>Væbnet konflikt</th><th>Reality</th><th>Partnerskab</th><th>Kosmetisk behandling</th><th>Kultur</th><th>Håndbold</th><th>Videnskab</th><th>Naturvidenskab</th><th>Uddannelse</th><th>Ungdomsuddannelse</th><th>Renovering og indretning</th><th>Udlejning</th></tr><tr><td>str</td><td>f64</td><td>f64</td><td>f64</td><td>f64</td><td>f64</td><td>f64</td><td>f64</td><td>f64</td><td>f64</td><td>f64</td><td>f64</td><td>f64</td><td>f64</td><td>f64</td><td>f64</td><td>f64</td><td>f64</td><td>f64</td><td>f64</td><td>f64</td><td>f64</td><td>f64</td><td>f64</td><td>f64</td><td>f64</td><td>f64</td><td>f64</td><td>f64</td><td>f64</td><td>f64</td><td>f64</td><td>f64</td><td>f64</td><td>f64</td><td>f64</td><td>f64</td><td>f64</td><td>f64</td><td>f64</td><td>f64</td><td>f64</td><td>f64</td><td>f64</td><td>f64</td><td>f64</td><td>f64</td><td>f64</td><td>f64</td><td>f64</td><td>f64</td><td>f64</td><td>f64</td><td>f64</td><td>f64</td><td>f64</td><td>f64</td><td>f64</td><td>f64</td><td>f64</td><td>f64</td></tr></thead><tbody><tr><td>&quot;editorial_pick…</td><td>0.133333</td><td>0.066667</td><td>0.066667</td><td>0.133333</td><td>0.066667</td><td>0.066667</td><td>0.066667</td><td>0.066667</td><td>0.066667</td><td>0.066667</td><td>0.066667</td><td>0.066667</td><td>0.066667</td><td>null</td><td>null</td><td>null</td><td>null</td><td>null</td><td>null</td><td>null</td><td>null</td><td>null</td><td>null</td><td>null</td><td>null</td><td>null</td><td>null</td><td>null</td><td>null</td><td>null</td><td>null</td><td>null</td><td>null</td><td>null</td><td>null</td><td>null</td><td>null</td><td>null</td><td>null</td><td>null</td><td>null</td><td>null</td><td>null</td><td>null</td><td>null</td><td>null</td><td>null</td><td>null</td><td>null</td><td>null</td><td>null</td><td>null</td><td>null</td><td>null</td><td>null</td><td>null</td><td>null</td><td>null</td><td>null</td><td>null</td></tr><tr><td>&quot;popular_novelt…</td><td>null</td><td>null</td><td>null</td><td>0.157895</td><td>null</td><td>null</td><td>0.052632</td><td>null</td><td>0.105263</td><td>0.105263</td><td>0.052632</td><td>0.052632</td><td>0.052632</td><td>0.052632</td><td>0.052632</td><td>0.052632</td><td>0.052632</td><td>0.052632</td><td>0.052632</td><td>0.052632</td><td>0.052632</td><td>null</td><td>null</td><td>null</td><td>null</td><td>null</td><td>null</td><td>null</td><td>null</td><td>null</td><td>null</td><td>null</td><td>null</td><td>null</td><td>null</td><td>null</td><td>null</td><td>null</td><td>null</td><td>null</td><td>null</td><td>null</td><td>null</td><td>null</td><td>null</td><td>null</td><td>null</td><td>null</td><td>null</td><td>null</td><td>null</td><td>null</td><td>null</td><td>null</td><td>null</td><td>null</td><td>null</td><td>null</td><td>null</td><td>null</td></tr><tr><td>&quot;random_novelty…</td><td>0.017945</td><td>0.008588</td><td>0.007506</td><td>0.071396</td><td>0.071222</td><td>0.066543</td><td>0.038159</td><td>0.00391</td><td>0.045491</td><td>0.095625</td><td>0.070314</td><td>0.105401</td><td>0.007087</td><td>0.032154</td><td>0.014209</td><td>0.024648</td><td>0.002269</td><td>0.029676</td><td>0.029501</td><td>0.017002</td><td>0.007192</td><td>0.021471</td><td>0.028209</td><td>0.017177</td><td>0.007716</td><td>0.008239</td><td>0.002793</td><td>0.015536</td><td>0.000803</td><td>0.01016</td><td>0.010509</td><td>0.002165</td><td>0.002199</td><td>0.010648</td><td>0.001187</td><td>0.01613</td><td>0.004818</td><td>0.000943</td><td>0.004469</td><td>0.002374</td><td>0.001222</td><td>0.007227</td><td>0.004224</td><td>0.012813</td><td>0.002514</td><td>0.007785</td><td>0.002444</td><td>0.00206</td><td>0.002933</td><td>0.001292</td><td>0.002584</td><td>0.001117</td><td>0.00192</td><td>0.001885</td><td>0.001292</td><td>0.001292</td><td>0.004259</td><td>0.004259</td><td>0.001152</td><td>0.002339</td></tr><tr><td>&quot;newest_novelty…</td><td>null</td><td>null</td><td>null</td><td>0.066667</td><td>null</td><td>null</td><td>0.066667</td><td>null</td><td>0.066667</td><td>0.066667</td><td>0.066667</td><td>0.066667</td><td>null</td><td>null</td><td>null</td><td>0.066667</td><td>null</td><td>0.066667</td><td>null</td><td>0.066667</td><td>0.066667</td><td>null</td><td>0.066667</td><td>null</td><td>null</td><td>null</td><td>null</td><td>0.066667</td><td>null</td><td>null</td><td>null</td><td>null</td><td>null</td><td>0.066667</td><td>null</td><td>null</td><td>null</td><td>null</td><td>null</td><td>null</td><td>null</td><td>null</td><td>null</td><td>null</td><td>null</td><td>null</td><td>null</td><td>null</td><td>null</td><td>null</td><td>null</td><td>null</td><td>null</td><td>null</td><td>null</td><td>null</td><td>0.066667</td><td>0.066667</td><td>null</td><td>null</td></tr><tr><td>&quot;random_2_novel…</td><td>0.017772</td><td>0.008415</td><td>0.007297</td><td>0.071296</td><td>0.069446</td><td>0.064977</td><td>0.035299</td><td>0.003107</td><td>0.046751</td><td>0.09867</td><td>0.073147</td><td>0.107503</td><td>0.007297</td><td>0.031493</td><td>0.013652</td><td>0.02252</td><td>0.002025</td><td>0.032017</td><td>0.031423</td><td>0.018121</td><td>0.006669</td><td>0.022171</td><td>0.029084</td><td>0.016375</td><td>0.007158</td><td>0.008065</td><td>0.002793</td><td>0.013547</td><td>0.001432</td><td>0.011731</td><td>0.011487</td><td>0.002758</td><td>0.002479</td><td>0.009741</td><td>0.000943</td><td>0.014839</td><td>0.004958</td><td>0.001222</td><td>0.004155</td><td>0.00213</td><td>0.001257</td><td>0.005901</td><td>0.004748</td><td>0.011976</td><td>0.00192</td><td>0.006808</td><td>0.002025</td><td>0.002235</td><td>0.002619</td><td>0.001257</td><td>0.002095</td><td>0.001187</td><td>0.002828</td><td>0.00185</td><td>0.001501</td><td>0.001501</td><td>0.004434</td><td>0.004434</td><td>0.001222</td><td>0.002235</td></tr></tbody></table></div>"
      ],
      "text/plain": [
       "shape: (5, 61)\n",
       "┌────────────┬──────────┬──────────┬───────────┬───┬───────────┬───────────┬───────────┬───────────┐\n",
       "│ name       ┆ Livsstil ┆ Sundhed  ┆ Sygdom og ┆ … ┆ Uddannels ┆ Ungdomsud ┆ Renoverin ┆ Udlejning │\n",
       "│ ---        ┆ ---      ┆ ---      ┆ behandlin ┆   ┆ e         ┆ dannelse  ┆ g og indr ┆ ---       │\n",
       "│ str        ┆ f64      ┆ f64      ┆ g         ┆   ┆ ---       ┆ ---       ┆ etning    ┆ f64       │\n",
       "│            ┆          ┆          ┆ ---       ┆   ┆ f64       ┆ f64       ┆ ---       ┆           │\n",
       "│            ┆          ┆          ┆ f64       ┆   ┆           ┆           ┆ f64       ┆           │\n",
       "╞════════════╪══════════╪══════════╪═══════════╪═══╪═══════════╪═══════════╪═══════════╪═══════════╡\n",
       "│ editorial_ ┆ 0.133333 ┆ 0.066667 ┆ 0.066667  ┆ … ┆ null      ┆ null      ┆ null      ┆ null      │\n",
       "│ picks_nove ┆          ┆          ┆           ┆   ┆           ┆           ┆           ┆           │\n",
       "│ lty        ┆          ┆          ┆           ┆   ┆           ┆           ┆           ┆           │\n",
       "│ popular_no ┆ null     ┆ null     ┆ null      ┆ … ┆ null      ┆ null      ┆ null      ┆ null      │\n",
       "│ velty      ┆          ┆          ┆           ┆   ┆           ┆           ┆           ┆           │\n",
       "│ random_nov ┆ 0.017945 ┆ 0.008588 ┆ 0.007506  ┆ … ┆ 0.004259  ┆ 0.004259  ┆ 0.001152  ┆ 0.002339  │\n",
       "│ elty       ┆          ┆          ┆           ┆   ┆           ┆           ┆           ┆           │\n",
       "│ newest_nov ┆ null     ┆ null     ┆ null      ┆ … ┆ 0.066667  ┆ 0.066667  ┆ null      ┆ null      │\n",
       "│ elty       ┆          ┆          ┆           ┆   ┆           ┆           ┆           ┆           │\n",
       "│ random_2_n ┆ 0.017772 ┆ 0.008415 ┆ 0.007297  ┆ … ┆ 0.004434  ┆ 0.004434  ┆ 0.001222  ┆ 0.002235  │\n",
       "│ ovelty     ┆          ┆          ┆           ┆   ┆           ┆           ┆           ┆           │\n",
       "└────────────┴──────────┴──────────┴───────────┴───┴───────────┴───────────┴───────────┴───────────┘"
      ]
     },
     "execution_count": 59,
     "metadata": {},
     "output_type": "execute_result"
    }
   ],
   "source": [
    "COLUMN = DEFAULT_TOPICS_COL\n",
    "distribution_dict = {\n",
    "    f\"{list_name}_{novelty.name}\": distribution(\n",
    "        candidates,\n",
    "        lookup_dict=articles_dict,\n",
    "        lookup_key=COLUMN,\n",
    "    )\n",
    "    for candidates, list_name in candidates_name_pairs\n",
    "}\n",
    "# =>\n",
    "\n",
    "distribution_topics_dict = concat_distribution_dict(distribution_dict)\n",
    "\n",
    "write_json_file(\n",
    "    distribution_topics_dict,\n",
    "    PATH_BEYOND_ACCURACY_BASELINES.joinpath(BASELINE_DISTRIBUTION_TOPICS),\n",
    "    verbose=True,\n",
    ")\n",
    "\n",
    "pl.DataFrame(distribution_topics_dict)"
   ]
  },
  {
   "cell_type": "markdown",
   "metadata": {},
   "source": [
    "# Make a Submission file\n",
    "In this example, we randomly rank the articles."
   ]
  },
  {
   "cell_type": "code",
   "execution_count": 60,
   "metadata": {},
   "outputs": [
    {
     "data": {
      "text/html": [
       "<div><style>\n",
       ".dataframe > thead > tr,\n",
       ".dataframe > tbody > tr {\n",
       "  text-align: right;\n",
       "  white-space: pre-wrap;\n",
       "}\n",
       "</style>\n",
       "<small>shape: (3, 2)</small><table border=\"1\" class=\"dataframe\"><thead><tr><th>impression_id</th><th>article_ids_inview</th></tr><tr><td>u32</td><td>list[i64]</td></tr></thead><tbody><tr><td>6453517</td><td>[7, 11, … 3]</td></tr><tr><td>6455350</td><td>[8, 14, … 6]</td></tr><tr><td>6749981</td><td>[5, 4, … 3]</td></tr></tbody></table></div>"
      ],
      "text/plain": [
       "shape: (3, 2)\n",
       "┌───────────────┬────────────────────┐\n",
       "│ impression_id ┆ article_ids_inview │\n",
       "│ ---           ┆ ---                │\n",
       "│ u32           ┆ list[i64]          │\n",
       "╞═══════════════╪════════════════════╡\n",
       "│ 6453517       ┆ [7, 11, … 3]       │\n",
       "│ 6455350       ┆ [8, 14, … 6]       │\n",
       "│ 6749981       ┆ [5, 4, … 3]        │\n",
       "└───────────────┴────────────────────┘"
      ]
     },
     "execution_count": 60,
     "metadata": {},
     "output_type": "execute_result"
    }
   ],
   "source": [
    "np.random.seed(123)\n",
    "df = (\n",
    "    pl.concat([df_behaviors, df_beyond_accuarcy])\n",
    "    .select(DEFAULT_IMPRESSION_ID_COL, DEFAULT_INVIEW_ARTICLES_COL)\n",
    "    .with_columns(\n",
    "        pl.col(DEFAULT_INVIEW_ARTICLES_COL).map_elements(\n",
    "            lambda x: list(np.random.permutation(len(x)) + 1)\n",
    "        )\n",
    "    )\n",
    "    .collect()\n",
    ")\n",
    "df.head(3)"
   ]
  },
  {
   "cell_type": "markdown",
   "metadata": {},
   "source": [
    "### Example: how to convert prediction scores to argsorted output format\n",
    "A quick detour, to see how, you could convert actual prediction-scores to the format"
   ]
  },
  {
   "cell_type": "code",
   "execution_count": 61,
   "metadata": {},
   "outputs": [
    {
     "data": {
      "text/html": [
       "<div><style>\n",
       ".dataframe > thead > tr,\n",
       ".dataframe > tbody > tr {\n",
       "  text-align: right;\n",
       "  white-space: pre-wrap;\n",
       "}\n",
       "</style>\n",
       "<small>shape: (5, 2)</small><table border=\"1\" class=\"dataframe\"><thead><tr><th>impression_id</th><th>article_ids_inview</th></tr><tr><td>u32</td><td>list[f64]</td></tr></thead><tbody><tr><td>6453517</td><td>[0.142857, 0.090909, … 0.333333]</td></tr><tr><td>6455350</td><td>[0.125, 0.071429, … 0.166667]</td></tr><tr><td>6749981</td><td>[0.2, 0.25, … 0.333333]</td></tr><tr><td>6749983</td><td>[0.5, 0.125, … 0.142857]</td></tr><tr><td>6749986</td><td>[1.0, 0.125, … 0.142857]</td></tr></tbody></table></div>"
      ],
      "text/plain": [
       "shape: (5, 2)\n",
       "┌───────────────┬──────────────────────────────────┐\n",
       "│ impression_id ┆ article_ids_inview               │\n",
       "│ ---           ┆ ---                              │\n",
       "│ u32           ┆ list[f64]                        │\n",
       "╞═══════════════╪══════════════════════════════════╡\n",
       "│ 6453517       ┆ [0.142857, 0.090909, … 0.333333] │\n",
       "│ 6455350       ┆ [0.125, 0.071429, … 0.166667]    │\n",
       "│ 6749981       ┆ [0.2, 0.25, … 0.333333]          │\n",
       "│ 6749983       ┆ [0.5, 0.125, … 0.142857]         │\n",
       "│ 6749986       ┆ [1.0, 0.125, … 0.142857]         │\n",
       "└───────────────┴──────────────────────────────────┘"
      ]
     },
     "execution_count": 61,
     "metadata": {},
     "output_type": "execute_result"
    }
   ],
   "source": [
    "rank_score = df[:100].with_columns(\n",
    "    pl.col(DEFAULT_INVIEW_ARTICLES_COL).list.eval(1 / pl.element())\n",
    ")\n",
    "rank_score.head(5)"
   ]
  },
  {
   "cell_type": "code",
   "execution_count": 62,
   "metadata": {},
   "outputs": [
    {
     "data": {
      "text/html": [
       "<div><style>\n",
       ".dataframe > thead > tr,\n",
       ".dataframe > tbody > tr {\n",
       "  text-align: right;\n",
       "  white-space: pre-wrap;\n",
       "}\n",
       "</style>\n",
       "<small>shape: (5, 3)</small><table border=\"1\" class=\"dataframe\"><thead><tr><th>impression_id</th><th>article_ids_inview</th><th>prediction_scores</th></tr><tr><td>u32</td><td>list[f64]</td><td>list[i64]</td></tr></thead><tbody><tr><td>6453517</td><td>[0.142857, 0.090909, … 0.333333]</td><td>[7, 11, … 3]</td></tr><tr><td>6455350</td><td>[0.125, 0.071429, … 0.166667]</td><td>[8, 14, … 6]</td></tr><tr><td>6749981</td><td>[0.2, 0.25, … 0.333333]</td><td>[5, 4, … 3]</td></tr><tr><td>6749983</td><td>[0.5, 0.125, … 0.142857]</td><td>[2, 8, … 7]</td></tr><tr><td>6749986</td><td>[1.0, 0.125, … 0.142857]</td><td>[1, 8, … 7]</td></tr></tbody></table></div>"
      ],
      "text/plain": [
       "shape: (5, 3)\n",
       "┌───────────────┬──────────────────────────────────┬───────────────────┐\n",
       "│ impression_id ┆ article_ids_inview               ┆ prediction_scores │\n",
       "│ ---           ┆ ---                              ┆ ---               │\n",
       "│ u32           ┆ list[f64]                        ┆ list[i64]         │\n",
       "╞═══════════════╪══════════════════════════════════╪═══════════════════╡\n",
       "│ 6453517       ┆ [0.142857, 0.090909, … 0.333333] ┆ [7, 11, … 3]      │\n",
       "│ 6455350       ┆ [0.125, 0.071429, … 0.166667]    ┆ [8, 14, … 6]      │\n",
       "│ 6749981       ┆ [0.2, 0.25, … 0.333333]          ┆ [5, 4, … 3]       │\n",
       "│ 6749983       ┆ [0.5, 0.125, … 0.142857]         ┆ [2, 8, … 7]       │\n",
       "│ 6749986       ┆ [1.0, 0.125, … 0.142857]         ┆ [1, 8, … 7]       │\n",
       "└───────────────┴──────────────────────────────────┴───────────────────┘"
      ]
     },
     "execution_count": 62,
     "metadata": {},
     "output_type": "execute_result"
    }
   ],
   "source": [
    "rank_score.with_columns(\n",
    "    pl.col(DEFAULT_INVIEW_ARTICLES_COL)\n",
    "    .map_elements(lambda x: list(rank_predictions_by_score(x)))\n",
    "    .alias(\"prediction_scores\")\n",
    ").head(5)"
   ]
  },
  {
   "cell_type": "markdown",
   "metadata": {},
   "source": [
    "### Write submission file:"
   ]
  },
  {
   "cell_type": "code",
   "execution_count": 63,
   "metadata": {},
   "outputs": [
    {
     "name": "stderr",
     "output_type": "stream",
     "text": [
      "28667it [00:00, 548987.36it/s]"
     ]
    },
    {
     "name": "stderr",
     "output_type": "stream",
     "text": [
      "\n"
     ]
    },
    {
     "name": "stdout",
     "output_type": "stream",
     "text": [
      "Zipping ../downloads/demo/evaluation_artifacts/predictions.txt to ../downloads/demo/evaluation_artifacts/predictions_demo_random.zip\n"
     ]
    }
   ],
   "source": [
    "df.head(10)\n",
    "\n",
    "impression_ids = df[DEFAULT_IMPRESSION_ID_COL].to_list()\n",
    "prediction_scores = df[DEFAULT_INVIEW_ARTICLES_COL].to_list()\n",
    "\n",
    "write_submission_file(\n",
    "    impression_ids=impression_ids,\n",
    "    prediction_scores=prediction_scores,\n",
    "    path=PATH_BEYOND_ACCURACY.joinpath(\"predictions.txt\"),\n",
    "    filename_zip=f\"predictions_{DATASET_SIZE}_random.zip\",\n",
    ")"
   ]
  },
  {
   "cell_type": "code",
   "execution_count": null,
   "metadata": {},
   "outputs": [],
   "source": []
  }
 ],
 "metadata": {
  "kernelspec": {
   "display_name": "Python 3 (ipykernel)",
   "language": "python",
   "name": "python3"
  },
  "language_info": {
   "codemirror_mode": {
    "name": "ipython",
    "version": 3
   },
   "file_extension": ".py",
   "mimetype": "text/x-python",
   "name": "python",
   "nbconvert_exporter": "python",
   "pygments_lexer": "ipython3",
   "version": "3.11.7"
  }
 },
 "nbformat": 4,
 "nbformat_minor": 4
}
