{
 "cells": [
  {
   "cell_type": "markdown",
   "metadata": {},
   "source": [
    "# Example of how to make a beyond-accuracy dataset"
   ]
  },
  {
   "cell_type": "markdown",
   "metadata": {},
   "source": [
    "## Get started"
   ]
  },
  {
   "cell_type": "markdown",
   "metadata": {},
   "source": [
    "### Dependencies"
   ]
  },
  {
   "cell_type": "code",
   "execution_count": 165,
   "metadata": {},
   "outputs": [],
   "source": [
    "from ebrec.utils._python import write_json_file, read_json_file\n",
    "from pathlib import Path\n",
    "import polars as pl\n",
    "import numpy as np\n",
    "import json\n",
    "\n",
    "from ebrec.utils._constants import (\n",
    "    DEFAULT_ARTICLE_PUBLISHED_TIMESTAMP_COL,\n",
    "    DEFAULT_ARTICLE_MODIFIED_TIMESTAMP_COL,\n",
    "    DEFAULT_IMPRESSION_TIMESTAMP_COL,\n",
    "    DEFAULT_TOTAL_PAGEVIEWS_COL,\n",
    "    DEFAULT_INVIEW_ARTICLES_COL,\n",
    "    DEFAULT_TOTAL_INVIEWS_COL,\n",
    "    DEFAULT_IS_SUBSCRIBER_COL,\n",
    "    DEFAULT_ARTICLE_ID_COL,\n",
    "    DEFAULT_POSTCODE_COL,\n",
    "    DEFAULT_GENDER_COL,\n",
    "    DEFAULT_AGE_COL,\n",
    ")"
   ]
  },
  {
   "cell_type": "markdown",
   "metadata": {},
   "source": [
    "### Load dataset"
   ]
  },
  {
   "cell_type": "code",
   "execution_count": 166,
   "metadata": {},
   "outputs": [],
   "source": [
    "dataset_split = \"demo\"\n",
    "path = Path(f\"../downloads/{dataset_split}\")\n",
    "path_beyond = path.joinpath(\"beyond_accuracy\")\n",
    "path_beyond.mkdir(exist_ok=True, parents=True)"
   ]
  },
  {
   "cell_type": "markdown",
   "metadata": {},
   "source": [
    "### Output files:"
   ]
  },
  {
   "cell_type": "code",
   "execution_count": 167,
   "metadata": {},
   "outputs": [],
   "source": [
    "BEHAVIORS_TIMESTAMP_DICT = \"behaviors_timestamp_dict.json\"\n",
    "CANDIDATE_LIST = \"candidate_list.json\"\n",
    "CANDIDATE_DICT = \"candidate_dict.json\"\n",
    "USERS_DICT = \"users_dict.json\""
   ]
  },
  {
   "cell_type": "markdown",
   "metadata": {},
   "source": [
    "### Load Dataset"
   ]
  },
  {
   "cell_type": "code",
   "execution_count": 168,
   "metadata": {},
   "outputs": [],
   "source": [
    "df_beyond_accuarcy = pl.scan_parquet(path.joinpath(\"test\", \"behaviors.parquet\")).filter(pl.col(\"is_beyond_accuracy\"))\n",
    "df_behaviors = pl.scan_parquet(path.joinpath(\"test\", \"behaviors.parquet\")).filter(~pl.col(\"is_beyond_accuracy\"))\n",
    "df_articles = pl.scan_parquet(path.joinpath(\"articles.parquet\"))"
   ]
  },
  {
   "cell_type": "markdown",
   "metadata": {},
   "source": [
    "## Dump Metadata"
   ]
  },
  {
   "cell_type": "markdown",
   "metadata": {},
   "source": [
    "### Make candidate list for beyond-accuracy:"
   ]
  },
  {
   "cell_type": "markdown",
   "metadata": {},
   "source": [
    "We select the candidate list from the testset"
   ]
  },
  {
   "cell_type": "code",
   "execution_count": 169,
   "metadata": {},
   "outputs": [
    {
     "name": "stdout",
     "output_type": "stream",
     "text": [
      "Number of Candidate IDs: 250 (example: [9793163, 9793069, 9792076, 9792749, 9791280])\n",
      "Dump: ../downloads/demo/beyond_accuracy/candidate_list.json\n"
     ]
    }
   ],
   "source": [
    "candidate_list = (\n",
    "    df_beyond_accuarcy.select(pl.col(DEFAULT_INVIEW_ARTICLES_COL).first())\n",
    "    .collect()\n",
    "    .to_series()\n",
    ")[0].to_list()\n",
    "write_json_file(candidate_list, path_beyond.joinpath(CANDIDATE_LIST))\n",
    "\n",
    "print(f\"Number of Candidate IDs: {len(candidate_list)} (example: {candidate_list[:5]})\")\n",
    "print(f\"Dump: {path_beyond.joinpath(CANDIDATE_LIST)}\")"
   ]
  },
  {
   "cell_type": "markdown",
   "metadata": {},
   "source": [
    "#### Sanity check"
   ]
  },
  {
   "cell_type": "code",
   "execution_count": 170,
   "metadata": {},
   "outputs": [
    {
     "name": "stdout",
     "output_type": "stream",
     "text": [
      "santity check - passed\n"
     ]
    }
   ],
   "source": [
    "load_candidate_list = read_json_file(path_beyond.joinpath(CANDIDATE_LIST))\n",
    "if (\n",
    "    not (\n",
    "        df_beyond_accuarcy.select(DEFAULT_INVIEW_ARTICLES_COL).collect()\n",
    "        == candidate_list\n",
    "    )\n",
    "    .sum()[DEFAULT_INVIEW_ARTICLES_COL]\n",
    "    .to_list()[0]\n",
    "    == df_beyond_accuarcy.select(DEFAULT_INVIEW_ARTICLES_COL).collect().shape[0]\n",
    "):\n",
    "    raise ValueError(\"candidate_list is not identical in the testset\")\n",
    "\n",
    "if not (np.array(candidate_list) - np.array(load_candidate_list)).sum() == 0:\n",
    "    raise ValueError(\"candidate_list was not dump correctly\")\n",
    "\n",
    "print(\"santity check - passed\")"
   ]
  },
  {
   "cell_type": "markdown",
   "metadata": {},
   "source": [
    "### User meta data: Segments"
   ]
  },
  {
   "cell_type": "code",
   "execution_count": 171,
   "metadata": {},
   "outputs": [
    {
     "name": "stdout",
     "output_type": "stream",
     "text": [
      "Dump: ../downloads/demo/beyond_accuracy/users_dict.json\n"
     ]
    },
    {
     "data": {
      "text/html": [
       "<div><style>\n",
       ".dataframe > thead > tr,\n",
       ".dataframe > tbody > tr {\n",
       "  text-align: right;\n",
       "  white-space: pre-wrap;\n",
       "}\n",
       "</style>\n",
       "<small>shape: (3, 4)</small><table border=\"1\" class=\"dataframe\"><thead><tr><th>is_subscriber</th><th>postcode</th><th>gender</th><th>age</th></tr><tr><td>bool</td><td>i8</td><td>i8</td><td>i8</td></tr></thead><tbody><tr><td>true</td><td>null</td><td>0</td><td>30</td></tr><tr><td>true</td><td>null</td><td>null</td><td>null</td></tr><tr><td>true</td><td>null</td><td>0</td><td>null</td></tr></tbody></table></div>"
      ],
      "text/plain": [
       "shape: (3, 4)\n",
       "┌───────────────┬──────────┬────────┬──────┐\n",
       "│ is_subscriber ┆ postcode ┆ gender ┆ age  │\n",
       "│ ---           ┆ ---      ┆ ---    ┆ ---  │\n",
       "│ bool          ┆ i8       ┆ i8     ┆ i8   │\n",
       "╞═══════════════╪══════════╪════════╪══════╡\n",
       "│ true          ┆ null     ┆ 0      ┆ 30   │\n",
       "│ true          ┆ null     ┆ null   ┆ null │\n",
       "│ true          ┆ null     ┆ 0      ┆ null │\n",
       "└───────────────┴──────────┴────────┴──────┘"
      ]
     },
     "execution_count": 171,
     "metadata": {},
     "output_type": "execute_result"
    }
   ],
   "source": [
    "user_meta_columns = [\n",
    "    DEFAULT_IS_SUBSCRIBER_COL,\n",
    "    DEFAULT_POSTCODE_COL,\n",
    "    DEFAULT_GENDER_COL,\n",
    "    DEFAULT_AGE_COL,\n",
    "]\n",
    "df_users = df_beyond_accuarcy.select(pl.col(user_meta_columns)).collect()\n",
    "\n",
    "users_dict = {col : df_users[col].to_list() for col in df_users.columns}\n",
    "write_json_file(users_dict, path_beyond.joinpath(USERS_DICT))\n",
    "print(f\"Dump: {path_beyond.joinpath(USERS_DICT)}\")\n",
    "df_users.head(3)\n"
   ]
  },
  {
   "cell_type": "markdown",
   "metadata": {},
   "source": [
    "### Timestamp for Behaviors"
   ]
  },
  {
   "cell_type": "markdown",
   "metadata": {},
   "source": [
    "Can be used for making the AUC as function of time"
   ]
  },
  {
   "cell_type": "code",
   "execution_count": 172,
   "metadata": {},
   "outputs": [
    {
     "name": "stdout",
     "output_type": "stream",
     "text": [
      "Dump: ../downloads/demo/beyond_accuracy/behaviors_timestamp_dict.json\n"
     ]
    },
    {
     "data": {
      "text/html": [
       "<div><style>\n",
       ".dataframe > thead > tr,\n",
       ".dataframe > tbody > tr {\n",
       "  text-align: right;\n",
       "  white-space: pre-wrap;\n",
       "}\n",
       "</style>\n",
       "<small>shape: (3, 1)</small><table border=\"1\" class=\"dataframe\"><thead><tr><th>impression_time</th></tr><tr><td>str</td></tr></thead><tbody><tr><td>&quot;2023-06-05 15:…</td></tr><tr><td>&quot;2023-06-05 15:…</td></tr><tr><td>&quot;2023-06-01 10:…</td></tr></tbody></table></div>"
      ],
      "text/plain": [
       "shape: (3, 1)\n",
       "┌────────────────────────────┐\n",
       "│ impression_time            │\n",
       "│ ---                        │\n",
       "│ str                        │\n",
       "╞════════════════════════════╡\n",
       "│ 2023-06-05 15:18:16.000000 │\n",
       "│ 2023-06-05 15:36:07.000000 │\n",
       "│ 2023-06-01 10:25:38.000000 │\n",
       "└────────────────────────────┘"
      ]
     },
     "execution_count": 172,
     "metadata": {},
     "output_type": "execute_result"
    }
   ],
   "source": [
    "df_behaviors_timestamp = (\n",
    "    df_behaviors.select(\n",
    "        pl.col(DEFAULT_IMPRESSION_TIMESTAMP_COL).cast(pl.Utf8),\n",
    "    )\n",
    "    .collect()\n",
    ")\n",
    "behaviors_timestamp_dict = {\n",
    "    DEFAULT_IMPRESSION_TIMESTAMP_COL: df_behaviors_timestamp[\n",
    "        DEFAULT_IMPRESSION_TIMESTAMP_COL\n",
    "    ].to_list()\n",
    "}\n",
    "write_json_file(\n",
    "    behaviors_timestamp_dict, path_beyond.joinpath(BEHAVIORS_TIMESTAMP_DICT)\n",
    ")\n",
    "print(f\"Dump: {path_beyond.joinpath(BEHAVIORS_TIMESTAMP_DICT)}\")\n",
    "df_behaviors_timestamp.head(3)"
   ]
  },
  {
   "cell_type": "markdown",
   "metadata": {},
   "source": [
    "## Make Candidate lookup dict"
   ]
  },
  {
   "cell_type": "markdown",
   "metadata": {},
   "source": [
    "### Select Candidate articles"
   ]
  },
  {
   "cell_type": "code",
   "execution_count": 173,
   "metadata": {},
   "outputs": [],
   "source": [
    "### Make candidate lookup dictionary for beyond-accuracy:\n",
    "# =>\n",
    "candidate_articles = (\n",
    "    df_articles.filter(pl.col(DEFAULT_ARTICLE_ID_COL).is_in(candidate_list))\n",
    "    .with_columns(\n",
    "        pl.col(\n",
    "            DEFAULT_ARTICLE_MODIFIED_TIMESTAMP_COL,\n",
    "            DEFAULT_ARTICLE_PUBLISHED_TIMESTAMP_COL,\n",
    "        ).cast(pl.Utf8)\n",
    "    )\n",
    "    # Zeros might cause issues\n",
    "    .with_columns(\n",
    "        pl.col(DEFAULT_TOTAL_INVIEWS_COL, DEFAULT_TOTAL_PAGEVIEWS_COL).fill_null(1)\n",
    "    )\n",
    "    .collect()\n",
    ")"
   ]
  },
  {
   "cell_type": "markdown",
   "metadata": {},
   "source": [
    "### Add embeddings representations"
   ]
  },
  {
   "cell_type": "code",
   "execution_count": 174,
   "metadata": {},
   "outputs": [
    {
     "data": {
      "text/html": [
       "<div><style>\n",
       ".dataframe > thead > tr,\n",
       ".dataframe > tbody > tr {\n",
       "  text-align: right;\n",
       "  white-space: pre-wrap;\n",
       "}\n",
       "</style>\n",
       "<small>shape: (2, 25)</small><table border=\"1\" class=\"dataframe\"><thead><tr><th>article_id</th><th>title</th><th>subtitle</th><th>last_modified_time</th><th>premium</th><th>body</th><th>published_time</th><th>image_ids</th><th>article_type</th><th>url</th><th>ner_clusters</th><th>entity_groups</th><th>topics</th><th>category</th><th>subcategory</th><th>category_str</th><th>total_inviews</th><th>total_pageviews</th><th>total_read_time</th><th>sentiment_score</th><th>sentiment_label</th><th>contrastive_vector</th><th>FacebookAI/xlm-roberta-base</th><th>google-bert/bert-base-multilingual-cased</th><th>document_vector</th></tr><tr><td>i32</td><td>str</td><td>str</td><td>str</td><td>bool</td><td>str</td><td>str</td><td>list[i64]</td><td>str</td><td>str</td><td>list[str]</td><td>list[str]</td><td>list[str]</td><td>i16</td><td>list[i16]</td><td>str</td><td>i32</td><td>i32</td><td>f32</td><td>f32</td><td>str</td><td>list[f32]</td><td>list[f32]</td><td>list[f32]</td><td>list[f32]</td></tr></thead><tbody><tr><td>9777912</td><td>&quot;Stort galleri:…</td><td>&quot;Den tyske topm…</td><td>&quot;2023-10-11 05:…</td><td>true</td><td>&quot;Heidi Klums la…</td><td>&quot;2023-06-01 11:…</td><td>[9777875, 9777930, … 9777889]</td><td>&quot;article_defaul…</td><td>&quot;https://ekstra…</td><td>[&quot;Bergisch Gladbach&quot;, &quot;Flavio Briatore&quot;, … &quot;Heidi Klums&quot;]</td><td>[&quot;LOC&quot;, &quot;PER&quot;, … &quot;PER&quot;]</td><td>[&quot;Kendt&quot;, &quot;Livsstil&quot;, &quot;Underholdning&quot;]</td><td>414</td><td>[432]</td><td>&quot;underholdning&quot;</td><td>793993</td><td>40407</td><td>1.742984e6</td><td>0.5703</td><td>&quot;Neutral&quot;</td><td>[-0.046561, -0.017556, … 0.003914]</td><td>[0.095054, 0.096886, … -0.013514]</td><td>[-0.097854, 0.062035, … -0.098488]</td><td>[0.071191, 0.016312, … 0.020225]</td></tr><tr><td>9780773</td><td>&quot;Afsløring: Hvi…</td><td>&quot;Hovsa:&quot;</td><td>&quot;2023-06-29 06:…</td><td>false</td><td>&quot;Ved du noget o…</td><td>&quot;2023-06-01 18:…</td><td>[9789766, 9791805]</td><td>&quot;article_defaul…</td><td>&quot;https://ekstra…</td><td>[&quot;Allan Melander&quot;, &quot;Christian Bartholdy&quot;, … &quot;Strandgade&quot;]</td><td>[&quot;PER&quot;, &quot;PER&quot;, … &quot;LOC&quot;]</td><td>[&quot;Kriminalitet&quot;, &quot;Bedrageri&quot;, … &quot;Økonomi&quot;]</td><td>118</td><td>[133]</td><td>&quot;nyheder&quot;</td><td>343369</td><td>63807</td><td>5.806831e6</td><td>0.9254</td><td>&quot;Negative&quot;</td><td>[-0.006871, 0.040639, … 0.142761]</td><td>[0.106638, 0.110743, … -0.012386]</td><td>[-0.083905, 0.007199, … 0.000927]</td><td>[0.000026, -0.042221, … 0.011401]</td></tr></tbody></table></div>"
      ],
      "text/plain": [
       "shape: (2, 25)\n",
       "┌───────────┬───────────┬───────────┬───────────┬───┬───────────┬───────────┬───────────┬──────────┐\n",
       "│ article_i ┆ title     ┆ subtitle  ┆ last_modi ┆ … ┆ contrasti ┆ FacebookA ┆ google-be ┆ document │\n",
       "│ d         ┆ ---       ┆ ---       ┆ fied_time ┆   ┆ ve_vector ┆ I/xlm-rob ┆ rt/bert-b ┆ _vector  │\n",
       "│ ---       ┆ str       ┆ str       ┆ ---       ┆   ┆ ---       ┆ erta-base ┆ ase-multi ┆ ---      │\n",
       "│ i32       ┆           ┆           ┆ str       ┆   ┆ list[f32] ┆ ---       ┆ lingu…    ┆ list[f32 │\n",
       "│           ┆           ┆           ┆           ┆   ┆           ┆ list[f32] ┆ ---       ┆ ]        │\n",
       "│           ┆           ┆           ┆           ┆   ┆           ┆           ┆ list[f32] ┆          │\n",
       "╞═══════════╪═══════════╪═══════════╪═══════════╪═══╪═══════════╪═══════════╪═══════════╪══════════╡\n",
       "│ 9777912   ┆ Stort     ┆ Den tyske ┆ 2023-10-1 ┆ … ┆ [-0.04656 ┆ [0.095054 ┆ [-0.09785 ┆ [0.07119 │\n",
       "│           ┆ galleri:  ┆ topmodel, ┆ 1 05:20:0 ┆   ┆ 1, -0.017 ┆ ,         ┆ 4,        ┆ 1, 0.016 │\n",
       "│           ┆ Topmodel  ┆ tv-vært   ┆ 1.000000  ┆   ┆ 556, …    ┆ 0.096886, ┆ 0.062035, ┆ 312, …   │\n",
       "│           ┆ fylder 5… ┆ og p…     ┆           ┆   ┆ 0.00391…  ┆ … -0.0135 ┆ …         ┆ 0.020225 │\n",
       "│           ┆           ┆           ┆           ┆   ┆           ┆ 14…       ┆ -0.09848… ┆ ]        │\n",
       "│ 9780773   ┆ Afsløring ┆ Hovsa:    ┆ 2023-06-2 ┆ … ┆ [-0.00687 ┆ [0.106638 ┆ [-0.08390 ┆ [0.00002 │\n",
       "│           ┆ : Hvidvas ┆           ┆ 9 06:49:0 ┆   ┆ 1,        ┆ ,         ┆ 5,        ┆ 6, -0.04 │\n",
       "│           ┆ k-firma   ┆           ┆ 4.000000  ┆   ┆ 0.040639, ┆ 0.110743, ┆ 0.007199, ┆ 2221, …  │\n",
       "│           ┆ arbejd…   ┆           ┆           ┆   ┆ …         ┆ … -0.0123 ┆ …         ┆ 0.011401 │\n",
       "│           ┆           ┆           ┆           ┆   ┆ 0.142761… ┆ 86…       ┆ 0.000927… ┆ …        │\n",
       "└───────────┴───────────┴───────────┴───────────┴───┴───────────┴───────────┴───────────┴──────────┘"
      ]
     },
     "execution_count": 174,
     "metadata": {},
     "output_type": "execute_result"
    }
   ],
   "source": [
    "# => Embeddings:\n",
    "def load_join_embeddings(df:pl.DataFrame, emb_path:Path) -> pl.DataFrame:\n",
    "    emb_contrastive = (\n",
    "        pl.scan_parquet(\n",
    "            path.parent.joinpath(emb_path)\n",
    "        )\n",
    "        .filter(\n",
    "            pl.col(DEFAULT_ARTICLE_ID_COL).is_in(df.select(DEFAULT_ARTICLE_ID_COL))\n",
    "        ).collect()\n",
    "    )\n",
    "    return df.join(emb_contrastive, on=DEFAULT_ARTICLE_ID_COL, how = \"left\")\n",
    "\n",
    "candidate_articles = (\n",
    "    candidate_articles.pipe(\n",
    "        load_join_embeddings,\n",
    "        emb_path=\"embeddings/Ekstra_Bladet_contrastive_vector/contrastive_vector.parquet\",\n",
    "    )\n",
    "    .pipe(\n",
    "        load_join_embeddings,\n",
    "        emb_path=\"embeddings/FacebookAI_xlm_roberta_base/xlm_roberta_base.parquet\",\n",
    "    )\n",
    "    .pipe(\n",
    "        load_join_embeddings,\n",
    "        emb_path=\"embeddings/google_bert_base_multilingual_cased/bert_base_multilingual_cased.parquet\"\n",
    "    )\n",
    "    .pipe(\n",
    "        load_join_embeddings,\n",
    "        emb_path=\"embeddings/Ekstra_Bladet_word2vec/document_vector.parquet\"\n",
    "    )\n",
    ")\n",
    "candidate_articles.head(2)"
   ]
  },
  {
   "cell_type": "markdown",
   "metadata": {},
   "source": [
    "### Convert to lookup dictionary:"
   ]
  },
  {
   "cell_type": "code",
   "execution_count": 175,
   "metadata": {},
   "outputs": [
    {
     "name": "stdout",
     "output_type": "stream",
     "text": [
      "Dump: ../downloads/demo/beyond_accuracy/candidate_dict.json\n"
     ]
    }
   ],
   "source": [
    "candidate_dict = {}\n",
    "for row in candidate_articles.iter_rows(named=True):\n",
    "    # Note, all keys in dictionaries are converted to strings, when serializing an object to JSON format.\n",
    "    candidate_dict[str(row[DEFAULT_ARTICLE_ID_COL])] = row\n",
    "# Write it:\n",
    "write_json_file(candidate_dict, path_beyond.joinpath(CANDIDATE_DICT))\n",
    "print(f\"Dump: {path_beyond.joinpath(CANDIDATE_DICT)}\")"
   ]
  },
  {
   "cell_type": "markdown",
   "metadata": {},
   "source": [
    "## Make Baselines"
   ]
  },
  {
   "cell_type": "markdown",
   "metadata": {},
   "source": [
    "Make a couple *Baselines* based on the candidate-list:\n",
    "1. @EditorialPicks\n",
    "2. @Random\n",
    "3. @Popular\n",
    "4. @Newest\n",
    "<!-- 4. @5 sim/dis similarity -->"
   ]
  },
  {
   "cell_type": "code",
   "execution_count": null,
   "metadata": {},
   "outputs": [],
   "source": []
  }
 ],
 "metadata": {
  "kernelspec": {
   "display_name": "Python 3",
   "language": "python",
   "name": "python3"
  },
  "language_info": {
   "codemirror_mode": {
    "name": "ipython",
    "version": 3
   },
   "file_extension": ".py",
   "mimetype": "text/x-python",
   "name": "python",
   "nbconvert_exporter": "python",
   "pygments_lexer": "ipython3",
   "version": "3.11.7"
  }
 },
 "nbformat": 4,
 "nbformat_minor": 2
}
